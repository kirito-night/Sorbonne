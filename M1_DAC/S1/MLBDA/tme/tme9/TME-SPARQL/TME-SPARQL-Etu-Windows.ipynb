{
 "cells": [
  {
   "cell_type": "markdown",
   "metadata": {},
   "source": [
    "# TD-TME SPARQL (utilisateurs Windows)"
   ]
  },
  {
   "cell_type": "markdown",
   "metadata": {},
   "source": [
    "## Préparation"
   ]
  },
  {
   "cell_type": "code",
   "execution_count": 1,
   "metadata": {},
   "outputs": [
    {
     "data": {
      "text/html": [
       "<div class=\"krn-spql\"><div class=\"magic\">Endpoint set to: http://localhost:3030/ds</div><div class=\"magic\">Label preferred languages: ['en']</div><div class=\"magic\">Logging set to DEBUG</div></div>"
      ],
      "text/plain": [
       "Endpoint set to: http://localhost:3030/ds\n",
       "Label preferred languages: ['en']\n",
       "Logging set to DEBUG\n"
      ]
     },
     "metadata": {},
     "output_type": "display_data"
    }
   ],
   "source": [
    "%endpoint http://localhost:3030/ds\n",
    "%lang en\n",
    "%log debug"
   ]
  },
  {
   "cell_type": "markdown",
   "metadata": {},
   "source": [
    "## Exercice 1"
   ]
  },
  {
   "cell_type": "raw",
   "metadata": {},
   "source": [
    "Pour cet exercice, nous allons interroger le graphe http://mlbda/ex1"
   ]
  },
  {
   "cell_type": "markdown",
   "metadata": {},
   "source": [
    "### Insertions des données"
   ]
  },
  {
   "cell_type": "code",
   "execution_count": 2,
   "metadata": {},
   "outputs": [
    {
     "data": {
      "text/html": [
       "<html>\n",
       "<head>\n",
       "</head>\n",
       "<body>\n",
       "<h1>Success</h1>\n",
       "<p>\n",
       "Update succeeded\n",
       "</p>\n",
       "</body>\n",
       "</html>\n"
      ]
     },
     "metadata": {},
     "output_type": "display_data"
    }
   ],
   "source": [
    "base <http://example.org/> \n",
    "prefix rel: <http://www.perceive.net/schemas/relationship/> \n",
    "\n",
    "DELETE DATA\n",
    "{ GRAPH <http://mlbda/ex1> {}\n",
    " }"
   ]
  },
  {
   "cell_type": "code",
   "execution_count": 5,
   "metadata": {},
   "outputs": [
    {
     "data": {
      "text/html": [
       "<html>\n",
       "<head>\n",
       "</head>\n",
       "<body>\n",
       "<h1>Success</h1>\n",
       "<p>\n",
       "Update succeeded\n",
       "</p>\n",
       "</body>\n",
       "</html>\n"
      ]
     },
     "metadata": {},
     "output_type": "display_data"
    }
   ],
   "source": [
    "base <http://example.org/> \n",
    "prefix rdf: <http://www.w3.org/1999/02/22-rdf-syntax-ns#> \n",
    "prefix rdfs: <http://www.w3.org/2000/01/rdf-schema#> \n",
    "prefix foaf: <http://xmlns.com/foaf/0.1/> \n",
    "prefix rel: <http://www.perceive.net/schemas/relationship/> \n",
    "\n",
    "insert data \n",
    "{ graph <http://mlbda/ex1> {\n",
    "<#green-goblin>\n",
    "    rel:enemyOf <#spiderman> ;\n",
    "    a foaf:Person ;    # in the context of the Marvel universe\n",
    "    foaf:name \"Green Goblin\" .\n",
    "<#spiderman>\n",
    "    rel:enemyOf <#green-goblin> ;\n",
    "    a foaf:Person ;\n",
    "    foaf:name \"Spiderman\", \"Человек-паук\"@ru .\n",
    "    }\n",
    " }"
   ]
  },
  {
   "cell_type": "code",
   "execution_count": 6,
   "metadata": {},
   "outputs": [
    {
     "data": {
      "text/html": [
       "<div class=\"krn-spql\"><table><tr class=hdr><th>nb_sujets</th>\n",
       "<th>nb_props</th>\n",
       "<th>nb_objets</th></tr><tr class=odd><td class=val>2</td>\n",
       "<td class=val>3</td>\n",
       "<td class=val>6</td></tr></table><div class=\"tinfo\">Total: 1, Shown: 1</div></div>"
      ]
     },
     "metadata": {},
     "output_type": "display_data"
    }
   ],
   "source": [
    "select (count(distinct ?s) as ?nb_sujets) (count(distinct ?p) as ?nb_props) (count(distinct ?o) as ?nb_objets)\n",
    "from <http://mlbda/ex1>\n",
    "where {?s ?p ?o}\n"
   ]
  },
  {
   "cell_type": "markdown",
   "metadata": {},
   "source": [
    "## Exercice 2"
   ]
  },
  {
   "cell_type": "raw",
   "metadata": {},
   "source": [
    "Pour cet exercice, nous allons interroger le graphe http://mlbda/ex2"
   ]
  },
  {
   "cell_type": "code",
   "execution_count": 11,
   "metadata": {},
   "outputs": [
    {
     "data": {
      "text/html": [
       "<html>\n",
       "<head>\n",
       "</head>\n",
       "<body>\n",
       "<h1>Success</h1>\n",
       "<p>\n",
       "Update succeeded\n",
       "</p>\n",
       "</body>\n",
       "</html>\n"
      ]
     },
     "metadata": {},
     "output_type": "display_data"
    }
   ],
   "source": [
    "base <http://example.org/> \n",
    "\n",
    "DELETE DATA\n",
    "{ GRAPH <http://mlbda/ex2> {}\n",
    " }"
   ]
  },
  {
   "cell_type": "code",
   "execution_count": 12,
   "metadata": {},
   "outputs": [
    {
     "data": {
      "text/html": [
       "<html>\n",
       "<head>\n",
       "</head>\n",
       "<body>\n",
       "<h1>Success</h1>\n",
       "<p>\n",
       "Update succeeded\n",
       "</p>\n",
       "</body>\n",
       "</html>\n"
      ]
     },
     "metadata": {},
     "output_type": "display_data"
    }
   ],
   "source": [
    "prefix : <http://example.org/> \n",
    "\n",
    "insert data \n",
    "{ graph <http://mlbda/ex2> {\n",
    ":P1    :name        \"john\" .\n",
    ":P2    :name        \"rick\" .\n",
    ":P3    :name       \"lars\" .\n",
    ":P4    :name        \"liz\" .\n",
    ":P1    :phone        \"11-345-89\" .\n",
    ":P2    :email        \"rick@org\" .\n",
    ":P3    :webpage    \"www.lars.com\" .\n",
    ":P4    :email        \"liz@aut.gov\" .\n",
    ":P4    :phone        \"09-134-21\" .\n",
    ":P4    :webpage    \"www.liz.pers\" \n",
    "    }\n",
    "}"
   ]
  },
  {
   "cell_type": "code",
   "execution_count": 13,
   "metadata": {},
   "outputs": [
    {
     "data": {
      "text/html": [
       "<div class=\"krn-spql\"><table><tr class=hdr><th>nb_sujets</th>\n",
       "<th>nb_props</th>\n",
       "<th>nb_objets</th></tr><tr class=odd><td class=val>4</td>\n",
       "<td class=val>4</td>\n",
       "<td class=val>10</td></tr></table><div class=\"tinfo\">Total: 1, Shown: 1</div></div>"
      ]
     },
     "metadata": {},
     "output_type": "display_data"
    }
   ],
   "source": [
    "select (count(distinct ?s) as ?nb_sujets) (count(distinct ?p) as ?nb_props) (count(distinct ?o) as ?nb_objets)\n",
    "from <http://mlbda/ex2>\n",
    "where {?s ?p ?o}"
   ]
  },
  {
   "cell_type": "markdown",
   "metadata": {},
   "source": [
    "### Evaluation des motifs"
   ]
  },
  {
   "cell_type": "code",
   "execution_count": 79,
   "metadata": {},
   "outputs": [
    {
     "data": {
      "text/html": [
       "<div class=\"krn-spql\"><table><tr class=hdr><th>s</th>\n",
       "<th>p</th>\n",
       "<th>o</th></tr><tr class=odd><td class=val><a href=\"http://example.org/P2\" target=\"_other\">http://example.org/P2</a></td>\n",
       "<td class=val><a href=\"http://example.org/email\" target=\"_other\">http://example.org/email</a></td>\n",
       "<td class=val>rick@org</td></tr><tr class=even><td class=val><a href=\"http://example.org/P2\" target=\"_other\">http://example.org/P2</a></td>\n",
       "<td class=val><a href=\"http://example.org/name\" target=\"_other\">http://example.org/name</a></td>\n",
       "<td class=val>rick</td></tr><tr class=odd><td class=val><a href=\"http://example.org/P1\" target=\"_other\">http://example.org/P1</a></td>\n",
       "<td class=val><a href=\"http://example.org/name\" target=\"_other\">http://example.org/name</a></td>\n",
       "<td class=val>john</td></tr><tr class=even><td class=val><a href=\"http://example.org/P1\" target=\"_other\">http://example.org/P1</a></td>\n",
       "<td class=val><a href=\"http://example.org/phone\" target=\"_other\">http://example.org/phone</a></td>\n",
       "<td class=val>11-345-89</td></tr><tr class=odd><td class=val><a href=\"http://example.org/P3\" target=\"_other\">http://example.org/P3</a></td>\n",
       "<td class=val><a href=\"http://example.org/name\" target=\"_other\">http://example.org/name</a></td>\n",
       "<td class=val>lars</td></tr><tr class=even><td class=val><a href=\"http://example.org/P3\" target=\"_other\">http://example.org/P3</a></td>\n",
       "<td class=val><a href=\"http://example.org/webpage\" target=\"_other\">http://example.org/webpage</a></td>\n",
       "<td class=val>www.lars.com</td></tr><tr class=odd><td class=val><a href=\"http://example.org/P4\" target=\"_other\">http://example.org/P4</a></td>\n",
       "<td class=val><a href=\"http://example.org/email\" target=\"_other\">http://example.org/email</a></td>\n",
       "<td class=val>liz@aut.gov</td></tr><tr class=even><td class=val><a href=\"http://example.org/P4\" target=\"_other\">http://example.org/P4</a></td>\n",
       "<td class=val><a href=\"http://example.org/name\" target=\"_other\">http://example.org/name</a></td>\n",
       "<td class=val>liz</td></tr><tr class=odd><td class=val><a href=\"http://example.org/P4\" target=\"_other\">http://example.org/P4</a></td>\n",
       "<td class=val><a href=\"http://example.org/phone\" target=\"_other\">http://example.org/phone</a></td>\n",
       "<td class=val>09-134-21</td></tr><tr class=even><td class=val><a href=\"http://example.org/P4\" target=\"_other\">http://example.org/P4</a></td>\n",
       "<td class=val><a href=\"http://example.org/webpage\" target=\"_other\">http://example.org/webpage</a></td>\n",
       "<td class=val>www.liz.pers</td></tr></table><div class=\"tinfo\">Total: 10, Shown: 10</div></div>"
      ]
     },
     "metadata": {},
     "output_type": "display_data"
    }
   ],
   "source": [
    "prefix : <http://example.org/>\n",
    "select *\n",
    "from <http://mlbda/ex2>\n",
    "where {?s ?p ?o}"
   ]
  },
  {
   "cell_type": "markdown",
   "metadata": {},
   "source": [
    "#### 1-a- les personnes ayant un email et une page web"
   ]
  },
  {
   "cell_type": "code",
   "execution_count": 63,
   "metadata": {},
   "outputs": [
    {
     "data": {
      "text/html": [
       "<div class=\"krn-spql\"><table><tr class=hdr><th>p</th>\n",
       "<th>e</th>\n",
       "<th>w</th></tr><tr class=odd><td class=val><a href=\"http://example.org/P4\" target=\"_other\">http://example.org/P4</a></td>\n",
       "<td class=val>liz@aut.gov</td>\n",
       "<td class=val>www.liz.pers</td></tr></table><div class=\"tinfo\">Total: 1, Shown: 1</div></div>"
      ]
     },
     "metadata": {},
     "output_type": "display_data"
    }
   ],
   "source": [
    "prefix : <http://example.org/>\n",
    "select *\n",
    "from <http://mlbda/ex2>\n",
    "where {?p :email ?e . ?p :webpage ?w}\n"
   ]
  },
  {
   "cell_type": "markdown",
   "metadata": {},
   "source": [
    "#### 1-b- les personnes ayant soit un email soit une page web soit les deux"
   ]
  },
  {
   "cell_type": "code",
   "execution_count": 64,
   "metadata": {},
   "outputs": [
    {
     "data": {
      "text/html": [
       "<div class=\"krn-spql\"><table><tr class=hdr><th>p</th>\n",
       "<th>e</th>\n",
       "<th>w</th></tr><tr class=odd><td class=val><a href=\"http://example.org/P2\" target=\"_other\">http://example.org/P2</a></td>\n",
       "<td class=val>rick@org</td>\n",
       "<td class=val></td></tr><tr class=even><td class=val><a href=\"http://example.org/P4\" target=\"_other\">http://example.org/P4</a></td>\n",
       "<td class=val>liz@aut.gov</td>\n",
       "<td class=val></td></tr><tr class=odd><td class=val><a href=\"http://example.org/P3\" target=\"_other\">http://example.org/P3</a></td>\n",
       "<td class=val></td>\n",
       "<td class=val>www.lars.com</td></tr><tr class=even><td class=val><a href=\"http://example.org/P4\" target=\"_other\">http://example.org/P4</a></td>\n",
       "<td class=val></td>\n",
       "<td class=val>www.liz.pers</td></tr></table><div class=\"tinfo\">Total: 4, Shown: 4</div></div>"
      ]
     },
     "metadata": {},
     "output_type": "display_data"
    }
   ],
   "source": [
    "prefix : <http://example.org/>\n",
    "select *\n",
    "from <http://mlbda/ex2>\n",
    "where {{?p :email ?e} UNION {?p :webpage ?w}}"
   ]
  },
  {
   "cell_type": "markdown",
   "metadata": {},
   "source": [
    "#### 1-c-  les personnes ayant nécessairement un email et éventuellement une page web qu’on retourne"
   ]
  },
  {
   "cell_type": "code",
   "execution_count": 65,
   "metadata": {},
   "outputs": [
    {
     "data": {
      "text/html": [
       "<div class=\"krn-spql\"><table><tr class=hdr><th>p</th>\n",
       "<th>e</th>\n",
       "<th>w</th></tr><tr class=odd><td class=val><a href=\"http://example.org/P2\" target=\"_other\">http://example.org/P2</a></td>\n",
       "<td class=val>rick@org</td>\n",
       "<td class=val></td></tr><tr class=even><td class=val><a href=\"http://example.org/P4\" target=\"_other\">http://example.org/P4</a></td>\n",
       "<td class=val>liz@aut.gov</td>\n",
       "<td class=val>www.liz.pers</td></tr></table><div class=\"tinfo\">Total: 2, Shown: 2</div></div>"
      ]
     },
     "metadata": {},
     "output_type": "display_data"
    }
   ],
   "source": [
    "prefix : <http://example.org/>\n",
    "select *\n",
    "from <http://mlbda/ex2>\n",
    "where {{?p :email ?e} OPTIONAL {?p :webpage ?w}}"
   ]
  },
  {
   "cell_type": "markdown",
   "metadata": {},
   "source": [
    "#### 2-les personnes ayant nécessairement un nom éventuellement un email ou une page web\n"
   ]
  },
  {
   "cell_type": "code",
   "execution_count": 66,
   "metadata": {},
   "outputs": [
    {
     "data": {
      "text/html": [
       "<div class=\"krn-spql\"><table><tr class=hdr><th>p</th>\n",
       "<th>n</th>\n",
       "<th>e</th>\n",
       "<th>w</th></tr><tr class=odd><td class=val><a href=\"http://example.org/P2\" target=\"_other\">http://example.org/P2</a></td>\n",
       "<td class=val>rick</td>\n",
       "<td class=val>rick@org</td>\n",
       "<td class=val></td></tr><tr class=even><td class=val><a href=\"http://example.org/P1\" target=\"_other\">http://example.org/P1</a></td>\n",
       "<td class=val>john</td>\n",
       "<td class=val></td>\n",
       "<td class=val></td></tr><tr class=odd><td class=val><a href=\"http://example.org/P3\" target=\"_other\">http://example.org/P3</a></td>\n",
       "<td class=val>lars</td>\n",
       "<td class=val></td>\n",
       "<td class=val>www.lars.com</td></tr><tr class=even><td class=val><a href=\"http://example.org/P4\" target=\"_other\">http://example.org/P4</a></td>\n",
       "<td class=val>liz</td>\n",
       "<td class=val>liz@aut.gov</td>\n",
       "<td class=val>www.liz.pers</td></tr></table><div class=\"tinfo\">Total: 4, Shown: 4</div></div>"
      ]
     },
     "metadata": {},
     "output_type": "display_data"
    }
   ],
   "source": [
    "prefix : <http://example.org/>\n",
    "select *\n",
    "from <http://mlbda/ex2>\n",
    "where {?p :name ?n OPTIONAL {?p :email ?e} OPTIONAL {?p :webpage ?w}}"
   ]
  },
  {
   "cell_type": "markdown",
   "metadata": {},
   "source": [
    "#### 3- les personnes ayant un nom avec leur email s’ils en ont un et si c’est le cas retourner leur page web s’ils en ont une"
   ]
  },
  {
   "cell_type": "code",
   "execution_count": 68,
   "metadata": {},
   "outputs": [
    {
     "data": {
      "text/html": [
       "<div class=\"krn-spql\"><table><tr class=hdr><th>p</th>\n",
       "<th>n</th>\n",
       "<th>e</th>\n",
       "<th>w</th></tr><tr class=odd><td class=val><a href=\"http://example.org/P2\" target=\"_other\">http://example.org/P2</a></td>\n",
       "<td class=val>rick</td>\n",
       "<td class=val>rick@org</td>\n",
       "<td class=val></td></tr><tr class=even><td class=val><a href=\"http://example.org/P1\" target=\"_other\">http://example.org/P1</a></td>\n",
       "<td class=val>john</td>\n",
       "<td class=val></td>\n",
       "<td class=val></td></tr><tr class=odd><td class=val><a href=\"http://example.org/P3\" target=\"_other\">http://example.org/P3</a></td>\n",
       "<td class=val>lars</td>\n",
       "<td class=val></td>\n",
       "<td class=val></td></tr><tr class=even><td class=val><a href=\"http://example.org/P4\" target=\"_other\">http://example.org/P4</a></td>\n",
       "<td class=val>liz</td>\n",
       "<td class=val>liz@aut.gov</td>\n",
       "<td class=val>www.liz.pers</td></tr></table><div class=\"tinfo\">Total: 4, Shown: 4</div></div>"
      ]
     },
     "metadata": {},
     "output_type": "display_data"
    }
   ],
   "source": [
    "prefix : <http://example.org/>\n",
    "select *\n",
    "from <http://mlbda/ex2>\n",
    "where {?p :name ?n OPTIONAL { ?p :email ?e OPTIONAL {?p :webpage ?w} }}"
   ]
  },
  {
   "cell_type": "markdown",
   "metadata": {},
   "source": [
    "#### 4- les personnes ayant un nom et soit un email soit un telephone soit les deux"
   ]
  },
  {
   "cell_type": "code",
   "execution_count": 73,
   "metadata": {},
   "outputs": [
    {
     "data": {
      "text/html": [
       "<div class=\"krn-spql\"><table><tr class=hdr><th>p</th>\n",
       "<th>n</th>\n",
       "<th>e</th>\n",
       "<th>l</th></tr><tr class=odd><td class=val><a href=\"http://example.org/P2\" target=\"_other\">http://example.org/P2</a></td>\n",
       "<td class=val>rick</td>\n",
       "<td class=val>rick@org</td>\n",
       "<td class=val></td></tr><tr class=even><td class=val><a href=\"http://example.org/P1\" target=\"_other\">http://example.org/P1</a></td>\n",
       "<td class=val>john</td>\n",
       "<td class=val></td>\n",
       "<td class=val>11-345-89</td></tr><tr class=odd><td class=val><a href=\"http://example.org/P4\" target=\"_other\">http://example.org/P4</a></td>\n",
       "<td class=val>liz</td>\n",
       "<td class=val>liz@aut.gov</td>\n",
       "<td class=val></td></tr><tr class=even><td class=val><a href=\"http://example.org/P4\" target=\"_other\">http://example.org/P4</a></td>\n",
       "<td class=val>liz</td>\n",
       "<td class=val></td>\n",
       "<td class=val>09-134-21</td></tr></table><div class=\"tinfo\">Total: 4, Shown: 4</div></div>"
      ]
     },
     "metadata": {},
     "output_type": "display_data"
    }
   ],
   "source": [
    "prefix : <http://example.org/>\n",
    "select *\n",
    "from <http://mlbda/ex2>\n",
    "where {?p :name ?n . {{?p :email ?e} UNION{?p :phone ?l}}}"
   ]
  },
  {
   "cell_type": "markdown",
   "metadata": {},
   "source": [
    "#### 5-a- les personnes ayant une pageweb mais pas de téléphone sans minus"
   ]
  },
  {
   "cell_type": "code",
   "execution_count": 74,
   "metadata": {},
   "outputs": [
    {
     "data": {
      "text/html": [
       "<div class=\"krn-spql\"><table><tr class=hdr><th>p</th>\n",
       "<th>w</th>\n",
       "<th>l</th></tr><tr class=odd><td class=val><a href=\"http://example.org/P3\" target=\"_other\">http://example.org/P3</a></td>\n",
       "<td class=val>www.lars.com</td>\n",
       "<td class=val></td></tr></table><div class=\"tinfo\">Total: 1, Shown: 1</div></div>"
      ]
     },
     "metadata": {},
     "output_type": "display_data"
    }
   ],
   "source": [
    "prefix : <http://example.org/>\n",
    "select *\n",
    "from <http://mlbda/ex2>\n",
    "where {?p :webpage ?w OPTIONAL {?p :phone ?l} FILTER ( ! bound(?l))}"
   ]
  },
  {
   "cell_type": "markdown",
   "metadata": {},
   "source": [
    "#### 5-b- les personnes ayant une pageweb mais pas de téléphone avec minus"
   ]
  },
  {
   "cell_type": "code",
   "execution_count": 75,
   "metadata": {},
   "outputs": [
    {
     "data": {
      "text/html": [
       "<div class=\"krn-spql\"><table><tr class=hdr><th>p</th>\n",
       "<th>w</th></tr><tr class=odd><td class=val><a href=\"http://example.org/P3\" target=\"_other\">http://example.org/P3</a></td>\n",
       "<td class=val>www.lars.com</td></tr></table><div class=\"tinfo\">Total: 1, Shown: 1</div></div>"
      ]
     },
     "metadata": {},
     "output_type": "display_data"
    }
   ],
   "source": [
    "prefix : <http://example.org/>\n",
    "select *\n",
    "from <http://mlbda/ex2>\n",
    "where{?p :webpage ?w minus {?p :phone ?l}}\n"
   ]
  },
  {
   "cell_type": "code",
   "execution_count": null,
   "metadata": {},
   "outputs": [],
   "source": []
  },
  {
   "cell_type": "markdown",
   "metadata": {},
   "source": [
    "## Exercice 3"
   ]
  },
  {
   "cell_type": "code",
   "execution_count": null,
   "metadata": {},
   "outputs": [],
   "source": [
    "Pour cet exercice, nous allons interroger le graphe http://mlbda/ex3"
   ]
  },
  {
   "cell_type": "code",
   "execution_count": 19,
   "metadata": {},
   "outputs": [
    {
     "data": {
      "text/html": [
       "<html>\n",
       "<head>\n",
       "</head>\n",
       "<body>\n",
       "<h1>Success</h1>\n",
       "<p>\n",
       "Update succeeded\n",
       "</p>\n",
       "</body>\n",
       "</html>\n"
      ]
     },
     "metadata": {},
     "output_type": "display_data"
    }
   ],
   "source": [
    "delete data {graph <http://mlbda/ex3> {}}"
   ]
  },
  {
   "cell_type": "code",
   "execution_count": 14,
   "metadata": {},
   "outputs": [
    {
     "data": {
      "text/html": [
       "<html>\n",
       "<head>\n",
       "</head>\n",
       "<body>\n",
       "<h1>Success</h1>\n",
       "<p>\n",
       "Update succeeded\n",
       "</p>\n",
       "</body>\n",
       "</html>\n"
      ]
     },
     "metadata": {},
     "output_type": "display_data"
    }
   ],
   "source": [
    "base <http://example.org/> \n",
    "prefix rdf: <http://www.w3.org/1999/02/22-rdf-syntax-ns#> \n",
    "prefix rdfs: <http://www.w3.org/2000/01/rdf-schema#> \n",
    "prefix foaf: <http://xmlns.com/foaf/0.1/> \n",
    "prefix rel: <http://www.perceive.net/schemas/relationship/> \n",
    "prefix : <http://example.org/> \n",
    "prefix rdf: <http://www.w3.org/1999/02/22-rdf-syntax-ns#> \n",
    "prefix univ: <http://www.faculty.ac> \n",
    "\n",
    "insert data \n",
    "{graph <http://mlbda/ex3>{\n",
    "#rdf types\n",
    ":john       a               :Person .\n",
    ":liz        a               :Person .\n",
    ":robert     a               :Person .\n",
    ":dan        a               :Person .\n",
    ":J.Horrow   a               :Professor .\n",
    ":larry      a               :Artist .\n",
    ":cmu        a               :university .\n",
    ":mit        a               :institute .\n",
    ":mi         a               :state .\n",
    ":nyc        a               :City .\n",
    ":pittsburgh a               :City .\n",
    ":liz        :friend         :dan .\n",
    ":liz        :friend         :larry .\n",
    ":larry      :friend            :dan .\n",
    ":dan        :friend         :john .\n",
    "\n",
    "#family and friendships\n",
    ":john       :hasMother      :suzan .\n",
    ":john       :hasFather      :richard .\n",
    ":richard    :hasBrother     :luke .\n",
    ":john       :hasBrother     :richard .\n",
    ":larry      :hasFather      :john .\n",
    ":liz        :hasBrother     :robert .\n",
    ":liz        :hasFather      :luke .\n",
    ":liz        :hasMother      :monica .\n",
    ":larry      :friend         :liz .\n",
    ":dan        rel:ChildOf     univ:J.Horrow .\n",
    ":Jim        rel:ChildOf     univ:L.Yang .\n",
    ":J.Horrow   :studiedAt      :ucla .\n",
    "\n",
    "#POI\n",
    ":robert     :livesIn        :nyc .\n",
    ":liz        :livesIn        :westLafayette .\n",
    "\n",
    "#degree and university\n",
    ":luke       :hasDegree      \"Eng\" .\n",
    ":luke       :studiedAt      :cmu .\n",
    ":liz        :studiedAt      :cmu .\n",
    ":richard    :studiedAt      :mit .\n",
    ":suzan      :studiedAt      :ucsd .\n",
    ":monica     :supervisedBy   univ:L.Yang .\n",
    ":monica     :supervisedBy   univ:J.Horrow .\n",
    ":Jim        :studiedAt      :ucsb .\n",
    ":monica     :studiedAt      :cmu .\n",
    ":john       :studiedAt      :ucsd .\n",
    ":larry      :studiedAt      :ucsd . \n",
    "\n",
    "#misc descriptions\n",
    "\n",
    ":ucsb       :locatedAt      :santaBarbara .\n",
    ":cmu        :locatedAt      :pittsburgh .\n",
    "\n",
    "}}"
   ]
  },
  {
   "cell_type": "code",
   "execution_count": 15,
   "metadata": {},
   "outputs": [
    {
     "data": {
      "text/html": [
       "<div class=\"krn-spql\"><table><tr class=hdr><th>nb_sujets</th>\n",
       "<th>nb_props</th>\n",
       "<th>nb_objets</th></tr><tr class=odd><td class=val>17</td>\n",
       "<td class=val>11</td>\n",
       "<td class=val>28</td></tr></table><div class=\"tinfo\">Total: 1, Shown: 1</div></div>"
      ]
     },
     "metadata": {},
     "output_type": "display_data"
    }
   ],
   "source": [
    "select (count(distinct ?s) as ?nb_sujets) (count(distinct ?p) as ?nb_props) (count(distinct ?o) as ?nb_objets)\n",
    "from <http://mlbda/ex3>\n",
    "where {?s ?p ?o}"
   ]
  },
  {
   "cell_type": "markdown",
   "metadata": {},
   "source": [
    "### 1-a Extraire l’ensemble des IRI des sujets"
   ]
  },
  {
   "cell_type": "code",
   "execution_count": 76,
   "metadata": {},
   "outputs": [
    {
     "data": {
      "text/html": [
       "<div class=\"krn-spql\"><table><tr class=hdr><th>s</th></tr><tr class=odd><td class=val><a href=\"http://example.org/nyc\" target=\"_other\">http://example.org/nyc</a></td></tr><tr class=even><td class=val><a href=\"http://example.org/mi\" target=\"_other\">http://example.org/mi</a></td></tr><tr class=odd><td class=val><a href=\"http://example.org/J.Horrow\" target=\"_other\">http://example.org/J.Horrow</a></td></tr><tr class=even><td class=val><a href=\"http://example.org/monica\" target=\"_other\">http://example.org/monica</a></td></tr><tr class=odd><td class=val><a href=\"http://example.org/liz\" target=\"_other\">http://example.org/liz</a></td></tr><tr class=even><td class=val><a href=\"http://example.org/cmu\" target=\"_other\">http://example.org/cmu</a></td></tr><tr class=odd><td class=val><a href=\"http://example.org/larry\" target=\"_other\">http://example.org/larry</a></td></tr><tr class=even><td class=val><a href=\"http://example.org/ucsb\" target=\"_other\">http://example.org/ucsb</a></td></tr><tr class=odd><td class=val><a href=\"http://example.org/luke\" target=\"_other\">http://example.org/luke</a></td></tr><tr class=even><td class=val><a href=\"http://example.org/robert\" target=\"_other\">http://example.org/robert</a></td></tr><tr class=odd><td class=val><a href=\"http://example.org/suzan\" target=\"_other\">http://example.org/suzan</a></td></tr><tr class=even><td class=val><a href=\"http://example.org/john\" target=\"_other\">http://example.org/john</a></td></tr><tr class=odd><td class=val><a href=\"http://example.org/Jim\" target=\"_other\">http://example.org/Jim</a></td></tr><tr class=even><td class=val><a href=\"http://example.org/pittsburgh\" target=\"_other\">http://example.org/pittsburgh</a></td></tr><tr class=odd><td class=val><a href=\"http://example.org/richard\" target=\"_other\">http://example.org/richard</a></td></tr><tr class=even><td class=val><a href=\"http://example.org/dan\" target=\"_other\">http://example.org/dan</a></td></tr><tr class=odd><td class=val><a href=\"http://example.org/mit\" target=\"_other\">http://example.org/mit</a></td></tr></table><div class=\"tinfo\">Total: 17, Shown: 17</div></div>"
      ]
     },
     "metadata": {},
     "output_type": "display_data"
    }
   ],
   "source": [
    "select distinct ?s\n",
    "from <http://mlbda/ex3>\n",
    "where {?s ?p ?o}"
   ]
  },
  {
   "cell_type": "markdown",
   "metadata": {},
   "source": [
    "### 1-b Extraire l’ensemble des sujets avec leur noms locaux seulement\n"
   ]
  },
  {
   "cell_type": "code",
   "execution_count": 77,
   "metadata": {},
   "outputs": [
    {
     "data": {
      "text/html": [
       "<div class=\"krn-spql\"><table><tr class=hdr><th>s</th></tr><tr class=odd><td class=val><a href=\"http://example.org/nyc\" target=\"_other\">http://example.org/nyc</a></td></tr><tr class=even><td class=val><a href=\"http://example.org/mi\" target=\"_other\">http://example.org/mi</a></td></tr><tr class=odd><td class=val><a href=\"http://example.org/J.Horrow\" target=\"_other\">http://example.org/J.Horrow</a></td></tr><tr class=even><td class=val><a href=\"http://example.org/monica\" target=\"_other\">http://example.org/monica</a></td></tr><tr class=odd><td class=val><a href=\"http://example.org/liz\" target=\"_other\">http://example.org/liz</a></td></tr><tr class=even><td class=val><a href=\"http://example.org/cmu\" target=\"_other\">http://example.org/cmu</a></td></tr><tr class=odd><td class=val><a href=\"http://example.org/larry\" target=\"_other\">http://example.org/larry</a></td></tr><tr class=even><td class=val><a href=\"http://example.org/ucsb\" target=\"_other\">http://example.org/ucsb</a></td></tr><tr class=odd><td class=val><a href=\"http://example.org/luke\" target=\"_other\">http://example.org/luke</a></td></tr><tr class=even><td class=val><a href=\"http://example.org/robert\" target=\"_other\">http://example.org/robert</a></td></tr><tr class=odd><td class=val><a href=\"http://example.org/suzan\" target=\"_other\">http://example.org/suzan</a></td></tr><tr class=even><td class=val><a href=\"http://example.org/john\" target=\"_other\">http://example.org/john</a></td></tr><tr class=odd><td class=val><a href=\"http://example.org/Jim\" target=\"_other\">http://example.org/Jim</a></td></tr><tr class=even><td class=val><a href=\"http://example.org/pittsburgh\" target=\"_other\">http://example.org/pittsburgh</a></td></tr><tr class=odd><td class=val><a href=\"http://example.org/richard\" target=\"_other\">http://example.org/richard</a></td></tr><tr class=even><td class=val><a href=\"http://example.org/dan\" target=\"_other\">http://example.org/dan</a></td></tr><tr class=odd><td class=val><a href=\"http://example.org/mit\" target=\"_other\">http://example.org/mit</a></td></tr></table><div class=\"tinfo\">Total: 17, Shown: 17</div></div>"
      ]
     },
     "metadata": {},
     "output_type": "display_data"
    }
   ],
   "source": [
    "BASE <http://example.org/>\n",
    "PREFIX rdf: <http://www.w3.org/1999/02/22-rdf-syntax-ns#> \n",
    "PREFIX rdfs: <http://www.w3.org/2000/01/rdf-schema#> \n",
    "PREFIX foaf: <http://xmlns.com/foaf/0.1/>\n",
    "PREFIX rel: <http://www.perceive.net/schemas/relationship/> \n",
    "PREFIX : <http://example.org/>\n",
    "PREFIX rdf: <http://www.w3.org/1999/02/22-rdf-syntax-ns#> \n",
    "PREFIX univ: <http://www.faculty.ac>\n",
    "\n",
    "select distinct ?s\n",
    "from <http://mlbda/ex3>\n",
    "where {?s ?p ?o}"
   ]
  },
  {
   "cell_type": "markdown",
   "metadata": {},
   "source": [
    "### 2 Même question avec les prédicats."
   ]
  },
  {
   "cell_type": "code",
   "execution_count": 81,
   "metadata": {},
   "outputs": [
    {
     "data": {
      "text/html": [
       "<div class=\"krn-spql\"><table><tr class=hdr><th>p</th></tr><tr class=odd><td class=val><a href=\"http://www.w3.org/1999/02/22-rdf-syntax-ns#type\" target=\"_other\">http://www.w3.org/1999/02/22-rdf-syntax-ns#type</a></td></tr><tr class=even><td class=val><a href=\"http://example.org/studiedAt\" target=\"_other\">http://example.org/studiedAt</a></td></tr><tr class=odd><td class=val><a href=\"http://example.org/supervisedBy\" target=\"_other\">http://example.org/supervisedBy</a></td></tr><tr class=even><td class=val><a href=\"http://example.org/friend\" target=\"_other\">http://example.org/friend</a></td></tr><tr class=odd><td class=val><a href=\"http://example.org/livesIn\" target=\"_other\">http://example.org/livesIn</a></td></tr><tr class=even><td class=val><a href=\"http://example.org/hasFather\" target=\"_other\">http://example.org/hasFather</a></td></tr><tr class=odd><td class=val><a href=\"http://example.org/hasMother\" target=\"_other\">http://example.org/hasMother</a></td></tr><tr class=even><td class=val><a href=\"http://example.org/hasBrother\" target=\"_other\">http://example.org/hasBrother</a></td></tr><tr class=odd><td class=val><a href=\"http://example.org/locatedAt\" target=\"_other\">http://example.org/locatedAt</a></td></tr><tr class=even><td class=val><a href=\"http://example.org/hasDegree\" target=\"_other\">http://example.org/hasDegree</a></td></tr><tr class=odd><td class=val><a href=\"http://www.perceive.net/schemas/relationship/ChildOf\" target=\"_other\">http://www.perceive.net/schemas/relationship/ChildOf</a></td></tr></table><div class=\"tinfo\">Total: 11, Shown: 11</div></div>"
      ]
     },
     "metadata": {},
     "output_type": "display_data"
    }
   ],
   "source": [
    "select distinct ?p\n",
    "from <http://mlbda/ex3>\n",
    "where {?s ?p ?o}"
   ]
  },
  {
   "cell_type": "markdown",
   "metadata": {},
   "source": [
    "### 3 Extraire les villes citées dans des triples de cette base."
   ]
  },
  {
   "cell_type": "code",
   "execution_count": 86,
   "metadata": {},
   "outputs": [
    {
     "data": {
      "text/html": [
       "<div class=\"krn-spql\"><table><tr class=hdr><th>y</th></tr><tr class=odd><td class=val><a href=\"http://example.org/westLafayette\" target=\"_other\">http://example.org/westLafayette</a></td></tr><tr class=even><td class=val><a href=\"http://example.org/nyc\" target=\"_other\">http://example.org/nyc</a></td></tr><tr class=odd><td class=val><a href=\"http://example.org/pittsburgh\" target=\"_other\">http://example.org/pittsburgh</a></td></tr><tr class=even><td class=val><a href=\"http://example.org/santaBarbara\" target=\"_other\">http://example.org/santaBarbara</a></td></tr></table><div class=\"tinfo\">Total: 4, Shown: 4</div></div>"
      ]
     },
     "metadata": {},
     "output_type": "display_data"
    }
   ],
   "source": [
    "BASE <http://example.org/>\n",
    "PREFIX rdf: <http://www.w3.org/1999/02/22-rdf-syntax-ns#> \n",
    "PREFIX rdfs: <http://www.w3.org/2000/01/rdf-schema#> \n",
    "PREFIX foaf: <http://xmlns.com/foaf/0.1/>\n",
    "PREFIX rel: <http://www.perceive.net/schemas/relationship/> \n",
    "PREFIX : <http://example.org/>\n",
    "PREFIX rdf: <http://www.w3.org/1999/02/22-rdf-syntax-ns#> \n",
    "PREFIX univ: <http://www.faculty.ac>\n",
    "\n",
    "select \n",
    "from <http://mlbda/ex3>\n",
    "where {\n",
    "    \n",
    "    \n",
    "}\n"
   ]
  },
  {
   "cell_type": "markdown",
   "metadata": {},
   "source": [
    "### 4 Extraire les personnes qui ont étudié dans la même université que l’un de leur parents. (Ne pas considérer les triplets avec la prédicat childOf)."
   ]
  },
  {
   "cell_type": "code",
   "execution_count": 87,
   "metadata": {},
   "outputs": [
    {
     "data": {
      "text/html": [
       "<div class=\"krn-spql\"><table><tr class=hdr><th>x</th></tr><tr class=odd><td class=val><a href=\"http://example.org/liz\" target=\"_other\">http://example.org/liz</a></td></tr><tr class=even><td class=val><a href=\"http://example.org/larry\" target=\"_other\">http://example.org/larry</a></td></tr><tr class=odd><td class=val><a href=\"http://example.org/john\" target=\"_other\">http://example.org/john</a></td></tr></table><div class=\"tinfo\">Total: 3, Shown: 3</div></div>"
      ]
     },
     "metadata": {},
     "output_type": "display_data"
    }
   ],
   "source": [
    "BASE <http://example.org/>\n",
    "PREFIX rdf: <http://www.w3.org/1999/02/22-rdf-syntax-ns#> \n",
    "PREFIX rdfs: <http://www.w3.org/2000/01/rdf-schema#> \n",
    "PREFIX foaf: <http://xmlns.com/foaf/0.1/>\n",
    "PREFIX rel: <http://www.perceive.net/schemas/relationship/> \n",
    "PREFIX : <http://example.org/>\n",
    "PREFIX rdf: <http://www.w3.org/1999/02/22-rdf-syntax-ns#> \n",
    "PREFIX univ: <http://www.faculty.ac>\n",
    "\n",
    "select  \n",
    "from <http://mlbda/ex3>\n",
    "where { \n",
    "}"
   ]
  },
  {
   "cell_type": "markdown",
   "metadata": {},
   "source": [
    "### 5 Extraire les personnes qui ont étudié dans une université où leurs deux parents ont étudié."
   ]
  },
  {
   "cell_type": "code",
   "execution_count": 89,
   "metadata": {},
   "outputs": [
    {
     "data": {
      "text/html": [
       "<div class=\"krn-spql\"><table><tr class=hdr><th>x</th></tr><tr class=odd><td class=val><a href=\"http://example.org/liz\" target=\"_other\">http://example.org/liz</a></td></tr></table><div class=\"tinfo\">Total: 1, Shown: 1</div></div>"
      ]
     },
     "metadata": {},
     "output_type": "display_data"
    }
   ],
   "source": [
    "BASE <http://example.org/>\n",
    "PREFIX rdf: <http://www.w3.org/1999/02/22-rdf-syntax-ns#> \n",
    "PREFIX rdfs: <http://www.w3.org/2000/01/rdf-schema#> \n",
    "PREFIX foaf: <http://xmlns.com/foaf/0.1/>\n",
    "PREFIX rel: <http://www.perceive.net/schemas/relationship/> \n",
    "PREFIX : <http://example.org/>\n",
    "PREFIX rdf: <http://www.w3.org/1999/02/22-rdf-syntax-ns#> \n",
    "PREFIX univ: <http://www.faculty.ac>\n",
    "\n",
    "select  \n",
    "from <http://mlbda/ex3>\n",
    "where { \n",
    "    }"
   ]
  },
  {
   "cell_type": "markdown",
   "metadata": {},
   "source": [
    "### 6-a Extraire les personnes qui ont étudié dans une université différente de celle de leur père et leur mère "
   ]
  },
  {
   "cell_type": "code",
   "execution_count": 93,
   "metadata": {},
   "outputs": [
    {
     "data": {
      "text/html": [
       "<div class=\"krn-spql\"><table><tr class=hdr><th>x</th></tr></table><div class=\"tinfo\">Total: 0, Shown: 0</div></div>"
      ]
     },
     "metadata": {},
     "output_type": "display_data"
    }
   ],
   "source": [
    "BASE <http://example.org/>\n",
    "PREFIX rdf: <http://www.w3.org/1999/02/22-rdf-syntax-ns#> \n",
    "PREFIX rdfs: <http://www.w3.org/2000/01/rdf-schema#> \n",
    "PREFIX foaf: <http://xmlns.com/foaf/0.1/>\n",
    "PREFIX rel: <http://www.perceive.net/schemas/relationship/> \n",
    "PREFIX : <http://example.org/>\n",
    "PREFIX rdf: <http://www.w3.org/1999/02/22-rdf-syntax-ns#> \n",
    "PREFIX univ: <http://www.faculty.ac>\n",
    "\n",
    "\n",
    "select  \n",
    "from <http://mlbda/ex3>\n",
    "where\n",
    "{  }"
   ]
  },
  {
   "cell_type": "code",
   "execution_count": 94,
   "metadata": {},
   "outputs": [
    {
     "data": {
      "text/html": [
       "<div class=\"krn-spql\"><table><tr class=hdr><th>x</th></tr><tr class=odd><td class=val><a href=\"http://example.org/J.Horrow\" target=\"_other\">http://example.org/J.Horrow</a></td></tr><tr class=even><td class=val><a href=\"http://example.org/monica\" target=\"_other\">http://example.org/monica</a></td></tr><tr class=odd><td class=val><a href=\"http://example.org/luke\" target=\"_other\">http://example.org/luke</a></td></tr><tr class=even><td class=val><a href=\"http://example.org/suzan\" target=\"_other\">http://example.org/suzan</a></td></tr><tr class=odd><td class=val><a href=\"http://example.org/Jim\" target=\"_other\">http://example.org/Jim</a></td></tr><tr class=even><td class=val><a href=\"http://example.org/richard\" target=\"_other\">http://example.org/richard</a></td></tr></table><div class=\"tinfo\">Total: 6, Shown: 6</div></div>"
      ]
     },
     "metadata": {},
     "output_type": "display_data"
    }
   ],
   "source": [
    "BASE <http://example.org/>\n",
    "PREFIX rdf: <http://www.w3.org/1999/02/22-rdf-syntax-ns#> \n",
    "PREFIX rdfs: <http://www.w3.org/2000/01/rdf-schema#> \n",
    "PREFIX foaf: <http://xmlns.com/foaf/0.1/>\n",
    "PREFIX rel: <http://www.perceive.net/schemas/relationship/> \n",
    "PREFIX : <http://example.org/>\n",
    "PREFIX rdf: <http://www.w3.org/1999/02/22-rdf-syntax-ns#> \n",
    "PREFIX univ: <http://www.faculty.ac>\n",
    "\n",
    "\n",
    "select  \n",
    "from <http://mlbda/ex3>\n",
    "where {  }"
   ]
  },
  {
   "cell_type": "markdown",
   "metadata": {},
   "source": [
    "### 7 Extraire les personnes qui ont un étudié dans la même université qu’un frère ou une soeur."
   ]
  },
  {
   "cell_type": "code",
   "execution_count": 95,
   "metadata": {},
   "outputs": [
    {
     "data": {
      "text/html": [
       "<div class=\"krn-spql\"><table><tr class=hdr><th>x</th>\n",
       "<th>univ</th></tr></table><div class=\"tinfo\">Total: 0, Shown: 0</div></div>"
      ]
     },
     "metadata": {},
     "output_type": "display_data"
    }
   ],
   "source": [
    "BASE <http://example.org/>\n",
    "PREFIX rdf: <http://www.w3.org/1999/02/22-rdf-syntax-ns#> \n",
    "PREFIX rdfs: <http://www.w3.org/2000/01/rdf-schema#> \n",
    "PREFIX foaf: <http://xmlns.com/foaf/0.1/>\n",
    "PREFIX rel: <http://www.perceive.net/schemas/relationship/> \n",
    "PREFIX : <http://example.org/>\n",
    "PREFIX rdf: <http://www.w3.org/1999/02/22-rdf-syntax-ns#> \n",
    "PREFIX univ: <http://www.faculty.ac>\n",
    "\n",
    "SELECT  \n",
    "from <http://mlbda/ex3>\n",
    "where {  }"
   ]
  },
  {
   "cell_type": "markdown",
   "metadata": {},
   "source": [
    "### (Question subsidiaire) Donnez les noms et les universités des personnes qui ont au moins un frère ou une soeur et qui n'ont pas de frère ou de soeur qui ont étudié à la même université qu'elles."
   ]
  },
  {
   "cell_type": "code",
   "execution_count": 96,
   "metadata": {},
   "outputs": [
    {
     "data": {
      "text/html": [
       "<div class=\"krn-spql\"><table><tr class=hdr><th>x</th>\n",
       "<th>u</th></tr><tr class=odd><td class=val><a href=\"http://example.org/liz\" target=\"_other\">http://example.org/liz</a></td>\n",
       "<td class=val><a href=\"http://example.org/cmu\" target=\"_other\">http://example.org/cmu</a></td></tr><tr class=even><td class=val><a href=\"http://example.org/john\" target=\"_other\">http://example.org/john</a></td>\n",
       "<td class=val><a href=\"http://example.org/ucsd\" target=\"_other\">http://example.org/ucsd</a></td></tr><tr class=odd><td class=val><a href=\"http://example.org/richard\" target=\"_other\">http://example.org/richard</a></td>\n",
       "<td class=val><a href=\"http://example.org/mit\" target=\"_other\">http://example.org/mit</a></td></tr></table><div class=\"tinfo\">Total: 3, Shown: 3</div></div>"
      ]
     },
     "metadata": {},
     "output_type": "display_data"
    }
   ],
   "source": [
    "BASE <http://example.org/>\n",
    "PREFIX rdf: <http://www.w3.org/1999/02/22-rdf-syntax-ns#> \n",
    "PREFIX rdfs: <http://www.w3.org/2000/01/rdf-schema#> \n",
    "PREFIX foaf: <http://xmlns.com/foaf/0.1/>\n",
    "PREFIX rel: <http://www.perceive.net/schemas/relationship/> \n",
    "PREFIX : <http://example.org/>\n",
    "PREFIX rdf: <http://www.w3.org/1999/02/22-rdf-syntax-ns#> \n",
    "PREFIX univ: <http://www.faculty.ac>\n",
    "\n",
    "SELECT  \n",
    "from <http://mlbda/ex3>\n",
    "WHERE\n",
    "{\n",
    "}"
   ]
  },
  {
   "cell_type": "markdown",
   "metadata": {},
   "source": [
    "### 8 Extraire les personnes qui étudient dans une ville différente de celle où ils habitent."
   ]
  },
  {
   "cell_type": "code",
   "execution_count": 97,
   "metadata": {},
   "outputs": [
    {
     "data": {
      "text/html": [
       "<div class=\"krn-spql\"><table><tr class=hdr><th>x</th></tr><tr class=odd><td class=val><a href=\"http://example.org/liz\" target=\"_other\">http://example.org/liz</a></td></tr></table><div class=\"tinfo\">Total: 1, Shown: 1</div></div>"
      ]
     },
     "metadata": {},
     "output_type": "display_data"
    }
   ],
   "source": [
    "BASE <http://example.org/>\n",
    "PREFIX rdf: <http://www.w3.org/1999/02/22-rdf-syntax-ns#> \n",
    "PREFIX rdfs: <http://www.w3.org/2000/01/rdf-schema#> \n",
    "PREFIX foaf: <http://xmlns.com/foaf/0.1/>\n",
    "PREFIX rel: <http://www.perceive.net/schemas/relationship/> \n",
    "PREFIX : <http://example.org/>\n",
    "PREFIX rdf: <http://www.w3.org/1999/02/22-rdf-syntax-ns#> \n",
    "PREFIX univ: <http://www.faculty.ac>\n",
    "\n",
    "select  \n",
    "from <http://mlbda/ex3>\n",
    "where { }"
   ]
  },
  {
   "cell_type": "code",
   "execution_count": 98,
   "metadata": {},
   "outputs": [
    {
     "data": {
      "text/html": [
       "<div class=\"krn-spql\"><table><tr class=hdr><th>x</th></tr><tr class=odd><td class=val><a href=\"http://example.org/liz\" target=\"_other\">http://example.org/liz</a></td></tr></table><div class=\"tinfo\">Total: 1, Shown: 1</div></div>"
      ]
     },
     "metadata": {},
     "output_type": "display_data"
    }
   ],
   "source": [
    "BASE <http://example.org/>\n",
    "PREFIX rdf: <http://www.w3.org/1999/02/22-rdf-syntax-ns#> \n",
    "PREFIX rdfs: <http://www.w3.org/2000/01/rdf-schema#> \n",
    "PREFIX foaf: <http://xmlns.com/foaf/0.1/>\n",
    "PREFIX rel: <http://www.perceive.net/schemas/relationship/> \n",
    "PREFIX : <http://example.org/>\n",
    "PREFIX rdf: <http://www.w3.org/1999/02/22-rdf-syntax-ns#> \n",
    "PREFIX univ: <http://www.faculty.ac>\n",
    "\n",
    "\n",
    "\n",
    "select  \n",
    "from <http://mlbda/ex3>\n",
    "where \n",
    "{\n",
    " \n",
    "}"
   ]
  },
  {
   "cell_type": "markdown",
   "metadata": {},
   "source": [
    "### 9 Extraire les personnes qui sont ami(e)s d’un(e) ami(e) de Liz. Remarque : ne pas retourner les ami(e)s direct(e)s de Liz!"
   ]
  },
  {
   "cell_type": "code",
   "execution_count": 101,
   "metadata": {},
   "outputs": [
    {
     "data": {
      "text/html": [
       "<div class=\"krn-spql\"><table><tr class=hdr><th>y</th></tr><tr class=odd><td class=val><a href=\"http://example.org/john\" target=\"_other\">http://example.org/john</a></td></tr></table><div class=\"tinfo\">Total: 1, Shown: 1</div></div>"
      ]
     },
     "metadata": {},
     "output_type": "display_data"
    }
   ],
   "source": [
    "BASE <http://example.org/>\n",
    "PREFIX rdf: <http://www.w3.org/1999/02/22-rdf-syntax-ns#> \n",
    "PREFIX rdfs: <http://www.w3.org/2000/01/rdf-schema#> \n",
    "PREFIX foaf: <http://xmlns.com/foaf/0.1/>\n",
    "PREFIX rel: <http://www.perceive.net/schemas/relationship/> \n",
    "PREFIX : <http://example.org/>\n",
    "PREFIX rdf: <http://www.w3.org/1999/02/22-rdf-syntax-ns#> \n",
    "PREFIX univ: <http://www.faculty.ac>\n",
    "\n",
    "SELECT   \n",
    "from <http://mlbda/ex3>\n",
    "where {\n",
    " \n",
    "}"
   ]
  },
  {
   "cell_type": "markdown",
   "metadata": {},
   "source": [
    "## Exercice 4"
   ]
  },
  {
   "cell_type": "raw",
   "metadata": {},
   "source": [
    "Pour cet exercice, nous allons interroger le graphe http://mlbda/ex4"
   ]
  },
  {
   "cell_type": "code",
   "execution_count": 17,
   "metadata": {},
   "outputs": [
    {
     "data": {
      "text/html": [
       "<html>\n",
       "<head>\n",
       "</head>\n",
       "<body>\n",
       "<h1>Success</h1>\n",
       "<p>\n",
       "Update succeeded\n",
       "</p>\n",
       "</body>\n",
       "</html>\n"
      ]
     },
     "metadata": {},
     "output_type": "display_data"
    }
   ],
   "source": [
    "base <http://example.org/> \n",
    "\n",
    "DELETE DATA\n",
    "{ GRAPH <http://mlbda/ex4> {}\n",
    " }"
   ]
  },
  {
   "cell_type": "code",
   "execution_count": 20,
   "metadata": {},
   "outputs": [
    {
     "data": {
      "text/html": [
       "<html>\n",
       "<head>\n",
       "</head>\n",
       "<body>\n",
       "<h1>Success</h1>\n",
       "<p>\n",
       "Update succeeded\n",
       "</p>\n",
       "</body>\n",
       "</html>\n"
      ]
     },
     "metadata": {},
     "output_type": "display_data"
    }
   ],
   "source": [
    "prefix foaf: <http://xmlns.com/foaf/0.1/>\n",
    "prefix rdf: <http://www.w3.org/1999/02/22-rdf-syntax-ns#>\n",
    "prefix rdfs: <http://www.w3.org/2000/01/rdf-schema#>\n",
    "prefix f: <http://www.cems.uwe.ac.uk/empdept/concept/>\n",
    "prefix xs: <http://www.w3.org/2001/XMLSchema#> \n",
    "prefix : <http://www.abc.org/> \n",
    "\n",
    "insert data \n",
    "{\n",
    "    graph <http://mlbda/ex4>\n",
    "{\n",
    "    #rdf types\n",
    ":john       a               f:emp .\n",
    ":liz        a               f:emp .\n",
    ":dan        a               f:emp .\n",
    ":larry      a               f:emp .\n",
    ":jim        a               f:emp .\n",
    ":clark      a               f:emp .\n",
    ":robert     a               f:emp .\n",
    "\n",
    "#job\n",
    ":john   f:Job    \"architect\" .\n",
    ":liz    f:Job    \"doctor\" .\n",
    ":dan    f:Job    \"engineer\" .\n",
    ":larry  f:Job    \"singer\" .\n",
    "\n",
    "#surnames\n",
    ":john       foaf:surname    \"john\" .\n",
    ":liz        foaf:surname    \"liz\" .\n",
    ":dan        foaf:surname    \"dan\" .\n",
    ":larry      foaf:surname    \"larry\" .\n",
    "\n",
    "#salary\n",
    ":john   f:Sal   \"33\"    .\n",
    ":liz    f:Sal   \"42\"    .\n",
    ":robert f:Sal   \"48\"    .\n",
    ":dan    f:Sal  \"33\"    .\n",
    "\n",
    "#departement\n",
    ":john   f:Dept    \"urbanism\" .\n",
    ":liz    f:Dept    \"surgery\" .\n",
    ":dan    f:Dept    \"chemistry\" .\n",
    ":larry  f:Dept    \"culture\" .\n",
    ":john  f:Dept    \"culture\" .\n",
    "\n",
    ":urbanism   f:Location   \"NE1\" .\n",
    ":surgery    f:Location   \"SW1\" .\n",
    ":chemistry  f:Location   \"Westminster\" .\n",
    ":culture    f:Location   \"Slough\" .\n",
    "\n",
    "#manager\n",
    ":john   f:Mgr   :jim   .\n",
    ":john   f:Mgr   :clark   .\n",
    ":liz    f:Mgr   :robert   .\n",
    "}}"
   ]
  },
  {
   "cell_type": "code",
   "execution_count": 22,
   "metadata": {},
   "outputs": [
    {
     "data": {
      "text/html": [
       "<div class=\"krn-spql\"><table><tr class=hdr><th>nb_sujets</th>\n",
       "<th>nb_props</th>\n",
       "<th>nb_objets</th></tr><tr class=odd><td class=val>11</td>\n",
       "<td class=val>7</td>\n",
       "<td class=val>23</td></tr></table><div class=\"tinfo\">Total: 1, Shown: 1</div></div>"
      ]
     },
     "metadata": {},
     "output_type": "display_data"
    }
   ],
   "source": [
    "select (count(distinct ?s) as ?nb_sujets) (count(distinct ?p) as ?nb_props) (count(distinct ?o) as ?nb_objets)\n",
    "from <http://mlbda/ex4>\n",
    "where {?s ?p ?o}"
   ]
  },
  {
   "cell_type": "code",
   "execution_count": 102,
   "metadata": {},
   "outputs": [
    {
     "data": {
      "text/html": [
       "<div class=\"krn-spql\"><table><tr class=hdr><th>s</th>\n",
       "<th>p</th>\n",
       "<th>o</th></tr><tr class=odd><td class=val><a href=\"http://www.abc.org/dan\" target=\"_other\">http://www.abc.org/dan</a></td>\n",
       "<td class=val><a href=\"http://www.cems.uwe.ac.uk/empdept/concept/Job\" target=\"_other\">http://www.cems.uwe.ac.uk/empdept/concept/Job</a></td>\n",
       "<td class=val>engineer</td></tr><tr class=even><td class=val><a href=\"http://www.abc.org/dan\" target=\"_other\">http://www.abc.org/dan</a></td>\n",
       "<td class=val><a href=\"http://www.cems.uwe.ac.uk/empdept/concept/Sal\" target=\"_other\">http://www.cems.uwe.ac.uk/empdept/concept/Sal</a></td>\n",
       "<td class=val>33</td></tr><tr class=odd><td class=val><a href=\"http://www.abc.org/dan\" target=\"_other\">http://www.abc.org/dan</a></td>\n",
       "<td class=val><a href=\"http://www.w3.org/1999/02/22-rdf-syntax-ns#type\" target=\"_other\">http://www.w3.org/1999/02/22-rdf-syntax-ns#type</a></td>\n",
       "<td class=val><a href=\"http://www.cems.uwe.ac.uk/empdept/concept/emp\" target=\"_other\">http://www.cems.uwe.ac.uk/empdept/concept/emp</a></td></tr><tr class=even><td class=val><a href=\"http://www.abc.org/dan\" target=\"_other\">http://www.abc.org/dan</a></td>\n",
       "<td class=val><a href=\"http://xmlns.com/foaf/0.1/surname\" target=\"_other\">http://xmlns.com/foaf/0.1/surname</a></td>\n",
       "<td class=val>dan</td></tr><tr class=odd><td class=val><a href=\"http://www.abc.org/dan\" target=\"_other\">http://www.abc.org/dan</a></td>\n",
       "<td class=val><a href=\"http://www.cems.uwe.ac.uk/empdept/concept/Dept\" target=\"_other\">http://www.cems.uwe.ac.uk/empdept/concept/Dept</a></td>\n",
       "<td class=val>chemistry</td></tr><tr class=even><td class=val><a href=\"http://www.abc.org/john\" target=\"_other\">http://www.abc.org/john</a></td>\n",
       "<td class=val><a href=\"http://www.cems.uwe.ac.uk/empdept/concept/Job\" target=\"_other\">http://www.cems.uwe.ac.uk/empdept/concept/Job</a></td>\n",
       "<td class=val>architect</td></tr><tr class=odd><td class=val><a href=\"http://www.abc.org/john\" target=\"_other\">http://www.abc.org/john</a></td>\n",
       "<td class=val><a href=\"http://www.cems.uwe.ac.uk/empdept/concept/Sal\" target=\"_other\">http://www.cems.uwe.ac.uk/empdept/concept/Sal</a></td>\n",
       "<td class=val>33</td></tr><tr class=even><td class=val><a href=\"http://www.abc.org/john\" target=\"_other\">http://www.abc.org/john</a></td>\n",
       "<td class=val><a href=\"http://www.w3.org/1999/02/22-rdf-syntax-ns#type\" target=\"_other\">http://www.w3.org/1999/02/22-rdf-syntax-ns#type</a></td>\n",
       "<td class=val><a href=\"http://www.cems.uwe.ac.uk/empdept/concept/emp\" target=\"_other\">http://www.cems.uwe.ac.uk/empdept/concept/emp</a></td></tr><tr class=odd><td class=val><a href=\"http://www.abc.org/john\" target=\"_other\">http://www.abc.org/john</a></td>\n",
       "<td class=val><a href=\"http://www.cems.uwe.ac.uk/empdept/concept/Mgr\" target=\"_other\">http://www.cems.uwe.ac.uk/empdept/concept/Mgr</a></td>\n",
       "<td class=val><a href=\"http://www.abc.org/jim\" target=\"_other\">http://www.abc.org/jim</a></td></tr><tr class=even><td class=val><a href=\"http://www.abc.org/john\" target=\"_other\">http://www.abc.org/john</a></td>\n",
       "<td class=val><a href=\"http://www.cems.uwe.ac.uk/empdept/concept/Mgr\" target=\"_other\">http://www.cems.uwe.ac.uk/empdept/concept/Mgr</a></td>\n",
       "<td class=val><a href=\"http://www.abc.org/clark\" target=\"_other\">http://www.abc.org/clark</a></td></tr><tr class=odd><td class=val><a href=\"http://www.abc.org/john\" target=\"_other\">http://www.abc.org/john</a></td>\n",
       "<td class=val><a href=\"http://xmlns.com/foaf/0.1/surname\" target=\"_other\">http://xmlns.com/foaf/0.1/surname</a></td>\n",
       "<td class=val>john</td></tr><tr class=even><td class=val><a href=\"http://www.abc.org/john\" target=\"_other\">http://www.abc.org/john</a></td>\n",
       "<td class=val><a href=\"http://www.cems.uwe.ac.uk/empdept/concept/Dept\" target=\"_other\">http://www.cems.uwe.ac.uk/empdept/concept/Dept</a></td>\n",
       "<td class=val>culture</td></tr><tr class=odd><td class=val><a href=\"http://www.abc.org/john\" target=\"_other\">http://www.abc.org/john</a></td>\n",
       "<td class=val><a href=\"http://www.cems.uwe.ac.uk/empdept/concept/Dept\" target=\"_other\">http://www.cems.uwe.ac.uk/empdept/concept/Dept</a></td>\n",
       "<td class=val>urbanism</td></tr><tr class=even><td class=val><a href=\"http://www.abc.org/urbanism\" target=\"_other\">http://www.abc.org/urbanism</a></td>\n",
       "<td class=val><a href=\"http://www.cems.uwe.ac.uk/empdept/concept/Location\" target=\"_other\">http://www.cems.uwe.ac.uk/empdept/concept/Location</a></td>\n",
       "<td class=val>NE1</td></tr><tr class=odd><td class=val><a href=\"http://www.abc.org/surgery\" target=\"_other\">http://www.abc.org/surgery</a></td>\n",
       "<td class=val><a href=\"http://www.cems.uwe.ac.uk/empdept/concept/Location\" target=\"_other\">http://www.cems.uwe.ac.uk/empdept/concept/Location</a></td>\n",
       "<td class=val>SW1</td></tr><tr class=even><td class=val><a href=\"http://www.abc.org/culture\" target=\"_other\">http://www.abc.org/culture</a></td>\n",
       "<td class=val><a href=\"http://www.cems.uwe.ac.uk/empdept/concept/Location\" target=\"_other\">http://www.cems.uwe.ac.uk/empdept/concept/Location</a></td>\n",
       "<td class=val>Slough</td></tr><tr class=odd><td class=val><a href=\"http://www.abc.org/chemistry\" target=\"_other\">http://www.abc.org/chemistry</a></td>\n",
       "<td class=val><a href=\"http://www.cems.uwe.ac.uk/empdept/concept/Location\" target=\"_other\">http://www.cems.uwe.ac.uk/empdept/concept/Location</a></td>\n",
       "<td class=val>Westminster</td></tr><tr class=even><td class=val><a href=\"http://www.abc.org/larry\" target=\"_other\">http://www.abc.org/larry</a></td>\n",
       "<td class=val><a href=\"http://www.cems.uwe.ac.uk/empdept/concept/Job\" target=\"_other\">http://www.cems.uwe.ac.uk/empdept/concept/Job</a></td>\n",
       "<td class=val>singer</td></tr><tr class=odd><td class=val><a href=\"http://www.abc.org/larry\" target=\"_other\">http://www.abc.org/larry</a></td>\n",
       "<td class=val><a href=\"http://www.w3.org/1999/02/22-rdf-syntax-ns#type\" target=\"_other\">http://www.w3.org/1999/02/22-rdf-syntax-ns#type</a></td>\n",
       "<td class=val><a href=\"http://www.cems.uwe.ac.uk/empdept/concept/emp\" target=\"_other\">http://www.cems.uwe.ac.uk/empdept/concept/emp</a></td></tr><tr class=even><td class=val><a href=\"http://www.abc.org/larry\" target=\"_other\">http://www.abc.org/larry</a></td>\n",
       "<td class=val><a href=\"http://xmlns.com/foaf/0.1/surname\" target=\"_other\">http://xmlns.com/foaf/0.1/surname</a></td>\n",
       "<td class=val>larry</td></tr></table><div class=\"tinfo\">Total: 31, Shown: 20</div></div>"
      ]
     },
     "metadata": {},
     "output_type": "display_data"
    }
   ],
   "source": [
    "prefix foaf: <http://xmlns.com/foaf/0.1/>\n",
    "prefix rdf: <http://www.w3.org/1999/02/22-rdf-syntax-ns#>\n",
    "prefix rdfs: <http://www.w3.org/2000/01/rdf-schema#>\n",
    "prefix f: <http://www.cems.uwe.ac.uk/empdept/concept/>\n",
    "prefix xs: <http://www.w3.org/2001/XMLSchema#>\n",
    "\n",
    "select *\n",
    "from <http://mlbda/ex4>\n",
    "where {?s ?p ?o}"
   ]
  },
  {
   "cell_type": "markdown",
   "metadata": {},
   "source": [
    "### 1. Noms des employés avec leur job suivant l’ordre alphabétique de leur nom"
   ]
  },
  {
   "cell_type": "code",
   "execution_count": 103,
   "metadata": {},
   "outputs": [
    {
     "data": {
      "text/html": [
       "<div class=\"krn-spql\"><table><tr class=hdr><th>name</th></tr><tr class=odd><td class=val>dan</td></tr><tr class=even><td class=val>john</td></tr><tr class=odd><td class=val>larry</td></tr><tr class=even><td class=val>liz</td></tr></table><div class=\"tinfo\">Total: 4, Shown: 4</div></div>"
      ]
     },
     "metadata": {},
     "output_type": "display_data"
    }
   ],
   "source": [
    "prefix foaf: <http://xmlns.com/foaf/0.1/>\n",
    "prefix rdf: <http://www.w3.org/1999/02/22-rdf-syntax-ns#>\n",
    "prefix rdfs: <http://www.w3.org/2000/01/rdf-schema#>\n",
    "prefix f: <http://www.cems.uwe.ac.uk/empdept/concept/>\n",
    "prefix xs: <http://www.w3.org/2001/XMLSchema#>\n",
    "\n",
    "select   \n",
    "from <http://mlbda/ex4>\n",
    "where { \n",
    "}\n"
   ]
  },
  {
   "cell_type": "markdown",
   "metadata": {},
   "source": [
    "### 2. Les 3 premiers employés suivant l’ordre alphabétique"
   ]
  },
  {
   "cell_type": "code",
   "execution_count": 105,
   "metadata": {},
   "outputs": [
    {
     "data": {
      "text/html": [
       "<div class=\"krn-spql\"><table><tr class=hdr><th>ename</th></tr><tr class=odd><td class=val>dan</td></tr><tr class=even><td class=val>john</td></tr><tr class=odd><td class=val>larry</td></tr></table><div class=\"tinfo\">Total: 3, Shown: 3</div></div>"
      ]
     },
     "metadata": {},
     "output_type": "display_data"
    }
   ],
   "source": [
    "prefix foaf: <http://xmlns.com/foaf/0.1/>\n",
    "prefix rdf: <http://www.w3.org/1999/02/22-rdf-syntax-ns#>\n",
    "prefix rdfs: <http://www.w3.org/2000/01/rdf-schema#>\n",
    "prefix f: <http://www.cems.uwe.ac.uk/empdept/concept/>\n",
    "prefix xs: <http://www.w3.org/2001/XMLSchema#>\n",
    "\n",
    "select   \n",
    "from <http://mlbda/ex4>\n",
    "where {  }\n",
    " "
   ]
  },
  {
   "cell_type": "markdown",
   "metadata": {},
   "source": [
    "### 3. Les 3 premiers employés, ayant un surname, les mieux payés"
   ]
  },
  {
   "cell_type": "code",
   "execution_count": 106,
   "metadata": {},
   "outputs": [
    {
     "data": {
      "text/html": [
       "<div class=\"krn-spql\"><table><tr class=hdr><th>ename</th>\n",
       "<th>sal</th></tr><tr class=odd><td class=val>liz</td>\n",
       "<td class=val>42</td></tr><tr class=even><td class=val>dan</td>\n",
       "<td class=val>33</td></tr><tr class=odd><td class=val>john</td>\n",
       "<td class=val>33</td></tr></table><div class=\"tinfo\">Total: 3, Shown: 3</div></div>"
      ]
     },
     "metadata": {},
     "output_type": "display_data"
    }
   ],
   "source": [
    "prefix foaf: <http://xmlns.com/foaf/0.1/>\n",
    "prefix rdf: <http://www.w3.org/1999/02/22-rdf-syntax-ns#>\n",
    "prefix rdfs: <http://www.w3.org/2000/01/rdf-schema#>\n",
    "prefix f: <http://www.cems.uwe.ac.uk/empdept/concept/>\n",
    "prefix xs: <http://www.w3.org/2001/XMLSchema#>\n",
    "\n",
    "\n",
    "select  \n",
    "from <http://mlbda/ex4>\n",
    "where {  }\n",
    " "
   ]
  },
  {
   "cell_type": "markdown",
   "metadata": {},
   "source": [
    "### 4. Les employés qui ne sont ni médecin ni chanteur"
   ]
  },
  {
   "cell_type": "code",
   "execution_count": 107,
   "metadata": {},
   "outputs": [
    {
     "data": {
      "text/html": [
       "<div class=\"krn-spql\"><table><tr class=hdr><th>emp</th>\n",
       "<th>job</th></tr><tr class=odd><td class=val><a href=\"http://www.abc.org/dan\" target=\"_other\">http://www.abc.org/dan</a></td>\n",
       "<td class=val>engineer</td></tr><tr class=even><td class=val><a href=\"http://www.abc.org/john\" target=\"_other\">http://www.abc.org/john</a></td>\n",
       "<td class=val>architect</td></tr></table><div class=\"tinfo\">Total: 2, Shown: 2</div></div>"
      ]
     },
     "metadata": {},
     "output_type": "display_data"
    }
   ],
   "source": [
    "prefix foaf: <http://xmlns.com/foaf/0.1/>\n",
    "prefix rdf: <http://www.w3.org/1999/02/22-rdf-syntax-ns#>\n",
    "prefix rdfs: <http://www.w3.org/2000/01/rdf-schema#>\n",
    "prefix f: <http://www.cems.uwe.ac.uk/empdept/concept/>\n",
    "prefix xs: <http://www.w3.org/2001/XMLSchema#>\n",
    "\n",
    "\n",
    "select   \n",
    "from <http://mlbda/ex4>\n",
    "where {\n",
    " \n",
    "}\n"
   ]
  },
  {
   "cell_type": "markdown",
   "metadata": {},
   "source": [
    "### 5. Les employés dont le nom commence par ‘l’ et termine par ‘ry’."
   ]
  },
  {
   "cell_type": "code",
   "execution_count": 110,
   "metadata": {},
   "outputs": [
    {
     "data": {
      "text/html": [
       "<div class=\"krn-spql\"><table><tr class=hdr><th>emp</th>\n",
       "<th>ename</th></tr><tr class=odd><td class=val><a href=\"http://www.abc.org/larry\" target=\"_other\">http://www.abc.org/larry</a></td>\n",
       "<td class=val>larry</td></tr></table><div class=\"tinfo\">Total: 1, Shown: 1</div></div>"
      ]
     },
     "metadata": {},
     "output_type": "display_data"
    }
   ],
   "source": [
    "prefix foaf: <http://xmlns.com/foaf/0.1/>\n",
    "prefix rdf: <http://www.w3.org/1999/02/22-rdf-syntax-ns#>\n",
    "prefix rdfs: <http://www.w3.org/2000/01/rdf-schema#>\n",
    "prefix f: <http://www.cems.uwe.ac.uk/empdept/concept/>\n",
    "prefix xs: <http://www.w3.org/2001/XMLSchema#>\n",
    "\n",
    "\n",
    "select   \n",
    "from <http://mlbda/ex4>\n",
    "where {\n",
    " \n",
    "}\n"
   ]
  },
  {
   "cell_type": "markdown",
   "metadata": {},
   "source": [
    "### 6. a. Le plus grand salaire  sans utiliser ORDER BY et LIMIT "
   ]
  },
  {
   "cell_type": "code",
   "execution_count": 111,
   "metadata": {},
   "outputs": [
    {
     "data": {
      "text/html": [
       "<div class=\"krn-spql\"><table><tr class=hdr><th>maxemp</th>\n",
       "<th>maxsal</th></tr><tr class=odd><td class=val><a href=\"http://www.abc.org/robert\" target=\"_other\">http://www.abc.org/robert</a></td>\n",
       "<td class=val>48</td></tr></table><div class=\"tinfo\">Total: 1, Shown: 1</div></div>"
      ]
     },
     "metadata": {},
     "output_type": "display_data"
    }
   ],
   "source": [
    "prefix foaf: <http://xmlns.com/foaf/0.1/>\n",
    "prefix rdf: <http://www.w3.org/1999/02/22-rdf-syntax-ns#>\n",
    "prefix rdfs: <http://www.w3.org/2000/01/rdf-schema#>\n",
    "prefix f: <http://www.cems.uwe.ac.uk/empdept/concept/>\n",
    "prefix xs: <http://www.w3.org/2001/XMLSchema#>\n",
    "\n",
    "\n",
    "\n",
    "select  \n",
    "from <http://mlbda/ex4>\n",
    "where {  \n",
    "}"
   ]
  },
  {
   "cell_type": "markdown",
   "metadata": {},
   "source": [
    "### 6. b Le plus grand salaire en utilisant ORDER BY et LIMIT"
   ]
  },
  {
   "cell_type": "code",
   "execution_count": 112,
   "metadata": {},
   "outputs": [
    {
     "data": {
      "text/html": [
       "<div class=\"krn-spql\"><table><tr class=hdr><th>maxemp</th>\n",
       "<th>maxsal</th></tr><tr class=odd><td class=val><a href=\"http://www.abc.org/robert\" target=\"_other\">http://www.abc.org/robert</a></td>\n",
       "<td class=val>48</td></tr></table><div class=\"tinfo\">Total: 1, Shown: 1</div></div>"
      ]
     },
     "metadata": {},
     "output_type": "display_data"
    }
   ],
   "source": [
    "prefix foaf: <http://xmlns.com/foaf/0.1/>\n",
    "prefix rdf: <http://www.w3.org/1999/02/22-rdf-syntax-ns#>\n",
    "prefix rdfs: <http://www.w3.org/2000/01/rdf-schema#>\n",
    "prefix f: <http://www.cems.uwe.ac.uk/empdept/concept/>\n",
    "prefix xs: <http://www.w3.org/2001/XMLSchema#>\n",
    "\n",
    "\n",
    "SELECT  \n",
    "from <http://mlbda/ex4>\n",
    "WHERE { \n",
    "}\n",
    " "
   ]
  },
  {
   "cell_type": "markdown",
   "metadata": {},
   "source": [
    "### 7. Les couples d'employés qui gagnent le même salaire (chaque couple d'employés doit apparaître une seule fois)."
   ]
  },
  {
   "cell_type": "code",
   "execution_count": 113,
   "metadata": {},
   "outputs": [
    {
     "data": {
      "text/html": [
       "<div class=\"krn-spql\"><table><tr class=hdr><th>emp1</th>\n",
       "<th>sal</th>\n",
       "<th>emp2</th></tr><tr class=odd><td class=val><a href=\"http://www.abc.org/dan\" target=\"_other\">http://www.abc.org/dan</a></td>\n",
       "<td class=val>33</td>\n",
       "<td class=val><a href=\"http://www.abc.org/john\" target=\"_other\">http://www.abc.org/john</a></td></tr></table><div class=\"tinfo\">Total: 1, Shown: 1</div></div>"
      ]
     },
     "metadata": {},
     "output_type": "display_data"
    }
   ],
   "source": [
    "prefix foaf: <http://xmlns.com/foaf/0.1/>\n",
    "prefix rdf: <http://www.w3.org/1999/02/22-rdf-syntax-ns#>\n",
    "prefix rdfs: <http://www.w3.org/2000/01/rdf-schema#>\n",
    "prefix f: <http://www.cems.uwe.ac.uk/empdept/concept/>\n",
    "prefix xs: <http://www.w3.org/2001/XMLSchema#>\n",
    "\n",
    "select   \n",
    "from <http://mlbda/ex4>\n",
    "where { \n",
    "}"
   ]
  },
  {
   "cell_type": "markdown",
   "metadata": {},
   "source": [
    "### 8. Les couples d'employés tels que la différence entre leurs salaires est supérieure à 5. \n",
    "Indice : utiliser la function xs:integer( ?var) afin de convertir un literal en un entirer. \n",
    "Pour cela, ne pas oublier d’inclure la ligne suivante dans votre fichier requêtes\n"
   ]
  },
  {
   "cell_type": "code",
   "execution_count": 114,
   "metadata": {},
   "outputs": [
    {
     "data": {
      "text/html": [
       "<div class=\"krn-spql\"><table><tr class=hdr><th>emp1</th>\n",
       "<th>sal1</th>\n",
       "<th>emp2</th>\n",
       "<th>sal2</th></tr><tr class=odd><td class=val><a href=\"http://www.abc.org/liz\" target=\"_other\">http://www.abc.org/liz</a></td>\n",
       "<td class=val>42</td>\n",
       "<td class=val><a href=\"http://www.abc.org/dan\" target=\"_other\">http://www.abc.org/dan</a></td>\n",
       "<td class=val>33</td></tr><tr class=even><td class=val><a href=\"http://www.abc.org/liz\" target=\"_other\">http://www.abc.org/liz</a></td>\n",
       "<td class=val>42</td>\n",
       "<td class=val><a href=\"http://www.abc.org/john\" target=\"_other\">http://www.abc.org/john</a></td>\n",
       "<td class=val>33</td></tr><tr class=odd><td class=val><a href=\"http://www.abc.org/robert\" target=\"_other\">http://www.abc.org/robert</a></td>\n",
       "<td class=val>48</td>\n",
       "<td class=val><a href=\"http://www.abc.org/dan\" target=\"_other\">http://www.abc.org/dan</a></td>\n",
       "<td class=val>33</td></tr><tr class=even><td class=val><a href=\"http://www.abc.org/robert\" target=\"_other\">http://www.abc.org/robert</a></td>\n",
       "<td class=val>48</td>\n",
       "<td class=val><a href=\"http://www.abc.org/john\" target=\"_other\">http://www.abc.org/john</a></td>\n",
       "<td class=val>33</td></tr><tr class=odd><td class=val><a href=\"http://www.abc.org/robert\" target=\"_other\">http://www.abc.org/robert</a></td>\n",
       "<td class=val>48</td>\n",
       "<td class=val><a href=\"http://www.abc.org/liz\" target=\"_other\">http://www.abc.org/liz</a></td>\n",
       "<td class=val>42</td></tr></table><div class=\"tinfo\">Total: 5, Shown: 5</div></div>"
      ]
     },
     "metadata": {},
     "output_type": "display_data"
    }
   ],
   "source": [
    "prefix foaf: <http://xmlns.com/foaf/0.1/>\n",
    "prefix rdf: <http://www.w3.org/1999/02/22-rdf-syntax-ns#>\n",
    "prefix rdfs: <http://www.w3.org/2000/01/rdf-schema#>\n",
    "prefix f: <http://www.cems.uwe.ac.uk/empdept/concept/>\n",
    "prefix xs: <http://www.w3.org/2001/XMLSchema#>\n",
    "\n",
    "select  \n",
    "from <http://mlbda/ex4>\n",
    "where {\n",
    "}"
   ]
  },
  {
   "cell_type": "markdown",
   "metadata": {},
   "source": [
    "### 9.Le nombre de départements"
   ]
  },
  {
   "cell_type": "code",
   "execution_count": 115,
   "metadata": {},
   "outputs": [
    {
     "data": {
      "text/html": [
       "<div class=\"krn-spql\"><table><tr class=hdr><th>count</th></tr><tr class=odd><td class=val>4</td></tr></table><div class=\"tinfo\">Total: 1, Shown: 1</div></div>"
      ]
     },
     "metadata": {},
     "output_type": "display_data"
    }
   ],
   "source": [
    "prefix foaf: <http://xmlns.com/foaf/0.1/>\n",
    "prefix rdf: <http://www.w3.org/1999/02/22-rdf-syntax-ns#>\n",
    "prefix rdfs: <http://www.w3.org/2000/01/rdf-schema#>\n",
    "prefix f: <http://www.cems.uwe.ac.uk/empdept/concept/>\n",
    "prefix xs: <http://www.w3.org/2001/XMLSchema#>\n",
    "\n",
    "select  \n",
    "from <http://mlbda/ex4>\n",
    "where {  \n",
    "}"
   ]
  },
  {
   "cell_type": "markdown",
   "metadata": {},
   "source": [
    "### 10. Le nombre d’employés par département"
   ]
  },
  {
   "cell_type": "code",
   "execution_count": 116,
   "metadata": {},
   "outputs": [
    {
     "data": {
      "text/html": [
       "<div class=\"krn-spql\"><table><tr class=hdr><th>dept</th>\n",
       "<th>count</th></tr><tr class=odd><td class=val>urbanism</td>\n",
       "<td class=val>1</td></tr><tr class=even><td class=val>surgery</td>\n",
       "<td class=val>1</td></tr><tr class=odd><td class=val>culture</td>\n",
       "<td class=val>2</td></tr><tr class=even><td class=val>chemistry</td>\n",
       "<td class=val>1</td></tr></table><div class=\"tinfo\">Total: 4, Shown: 4</div></div>"
      ]
     },
     "metadata": {},
     "output_type": "display_data"
    }
   ],
   "source": [
    "prefix foaf: <http://xmlns.com/foaf/0.1/>\n",
    "prefix rdf: <http://www.w3.org/1999/02/22-rdf-syntax-ns#>\n",
    "prefix rdfs: <http://www.w3.org/2000/01/rdf-schema#>\n",
    "prefix f: <http://www.cems.uwe.ac.uk/empdept/concept/>\n",
    "prefix xs: <http://www.w3.org/2001/XMLSchema#>\n",
    "\n",
    "\n",
    "select  \n",
    "from <http://mlbda/ex4>\n",
    "where {  \n",
    "} "
   ]
  },
  {
   "cell_type": "code",
   "execution_count": null,
   "metadata": {},
   "outputs": [],
   "source": []
  }
 ],
 "metadata": {
  "kernelspec": {
   "display_name": "SPARQL",
   "language": "sparql",
   "name": "sparql"
  },
  "language_info": {
   "codemirror_mode": {
    "name": "sparql"
   },
   "mimetype": "application/sparql-query",
   "name": "sparql",
   "pygments_lexer": "sparql-nb"
  }
 },
 "nbformat": 4,
 "nbformat_minor": 4
}
