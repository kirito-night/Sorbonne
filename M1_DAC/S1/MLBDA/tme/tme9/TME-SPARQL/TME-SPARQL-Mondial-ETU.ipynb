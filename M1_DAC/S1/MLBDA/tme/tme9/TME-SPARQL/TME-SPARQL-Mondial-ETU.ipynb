{
 "cells": [
  {
   "cell_type": "markdown",
   "metadata": {},
   "source": [
    "# Requêtes MONDIAL\n",
    "Cet exercice utilise la base mondial fournie sous forme de triplets RDF et disponible depuis un endpoint distant. Il vous est demandé de vous familiariser d'abord avec la représentation RDF de cette base puis de répondre "
   ]
  },
  {
   "cell_type": "code",
   "execution_count": 1,
   "metadata": {},
   "outputs": [
    {
     "name": "stderr",
     "output_type": "stream",
     "text": [
      "UsageError: Line magic function `%endpoint` not found.\n"
     ]
    }
   ],
   "source": [
    "%endpoint http://www.semwebtech.org/mondial/10/sparql\n",
    "%lang en\n",
    "%log debug"
   ]
  },
  {
   "cell_type": "markdown",
   "metadata": {},
   "source": [
    "## Exploration du graphe "
   ]
  },
  {
   "cell_type": "markdown",
   "metadata": {},
   "source": [
    "### URI avec leur types"
   ]
  },
  {
   "cell_type": "code",
   "execution_count": 2,
   "metadata": {},
   "outputs": [
    {
     "ename": "SyntaxError",
     "evalue": "leading zeros in decimal integer literals are not permitted; use an 0o prefix for octal integers (1142269.py, line 6)",
     "output_type": "error",
     "traceback": [
      "\u001b[0;36m  Input \u001b[0;32mIn [2]\u001b[0;36m\u001b[0m\n\u001b[0;31m    PREFIX coun: <http://www.daml.org/2001/09/countries/iso-3166-ont#>\u001b[0m\n\u001b[0m                                           ^\u001b[0m\n\u001b[0;31mSyntaxError\u001b[0m\u001b[0;31m:\u001b[0m leading zeros in decimal integer literals are not permitted; use an 0o prefix for octal integers\n"
     ]
    }
   ],
   "source": [
    "%format any\n",
    "%display table withtypes\n",
    "\n",
    "PREFIX prefix: <http://prefix.cc/>\n",
    "PREFIX co: <http://purl.org/ontology/co/core#>\n",
    "PREFIX coun: <http://www.daml.org/2001/09/countries/iso-3166-ont#>\n",
    "prefix rdfs: <http://www.w3.org/2000/01/rdf-schema#>\n",
    "prefix owl: <http://www.w3.org/2002/07/owl#>\n",
    "prefix mon: <http://www.semwebtech.org/mondial/10/meta#>\n",
    "prefix mondial: <http://www.semwebtech.org/mondial/10/>\n",
    "SELECT DISTINCT ?t\n",
    "WHERE {\n",
    "    ?a a ?t\n",
    "} "
   ]
  },
  {
   "cell_type": "markdown",
   "metadata": {},
   "source": [
    "### Les propriétes liées à des sujets de type Country"
   ]
  },
  {
   "cell_type": "code",
   "execution_count": null,
   "metadata": {},
   "outputs": [
    {
     "data": {
      "text/html": [
       "<div class=\"krn-spql\"><div class=\"magic\">Request format: ANY</div><div class=\"magic\">Display: table</div><div class=\"magic\">Result maximum size: 100</div></div>"
      ],
      "text/plain": [
       "Request format: ANY\n",
       "Display: table\n",
       "Result maximum size: 100\n"
      ]
     },
     "metadata": {},
     "output_type": "display_data"
    },
    {
     "data": {
      "text/html": [
       "<div class=\"krn-spql\"><table><tr class=hdr><th>p</th></tr><tr class=odd><td class=val><a href=\"http://www.semwebtech.org/mondial/10/meta#hadPopulation\" target=\"_other\">http://www.semwebtech.org/mondial/10/meta#hadPopulation</a></td></tr><tr class=even><td class=val><a href=\"http://www.semwebtech.org/mondial/10/meta#isMember\" target=\"_other\">http://www.semwebtech.org/mondial/10/meta#isMember</a></td></tr><tr class=odd><td class=val><a href=\"http://www.semwebtech.org/mondial/10/meta#hasCity\" target=\"_other\">http://www.semwebtech.org/mondial/10/meta#hasCity</a></td></tr><tr class=even><td class=val><a href=\"http://www.semwebtech.org/mondial/10/meta#neighbor\" target=\"_other\">http://www.semwebtech.org/mondial/10/meta#neighbor</a></td></tr><tr class=odd><td class=val><a href=\"http://www.w3.org/2002/07/owl#sameAs\" target=\"_other\">http://www.w3.org/2002/07/owl#sameAs</a></td></tr><tr class=even><td class=val><a href=\"http://www.semwebtech.org/mondial/10/meta#unemployment\" target=\"_other\">http://www.semwebtech.org/mondial/10/meta#unemployment</a></td></tr><tr class=odd><td class=val><a href=\"http://www.semwebtech.org/mondial/10/meta#inflation\" target=\"_other\">http://www.semwebtech.org/mondial/10/meta#inflation</a></td></tr><tr class=even><td class=val><a href=\"http://www.semwebtech.org/mondial/10/meta#gdpTotal\" target=\"_other\">http://www.semwebtech.org/mondial/10/meta#gdpTotal</a></td></tr><tr class=odd><td class=val><a href=\"http://www.semwebtech.org/mondial/10/meta#hasProvince\" target=\"_other\">http://www.semwebtech.org/mondial/10/meta#hasProvince</a></td></tr><tr class=even><td class=val><a href=\"http://www.semwebtech.org/mondial/10/meta#localname\" target=\"_other\">http://www.semwebtech.org/mondial/10/meta#localname</a></td></tr><tr class=odd><td class=val><a href=\"http://www.semwebtech.org/mondial/10/meta#populationGrowth\" target=\"_other\">http://www.semwebtech.org/mondial/10/meta#populationGrowth</a></td></tr><tr class=even><td class=val><a href=\"http://www.semwebtech.org/mondial/10/meta#capital\" target=\"_other\">http://www.semwebtech.org/mondial/10/meta#capital</a></td></tr><tr class=odd><td class=val><a href=\"http://www.w3.org/1999/02/22-rdf-syntax-ns#type\" target=\"_other\">http://www.w3.org/1999/02/22-rdf-syntax-ns#type</a></td></tr><tr class=even><td class=val><a href=\"http://www.semwebtech.org/mondial/10/meta#independenceDate\" target=\"_other\">http://www.semwebtech.org/mondial/10/meta#independenceDate</a></td></tr><tr class=odd><td class=val><a href=\"http://www.semwebtech.org/mondial/10/meta#gdpServ\" target=\"_other\">http://www.semwebtech.org/mondial/10/meta#gdpServ</a></td></tr><tr class=even><td class=val><a href=\"http://www.semwebtech.org/mondial/10/meta#carCode\" target=\"_other\">http://www.semwebtech.org/mondial/10/meta#carCode</a></td></tr><tr class=odd><td class=val><a href=\"http://www.semwebtech.org/mondial/10/meta#area\" target=\"_other\">http://www.semwebtech.org/mondial/10/meta#area</a></td></tr><tr class=even><td class=val><a href=\"http://www.semwebtech.org/mondial/10/meta#gdpInd\" target=\"_other\">http://www.semwebtech.org/mondial/10/meta#gdpInd</a></td></tr><tr class=odd><td class=val><a href=\"http://www.semwebtech.org/mondial/10/meta#wasDependentOf\" target=\"_other\">http://www.semwebtech.org/mondial/10/meta#wasDependentOf</a></td></tr><tr class=even><td class=val><a href=\"http://www.semwebtech.org/mondial/10/meta#gdpAgri\" target=\"_other\">http://www.semwebtech.org/mondial/10/meta#gdpAgri</a></td></tr><tr class=odd><td class=val><a href=\"http://www.semwebtech.org/mondial/10/meta#population\" target=\"_other\">http://www.semwebtech.org/mondial/10/meta#population</a></td></tr><tr class=even><td class=val><a href=\"http://www.semwebtech.org/mondial/10/meta#government\" target=\"_other\">http://www.semwebtech.org/mondial/10/meta#government</a></td></tr><tr class=odd><td class=val><a href=\"http://www.semwebtech.org/mondial/10/meta#name\" target=\"_other\">http://www.semwebtech.org/mondial/10/meta#name</a></td></tr><tr class=even><td class=val><a href=\"http://www.semwebtech.org/mondial/10/meta#infantMortality\" target=\"_other\">http://www.semwebtech.org/mondial/10/meta#infantMortality</a></td></tr><tr class=odd><td class=val><a href=\"http://www.semwebtech.org/mondial/10/meta#encompassed\" target=\"_other\">http://www.semwebtech.org/mondial/10/meta#encompassed</a></td></tr><tr class=even><td class=val><a href=\"http://www.semwebtech.org/mondial/10/meta#dependentOf\" target=\"_other\">http://www.semwebtech.org/mondial/10/meta#dependentOf</a></td></tr><tr class=odd><td class=val><a href=\"http://www.semwebtech.org/mondial/10/meta#othername\" target=\"_other\">http://www.semwebtech.org/mondial/10/meta#othername</a></td></tr></table><div class=\"tinfo\">Total: 27, Shown: 27</div></div>"
      ]
     },
     "metadata": {},
     "output_type": "display_data"
    }
   ],
   "source": [
    "%format any\n",
    "%display table \n",
    "%show 100\n",
    "\n",
    "\n",
    "PREFIX prefix: <http://prefix.cc/>\n",
    "PREFIX co: <http://purl.org/ontology/co/core#>\n",
    "PREFIX coun: <http://www.daml.org/2001/09/countries/iso-3166-ont#>\n",
    "prefix rdfs: <http://www.w3.org/2000/01/rdf-schema#>\n",
    "prefix owl: <http://www.w3.org/2002/07/owl#>\n",
    "prefix : <http://www.semwebtech.org/mondial/10/meta#>\n",
    "prefix mondial: <http://www.semwebtech.org/mondial/10/>\n",
    "SELECT DISTINCT ?p\n",
    "WHERE {\n",
    "    ?a a :Country ;\n",
    "         ?p ?x \n",
    "} LIMIT 200"
   ]
  },
  {
   "cell_type": "markdown",
   "metadata": {},
   "source": [
    "### Les propriétes liées à des sujets de type River"
   ]
  },
  {
   "cell_type": "code",
   "execution_count": null,
   "metadata": {
    "scrolled": true
   },
   "outputs": [
    {
     "data": {
      "text/html": [
       "<div class=\"krn-spql\"><div class=\"magic\">Request format: ANY</div><div class=\"magic\">Display: table</div><div class=\"magic\">Result maximum size: 100</div></div>"
      ],
      "text/plain": [
       "Request format: ANY\n",
       "Display: table\n",
       "Result maximum size: 100\n"
      ]
     },
     "metadata": {},
     "output_type": "display_data"
    },
    {
     "data": {
      "text/html": [
       "<div class=\"krn-spql\"><table><tr class=hdr><th>p</th></tr><tr class=odd><td class=val><a href=\"http://www.semwebtech.org/mondial/10/meta#name\" target=\"_other\">http://www.semwebtech.org/mondial/10/meta#name</a></td></tr><tr class=even><td class=val><a href=\"http://www.semwebtech.org/mondial/10/meta#flowsInto\" target=\"_other\">http://www.semwebtech.org/mondial/10/meta#flowsInto</a></td></tr><tr class=odd><td class=val><a href=\"http://www.semwebtech.org/mondial/10/meta#locatedIn\" target=\"_other\">http://www.semwebtech.org/mondial/10/meta#locatedIn</a></td></tr><tr class=even><td class=val><a href=\"http://www.w3.org/2002/07/owl#sameAs\" target=\"_other\">http://www.w3.org/2002/07/owl#sameAs</a></td></tr><tr class=odd><td class=val><a href=\"http://www.semwebtech.org/mondial/10/meta#hasEstuary\" target=\"_other\">http://www.semwebtech.org/mondial/10/meta#hasEstuary</a></td></tr><tr class=even><td class=val><a href=\"http://www.semwebtech.org/mondial/10/meta#length\" target=\"_other\">http://www.semwebtech.org/mondial/10/meta#length</a></td></tr><tr class=odd><td class=val><a href=\"http://www.semwebtech.org/mondial/10/meta#hasSource\" target=\"_other\">http://www.semwebtech.org/mondial/10/meta#hasSource</a></td></tr><tr class=even><td class=val><a href=\"http://www.w3.org/1999/02/22-rdf-syntax-ns#type\" target=\"_other\">http://www.w3.org/1999/02/22-rdf-syntax-ns#type</a></td></tr><tr class=odd><td class=val><a href=\"http://www.semwebtech.org/mondial/10/meta#area\" target=\"_other\">http://www.semwebtech.org/mondial/10/meta#area</a></td></tr><tr class=even><td class=val><a href=\"http://www.semwebtech.org/mondial/10/meta#locatedOnIsland\" target=\"_other\">http://www.semwebtech.org/mondial/10/meta#locatedOnIsland</a></td></tr><tr class=odd><td class=val><a href=\"http://www.semwebtech.org/mondial/10/meta#flowsThrough\" target=\"_other\">http://www.semwebtech.org/mondial/10/meta#flowsThrough</a></td></tr></table><div class=\"tinfo\">Total: 11, Shown: 11</div></div>"
      ]
     },
     "metadata": {},
     "output_type": "display_data"
    }
   ],
   "source": [
    "%format any\n",
    "%display table \n",
    "%show 100\n",
    "\n",
    "\n",
    "PREFIX prefix: <http://prefix.cc/>\n",
    "PREFIX co: <http://purl.org/ontology/co/core#>\n",
    "PREFIX coun: <http://www.daml.org/2001/09/countries/iso-3166-ont#>\n",
    "prefix rdfs: <http://www.w3.org/2000/01/rdf-schema#>\n",
    "prefix owl: <http://www.w3.org/2002/07/owl#>\n",
    "prefix : <http://www.semwebtech.org/mondial/10/meta#>\n",
    "prefix mondial: <http://www.semwebtech.org/mondial/10/>\n",
    "SELECT DISTINCT ?p\n",
    "WHERE {\n",
    "    ?a a :River ;\n",
    "         ?p ?x \n",
    "} LIMIT 200"
   ]
  },
  {
   "cell_type": "code",
   "execution_count": null,
   "metadata": {},
   "outputs": [],
   "source": []
  },
  {
   "cell_type": "markdown",
   "metadata": {},
   "source": [
    "## Questions\n",
    "Exprimer les requetes qui retournent les informations suivantes :"
   ]
  },
  {
   "cell_type": "markdown",
   "metadata": {},
   "source": [
    "### 1-a les affluents (:River) directs et indirects de la mer du nord"
   ]
  },
  {
   "cell_type": "code",
   "execution_count": null,
   "metadata": {
    "scrolled": false
   },
   "outputs": [
    {
     "data": {
      "text/html": [
       "<div class=\"krn-spql\"><div class=\"magic\">Result maximum size: 20</div><div class=\"magic\">Request format: ANY</div></div>"
      ],
      "text/plain": [
       "Result maximum size: 20\n",
       "Request format: ANY\n"
      ]
     },
     "metadata": {},
     "output_type": "display_data"
    },
    {
     "data": {
      "text/html": [
       "<div class=\"krn-spql\"><table><tr class=hdr><th>c</th><th>type</th></tr><tr class=odd><td class=val><a href=\"http://www.semwebtech.org/mondial/10/rivers/Rhein/\" target=\"_other\">http://www.semwebtech.org/mondial/10/rivers/Rhein/</a></td><td class=typ>uri</td></tr><tr class=even><td class=val><a href=\"http://www.semwebtech.org/mondial/10/rivers/Thames/\" target=\"_other\">http://www.semwebtech.org/mondial/10/rivers/Thames/</a></td><td class=typ>uri</td></tr><tr class=odd><td class=val><a href=\"http://www.semwebtech.org/mondial/10/rivers/Ness/\" target=\"_other\">http://www.semwebtech.org/mondial/10/rivers/Ness/</a></td><td class=typ>uri</td></tr><tr class=even><td class=val><a href=\"http://www.semwebtech.org/mondial/10/rivers/Schelde/\" target=\"_other\">http://www.semwebtech.org/mondial/10/rivers/Schelde/</a></td><td class=typ>uri</td></tr><tr class=odd><td class=val><a href=\"http://www.semwebtech.org/mondial/10/rivers/Elbe/\" target=\"_other\">http://www.semwebtech.org/mondial/10/rivers/Elbe/</a></td><td class=typ>uri</td></tr><tr class=even><td class=val><a href=\"http://www.semwebtech.org/mondial/10/rivers/Trent/\" target=\"_other\">http://www.semwebtech.org/mondial/10/rivers/Trent/</a></td><td class=typ>uri</td></tr><tr class=odd><td class=val><a href=\"http://www.semwebtech.org/mondial/10/rivers/Weser/\" target=\"_other\">http://www.semwebtech.org/mondial/10/rivers/Weser/</a></td><td class=typ>uri</td></tr></table><div class=\"tinfo\">Total: 7, Shown: 7</div></div>"
      ]
     },
     "metadata": {},
     "output_type": "display_data"
    }
   ],
   "source": [
    "%show 20\n",
    " %format ANY\n",
    " \n",
    "PREFIX prefix: <http://prefix.cc/>\n",
    "PREFIX co: <http://purl.org/ontology/co/core#>\n",
    "PREFIX coun: <http://www.daml.org/2001/09/countries/iso-3166-ont#>\n",
    "prefix rdfs: <http://www.w3.org/2000/01/rdf-schema#>\n",
    "prefix owl: <http://www.w3.org/2002/07/owl#>\n",
    "prefix : <http://www.semwebtech.org/mondial/10/meta#>\n",
    "prefix mondial: <http://www.semwebtech.org/mondial/10/>\n",
    "base <http://www.semwebtech.org/mondial/10/>\n",
    "Select distinct ?r \n",
    "where {\n",
    "    ?r a :River.\n",
    "    ?r :flowsInto <seas/North+Sea/>\n",
    "}"
   ]
  },
  {
   "cell_type": "markdown",
   "metadata": {},
   "source": [
    "### 1-b- le nombre d'affluents (:River) directs et indirects de la mer du nord"
   ]
  },
  {
   "cell_type": "code",
   "execution_count": null,
   "metadata": {},
   "outputs": [],
   "source": [
    "%show 20\n",
    "# %format n3\n",
    "%format ANY\n",
    "#%lang en\n",
    "#%display table\n",
    "#%display diagram svg\n",
    "PREFIX prefix: <http://prefix.cc/>\n",
    "PREFIX co: <http://purl.org/ontology/co/core#>\n",
    "PREFIX coun: <http://www.daml.org/2001/09/countries/iso-3166-ont#>\n",
    "prefix rdfs: <http://www.w3.org/2000/01/rdf-schema#>\n",
    "prefix owl: <http://www.w3.org/2002/07/owl#>\n",
    "prefix : <http://www.semwebtech.org/mondial/10/meta#>\n",
    "prefix mondial: <http://www.semwebtech.org/mondial/10/>\n",
    "base <http://www.semwebtech.org/mondial/10/>\n",
    "\n",
    "Select distinct ?r\n",
    "where {\n",
    "    {\n",
    "        ?r a :River.\n",
    "        ?r :flowsInto+ <seas/North+Sea/>.\n",
    "    }\n",
    "}"
   ]
  },
  {
   "cell_type": "markdown",
   "metadata": {},
   "source": [
    "### 2-a Le affluents (:River) directs ou indirects de la mer du nord qui  passent  par le Rhin"
   ]
  },
  {
   "cell_type": "code",
   "execution_count": null,
   "metadata": {},
   "outputs": [
    {
     "data": {
      "text/html": [
       "<div class=\"krn-spql\"><div class=\"magic\">Result maximum size: 20</div><div class=\"magic\">Request format: ANY</div></div>"
      ],
      "text/plain": [
       "Result maximum size: 20\n",
       "Request format: ANY\n"
      ]
     },
     "metadata": {},
     "output_type": "display_data"
    },
    {
     "data": {
      "text/html": [
       "<div class=\"krn-spql\"><table><tr class=hdr><th>c</th><th>type</th></tr><tr class=odd><td class=val><a href=\"http://www.semwebtech.org/mondial/10/rivers/Hinterrhein/\" target=\"_other\">http://www.semwebtech.org/mondial/10/rivers/Hinterrhein/</a></td><td class=typ>uri</td></tr><tr class=even><td class=val><a href=\"http://www.semwebtech.org/mondial/10/rivers/Ruhr/\" target=\"_other\">http://www.semwebtech.org/mondial/10/rivers/Ruhr/</a></td><td class=typ>uri</td></tr><tr class=odd><td class=val><a href=\"http://www.semwebtech.org/mondial/10/rivers/Maas/\" target=\"_other\">http://www.semwebtech.org/mondial/10/rivers/Maas/</a></td><td class=typ>uri</td></tr><tr class=even><td class=val><a href=\"http://www.semwebtech.org/mondial/10/rivers/Lippe/\" target=\"_other\">http://www.semwebtech.org/mondial/10/rivers/Lippe/</a></td><td class=typ>uri</td></tr><tr class=odd><td class=val><a href=\"http://www.semwebtech.org/mondial/10/rivers/Lahn/\" target=\"_other\">http://www.semwebtech.org/mondial/10/rivers/Lahn/</a></td><td class=typ>uri</td></tr><tr class=even><td class=val><a href=\"http://www.semwebtech.org/mondial/10/rivers/Bregenzer+Ach/\" target=\"_other\">http://www.semwebtech.org/mondial/10/rivers/Bregenzer+Ach/</a></td><td class=typ>uri</td></tr><tr class=odd><td class=val><a href=\"http://www.semwebtech.org/mondial/10/rivers/Aare/\" target=\"_other\">http://www.semwebtech.org/mondial/10/rivers/Aare/</a></td><td class=typ>uri</td></tr><tr class=even><td class=val><a href=\"http://www.semwebtech.org/mondial/10/rivers/Limmat/\" target=\"_other\">http://www.semwebtech.org/mondial/10/rivers/Limmat/</a></td><td class=typ>uri</td></tr><tr class=odd><td class=val><a href=\"http://www.semwebtech.org/mondial/10/rivers/Reuss/\" target=\"_other\">http://www.semwebtech.org/mondial/10/rivers/Reuss/</a></td><td class=typ>uri</td></tr><tr class=even><td class=val><a href=\"http://www.semwebtech.org/mondial/10/rivers/Sieg/\" target=\"_other\">http://www.semwebtech.org/mondial/10/rivers/Sieg/</a></td><td class=typ>uri</td></tr><tr class=odd><td class=val><a href=\"http://www.semwebtech.org/mondial/10/rivers/Mosel/\" target=\"_other\">http://www.semwebtech.org/mondial/10/rivers/Mosel/</a></td><td class=typ>uri</td></tr><tr class=even><td class=val><a href=\"http://www.semwebtech.org/mondial/10/rivers/Saar/\" target=\"_other\">http://www.semwebtech.org/mondial/10/rivers/Saar/</a></td><td class=typ>uri</td></tr><tr class=odd><td class=val><a href=\"http://www.semwebtech.org/mondial/10/rivers/Sauer/\" target=\"_other\">http://www.semwebtech.org/mondial/10/rivers/Sauer/</a></td><td class=typ>uri</td></tr><tr class=even><td class=val><a href=\"http://www.semwebtech.org/mondial/10/rivers/Alzette/\" target=\"_other\">http://www.semwebtech.org/mondial/10/rivers/Alzette/</a></td><td class=typ>uri</td></tr><tr class=odd><td class=val><a href=\"http://www.semwebtech.org/mondial/10/rivers/Neckar/\" target=\"_other\">http://www.semwebtech.org/mondial/10/rivers/Neckar/</a></td><td class=typ>uri</td></tr><tr class=even><td class=val><a href=\"http://www.semwebtech.org/mondial/10/rivers/Enz/\" target=\"_other\">http://www.semwebtech.org/mondial/10/rivers/Enz/</a></td><td class=typ>uri</td></tr><tr class=odd><td class=val><a href=\"http://www.semwebtech.org/mondial/10/rivers/Ill/\" target=\"_other\">http://www.semwebtech.org/mondial/10/rivers/Ill/</a></td><td class=typ>uri</td></tr><tr class=even><td class=val><a href=\"http://www.semwebtech.org/mondial/10/rivers/Elz/\" target=\"_other\">http://www.semwebtech.org/mondial/10/rivers/Elz/</a></td><td class=typ>uri</td></tr><tr class=odd><td class=val><a href=\"http://www.semwebtech.org/mondial/10/rivers/Wupper/\" target=\"_other\">http://www.semwebtech.org/mondial/10/rivers/Wupper/</a></td><td class=typ>uri</td></tr><tr class=even><td class=val><a href=\"http://www.semwebtech.org/mondial/10/rivers/Main/\" target=\"_other\">http://www.semwebtech.org/mondial/10/rivers/Main/</a></td><td class=typ>uri</td></tr></table><div class=\"tinfo\">Total: 20, Shown: 20</div></div>"
      ]
     },
     "metadata": {},
     "output_type": "display_data"
    }
   ],
   "source": [
    "%show 20\n",
    " %format ANY\n",
    " \n",
    "PREFIX prefix: <http://prefix.cc/>\n",
    "PREFIX co: <http://purl.org/ontology/co/core#>\n",
    "PREFIX coun: <http://www.daml.org/2001/09/countries/iso-3166-ont#>\n",
    "prefix rdfs: <http://www.w3.org/2000/01/rdf-schema#>\n",
    "prefix owl: <http://www.w3.org/2002/07/owl#>\n",
    "prefix : <http://www.semwebtech.org/mondial/10/meta#>\n",
    "prefix mondial: <http://www.semwebtech.org/mondial/10/>\n",
    "base <http://www.semwebtech.org/mondial/10/>\n",
    "Select distinct ?r\n",
    "where {\n",
    "    {\n",
    "        ?r a :River.\n",
    "        ?r :flowsInto+ <rivers/Rhein/>.\n",
    "        ?r :flowsInto+ <seas/North+Sea/>.\n",
    "    }\n",
    "}"
   ]
  },
  {
   "cell_type": "markdown",
   "metadata": {},
   "source": [
    "### 2-b Le affluents (:River) directs et indirects de la mer du nord qui ne passent pas par le Rhin\n"
   ]
  },
  {
   "cell_type": "code",
   "execution_count": null,
   "metadata": {
    "scrolled": true
   },
   "outputs": [
    {
     "data": {
      "text/html": [
       "<div class=\"krn-spql\"><div class=\"magic\">Result maximum size: 20</div><div class=\"magic\">Request format: ANY</div></div>"
      ],
      "text/plain": [
       "Result maximum size: 20\n",
       "Request format: ANY\n"
      ]
     },
     "metadata": {},
     "output_type": "display_data"
    },
    {
     "data": {
      "text/html": [
       "<div class=\"krn-spql\"><table><tr class=hdr><th>c</th></tr><tr class=odd><td class=val><a href=\"http://www.semwebtech.org/mondial/10/rivers/Rhein/\" target=\"_other\">http://www.semwebtech.org/mondial/10/rivers/Rhein/</a></td></tr><tr class=even><td class=val><a href=\"http://www.semwebtech.org/mondial/10/rivers/Thames/\" target=\"_other\">http://www.semwebtech.org/mondial/10/rivers/Thames/</a></td></tr><tr class=odd><td class=val><a href=\"http://www.semwebtech.org/mondial/10/rivers/Ness/\" target=\"_other\">http://www.semwebtech.org/mondial/10/rivers/Ness/</a></td></tr><tr class=even><td class=val><a href=\"http://www.semwebtech.org/mondial/10/rivers/Schelde/\" target=\"_other\">http://www.semwebtech.org/mondial/10/rivers/Schelde/</a></td></tr><tr class=odd><td class=val><a href=\"http://www.semwebtech.org/mondial/10/rivers/Elbe/\" target=\"_other\">http://www.semwebtech.org/mondial/10/rivers/Elbe/</a></td></tr><tr class=even><td class=val><a href=\"http://www.semwebtech.org/mondial/10/rivers/Mulde/\" target=\"_other\">http://www.semwebtech.org/mondial/10/rivers/Mulde/</a></td></tr><tr class=odd><td class=val><a href=\"http://www.semwebtech.org/mondial/10/rivers/Moldau/\" target=\"_other\">http://www.semwebtech.org/mondial/10/rivers/Moldau/</a></td></tr><tr class=even><td class=val><a href=\"http://www.semwebtech.org/mondial/10/rivers/Havel/\" target=\"_other\">http://www.semwebtech.org/mondial/10/rivers/Havel/</a></td></tr><tr class=odd><td class=val><a href=\"http://www.semwebtech.org/mondial/10/rivers/Spree/\" target=\"_other\">http://www.semwebtech.org/mondial/10/rivers/Spree/</a></td></tr><tr class=even><td class=val><a href=\"http://www.semwebtech.org/mondial/10/rivers/Saale/\" target=\"_other\">http://www.semwebtech.org/mondial/10/rivers/Saale/</a></td></tr><tr class=odd><td class=val><a href=\"http://www.semwebtech.org/mondial/10/rivers/Weiße+Elster/\" target=\"_other\">http://www.semwebtech.org/mondial/10/rivers/Weiße+Elster/</a></td></tr><tr class=even><td class=val><a href=\"http://www.semwebtech.org/mondial/10/rivers/Trent/\" target=\"_other\">http://www.semwebtech.org/mondial/10/rivers/Trent/</a></td></tr><tr class=odd><td class=val><a href=\"http://www.semwebtech.org/mondial/10/rivers/Weser/\" target=\"_other\">http://www.semwebtech.org/mondial/10/rivers/Weser/</a></td></tr><tr class=even><td class=val><a href=\"http://www.semwebtech.org/mondial/10/rivers/Fulda/\" target=\"_other\">http://www.semwebtech.org/mondial/10/rivers/Fulda/</a></td></tr><tr class=odd><td class=val><a href=\"http://www.semwebtech.org/mondial/10/rivers/Werra/\" target=\"_other\">http://www.semwebtech.org/mondial/10/rivers/Werra/</a></td></tr><tr class=even><td class=val><a href=\"http://www.semwebtech.org/mondial/10/rivers/Aller/\" target=\"_other\">http://www.semwebtech.org/mondial/10/rivers/Aller/</a></td></tr><tr class=odd><td class=val><a href=\"http://www.semwebtech.org/mondial/10/rivers/Leine/\" target=\"_other\">http://www.semwebtech.org/mondial/10/rivers/Leine/</a></td></tr><tr class=even><td class=val><a href=\"http://www.semwebtech.org/mondial/10/rivers/Oker/\" target=\"_other\">http://www.semwebtech.org/mondial/10/rivers/Oker/</a></td></tr></table><div class=\"tinfo\">Total: 18, Shown: 18</div></div>"
      ]
     },
     "metadata": {},
     "output_type": "display_data"
    }
   ],
   "source": [
    "%show 20\n",
    " %format ANY\n",
    " \n",
    "PREFIX prefix: <http://prefix.cc/>\n",
    "PREFIX co: <http://purl.org/ontology/co/core#>\n",
    "PREFIX coun: <http://www.daml.org/2001/09/countries/iso-3166-ont#>\n",
    "prefix rdfs: <http://www.w3.org/2000/01/rdf-schema#>\n",
    "prefix owl: <http://www.w3.org/2002/07/owl#>\n",
    "prefix : <http://www.semwebtech.org/mondial/10/meta#>\n",
    "prefix mondial: <http://www.semwebtech.org/mondial/10/>\n",
    "base <http://www.semwebtech.org/mondial/10/>\n",
    "\n",
    "Select distinct ?r\n",
    "where {\n",
    "       {\n",
    "       ?r a :River.\n",
    "       ?r :flowsInto+ <seas/North+Sea/>.\n",
    "       }\n",
    "       MINUS\n",
    "    {\n",
    "        ?r a :River.\n",
    "        ?r :flowsInto+ <rivers/Rhein/>.\n",
    "        ?r :flowsInto+ <seas/North+Sea/>.\n",
    "    }\n",
    "}\n"
   ]
  },
  {
   "cell_type": "markdown",
   "metadata": {},
   "source": [
    "### 3- Les rivières avec au moins vingt affluents."
   ]
  },
  {
   "cell_type": "code",
   "execution_count": null,
   "metadata": {
    "scrolled": false
   },
   "outputs": [
    {
     "data": {
      "text/html": [
       "<div class=\"krn-spql\"><div class=\"magic\">Result maximum size: 20</div><div class=\"magic\">Request format: ANY</div></div>"
      ],
      "text/plain": [
       "Result maximum size: 20\n",
       "Request format: ANY\n"
      ]
     },
     "metadata": {},
     "output_type": "display_data"
    },
    {
     "data": {
      "text/html": [
       "<div class=\"krn-spql\"><table><tr class=hdr><th>r</th><th>type</th>\n",
       "<th>cp</th><th>type</th></tr><tr class=odd><td class=val><a href=\"http://www.semwebtech.org/mondial/10/rivers/Donau/\" target=\"_other\">http://www.semwebtech.org/mondial/10/rivers/Donau/</a></td><td class=typ>uri</td>\n",
       "<td class=val>21</td><td class=typ>literal, none</td></tr></table><div class=\"tinfo\">Total: 1, Shown: 1</div></div>"
      ]
     },
     "metadata": {},
     "output_type": "display_data"
    }
   ],
   "source": [
    "%show 20\n",
    " %format ANY\n",
    " \n",
    "PREFIX prefix: <http://prefix.cc/>\n",
    "PREFIX co: <http://purl.org/ontology/co/core#>\n",
    "PREFIX coun: <http://www.daml.org/2001/09/countries/iso-3166-ont#>\n",
    "prefix rdfs: <http://www.w3.org/2000/01/rdf-schema#>\n",
    "prefix owl: <http://www.w3.org/2002/07/owl#>\n",
    "prefix : <http://www.semwebtech.org/mondial/10/meta#>\n",
    "prefix mondial: <http://www.semwebtech.org/mondial/10/>\n",
    "base <http://www.semwebtech.org/mondial/10/>\n",
    "\n",
    "SELECT ?r \n",
    "WHERE { \n",
    "    ?r a :River.\n",
    "    ?r1 :flowsInto ?r.\n",
    "}\n",
    "GROUP BY ?r\n",
    "HAVING ( count(?r1) >= 20)\n"
   ]
  },
  {
   "cell_type": "markdown",
   "metadata": {},
   "source": [
    "### 4- Les lacs traversés par le Rhone"
   ]
  },
  {
   "cell_type": "code",
   "execution_count": null,
   "metadata": {
    "scrolled": false
   },
   "outputs": [
    {
     "data": {
      "text/html": [
       "<div class=\"krn-spql\"><div class=\"magic\">Result maximum size: 20</div><div class=\"magic\">Request format: ANY</div></div>"
      ],
      "text/plain": [
       "Result maximum size: 20\n",
       "Request format: ANY\n"
      ]
     },
     "metadata": {},
     "output_type": "display_data"
    },
    {
     "data": {
      "text/html": [
       "<div class=\"krn-spql\"><table><tr class=hdr><th>lake</th><th>type</th></tr><tr class=odd><td class=val><a href=\"http://www.semwebtech.org/mondial/10/lakes/Lac+Leman/\" target=\"_other\">http://www.semwebtech.org/mondial/10/lakes/Lac+Leman/</a></td><td class=typ>uri</td></tr></table><div class=\"tinfo\">Total: 1, Shown: 1</div></div>"
      ]
     },
     "metadata": {},
     "output_type": "display_data"
    }
   ],
   "source": [
    "%show 20\n",
    " %format ANY\n",
    " \n",
    "PREFIX prefix: <http://prefix.cc/>\n",
    "PREFIX co: <http://purl.org/ontology/co/core#>\n",
    "PREFIX coun: <http://www.daml.org/2001/09/countries/iso-3166-ont#>\n",
    "prefix rdfs: <http://www.w3.org/2000/01/rdf-schema#>\n",
    "prefix owl: <http://www.w3.org/2002/07/owl#>\n",
    "prefix : <http://www.semwebtech.org/mondial/10/meta#>\n",
    "prefix mondial: <http://www.semwebtech.org/mondial/10/>\n",
    "prefix rivers: <http://www.semwebtech.org/mondial/10/rivers/> \n",
    "base <http://www.semwebtech.org/mondial/10/>\n",
    "\n",
    "SELECT distinct ?l \n",
    "WHERE {\n",
    "    ?l a :Lake.\n",
    "    ?r a :River.\n",
    "    ?r :name  \"Rhone\".\n",
    "    ?r :flowsThrough ?l.\n",
    "}\n",
    "\n"
   ]
  },
  {
   "cell_type": "markdown",
   "metadata": {},
   "source": [
    "### 5- Les pays avec plus que 10000000 habitants traversés par le Danube"
   ]
  },
  {
   "cell_type": "code",
   "execution_count": null,
   "metadata": {
    "scrolled": false
   },
   "outputs": [
    {
     "data": {
      "text/html": [
       "<div class=\"krn-spql\"><div class=\"magic\">Result maximum size: 20</div><div class=\"magic\">Request format: ANY</div></div>"
      ],
      "text/plain": [
       "Result maximum size: 20\n",
       "Request format: ANY\n"
      ]
     },
     "metadata": {},
     "output_type": "display_data"
    },
    {
     "data": {
      "text/html": [
       "<div class=\"krn-spql\"><table><tr class=hdr><th>c</th>\n",
       "<th>p</th></tr><tr class=odd><td class=val><a href=\"http://www.semwebtech.org/mondial/10/countries/D/\" target=\"_other\">http://www.semwebtech.org/mondial/10/countries/D/</a></td>\n",
       "<td class=val>82521653</td></tr><tr class=even><td class=val><a href=\"http://www.semwebtech.org/mondial/10/countries/RO/\" target=\"_other\">http://www.semwebtech.org/mondial/10/countries/RO/</a></td>\n",
       "<td class=val>20121641</td></tr><tr class=odd><td class=val><a href=\"http://www.semwebtech.org/mondial/10/countries/UA/\" target=\"_other\">http://www.semwebtech.org/mondial/10/countries/UA/</a></td>\n",
       "<td class=val>45633637</td></tr></table><div class=\"tinfo\">Total: 3, Shown: 3</div></div>"
      ]
     },
     "metadata": {},
     "output_type": "display_data"
    }
   ],
   "source": [
    "%show 20\n",
    " %format ANY\n",
    " \n",
    "PREFIX prefix: <http://prefix.cc/>\n",
    "PREFIX co: <http://purl.org/ontology/co/core#>\n",
    "PREFIX coun: <http://www.daml.org/2001/09/countries/iso-3166-ont#>\n",
    "prefix rdfs: <http://www.w3.org/2000/01/rdf-schema#>\n",
    "prefix owl: <http://www.w3.org/2002/07/owl#>\n",
    "prefix : <http://www.semwebtech.org/mondial/10/meta#>\n",
    "prefix mondial: <http://www.semwebtech.org/mondial/10/>\n",
    "prefix rivers: <http://www.semwebtech.org/mondial/10/rivers/> \n",
    "base <http://www.semwebtech.org/mondial/10/>\n",
    "\n",
    "SELECT distinct ?p ?pop\n",
    "WHERE {  \n",
    "    ?r a :River.\n",
    "    ?r :name  \"Donau\".\n",
    "    ?p a :Country.\n",
    "    ?r :locatedIn ?p.\n",
    "    ?p :population ?pop.\n",
    "    FILTER (?pop > 10000000)\n",
    "    \n",
    "}\n"
   ]
  },
  {
   "cell_type": "markdown",
   "metadata": {},
   "source": [
    "### 6- Les Pays qui appartiennent à toutes les organisations auxquelles appartient aussi le Liechtenstein"
   ]
  },
  {
   "cell_type": "code",
   "execution_count": null,
   "metadata": {
    "scrolled": false
   },
   "outputs": [
    {
     "data": {
      "text/html": [
       "<div class=\"krn-spql\"><div class=\"magic\">Result maximum size: 200</div><div class=\"magic\">Request format: ANY</div></div>"
      ],
      "text/plain": [
       "Result maximum size: 200\n",
       "Request format: ANY\n"
      ]
     },
     "metadata": {},
     "output_type": "display_data"
    },
    {
     "data": {
      "text/html": [
       "<div class=\"krn-spql\"><table><tr class=hdr><th>c</th>\n",
       "<th>cn</th></tr><tr class=odd><td class=val><a href=\"http://www.semwebtech.org/mondial/10/countries/N/\" target=\"_other\">http://www.semwebtech.org/mondial/10/countries/N/</a></td>\n",
       "<td class=val>Norway</td></tr><tr class=even><td class=val><a href=\"http://www.semwebtech.org/mondial/10/countries/FL/\" target=\"_other\">http://www.semwebtech.org/mondial/10/countries/FL/</a></td>\n",
       "<td class=val>Liechtenstein</td></tr><tr class=odd><td class=val><a href=\"http://www.semwebtech.org/mondial/10/countries/CH/\" target=\"_other\">http://www.semwebtech.org/mondial/10/countries/CH/</a></td>\n",
       "<td class=val>Switzerland</td></tr></table><div class=\"tinfo\">Total: 3, Shown: 3</div></div>"
      ]
     },
     "metadata": {},
     "output_type": "display_data"
    }
   ],
   "source": [
    "%show 200\n",
    " %format ANY\n",
    " \n",
    "PREFIX prefix: <http://prefix.cc/>\n",
    "PREFIX co: <http://purl.org/ontology/co/core#>\n",
    "PREFIX coun: <http://www.daml.org/2001/09/countries/iso-3166-ont#>\n",
    "prefix rdfs: <http://www.w3.org/2000/01/rdf-schema#>\n",
    "prefix owl: <http://www.w3.org/2002/07/owl#>\n",
    "prefix : <http://www.semwebtech.org/mondial/10/meta#>\n",
    "prefix mondial: <http://www.semwebtech.org/mondial/10/>\n",
    "prefix rivers: <http://www.semwebtech.org/mondial/10/rivers/> \n",
    "base <http://www.semwebtech.org/mondial/10/>\n",
    "\n",
    "SELECT ?name\n",
    "WHERE {  \n",
    "       ?c a :Country.\n",
    "       ?c :name \"Liechtenstein\".\n",
    "       ?c :isMember ?o.\n",
    "       ?res :isMember ?o.\n",
    "       ?res :name ?name.\n",
    "\n",
    "}\n"
   ]
  }
 ],
 "metadata": {
  "kernelspec": {
   "display_name": "Python 3",
   "language": "python",
   "name": "python3"
  },
  "language_info": {
   "codemirror_mode": {
    "name": "ipython",
    "version": 3
   },
   "file_extension": ".py",
   "mimetype": "text/x-python",
   "name": "python",
   "nbconvert_exporter": "python",
   "pygments_lexer": "ipython3",
   "version": "3.10.6"
  },
  "vscode": {
   "interpreter": {
    "hash": "aee8b7b246df8f9039afb4144a1f6fd8d2ca17a180786b69acc140d282b71a49"
   }
  }
 },
 "nbformat": 4,
 "nbformat_minor": 4
}
