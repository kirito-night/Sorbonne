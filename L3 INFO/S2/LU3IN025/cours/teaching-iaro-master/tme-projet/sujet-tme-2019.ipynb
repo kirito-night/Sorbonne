{
 "cells": [
  {
   "cell_type": "markdown",
   "metadata": {},
   "source": [
    "# Sujet de mini-projet (2019): Cooperative Path-Finding\n",
    "\n",
    "## Environnement\n",
    "Vous utiliserez le module `PySpriteWorld` qui élabore pygame et permet de manipuler simplement des personnages, cartes, et autres objets à l'écran. Ce module a été développé par Yann Chevaleyre. Une version plus complète se trouve [ici](https://github.com/yannche/pySpriteWorld), mais la version disponible dans ce répertoire suffit a priori pour faire tout ce dont vous avez besoin.\n",
    "\n",
    "Notez que vous pourrez ensuite éditer vos propres cartes à l'aide de l'éditeur [Tiled](http://www.mapeditor.org/), et exporter ces cartes au format `.json`.\n",
    "Il faut utiliser au moins trois calques lors de la création de votre carte: \n",
    "* un calque **joueur**, où seront les personnages \n",
    "* un calque **ramassable**, qui contient les objets que les personnages peuvent ramasser\n",
    "* un calque **obstacles**, pour les murs, les arbres, etc.\n",
    "\n",
    "**Note**: on fait ici l'hypothèse que toutes les informations (positions des agents et des trésors) sont disponibles pour tous les agents (i.e. on ne se pose pas de problème de communication)\n",
    "\n"
   ]
  },
  {
   "cell_type": "markdown",
   "metadata": {},
   "source": [
    "## 1: Echauffement\n",
    "\n",
    "Vous coderez grâce à l'algorithme A\\* un calcul de plus court chemin permettant à votre personnage d'atteindre une fiole, puis de la porter au centre du terrain. \n",
    "Vous pouvez utiliser comme squelette de code le fichier `discreteWorldAStar-playerVersion.py`. "
   ]
  },
  {
   "cell_type": "markdown",
   "metadata": {},
   "source": [
    "## 2-3: Mini-Projet\n",
    "\n",
    "Dans ce projet, on considère à présent en compétition que plusieurs personnages doivent chacun atteindre un objectif qui leur propre (une fiole donnée). Vous pouvez prendre comme squelette de code le fichier `discreteWorld-coopPathFinding.py`. \n",
    "On souhaite éviter les collisions entre personnages, ce qui signifie que l'on souhaite que les agents possèdent des algorithmes qui leurs permettent de s'éviter. Sont considérées comme collisions les situations où les personnages: \n",
    "\n",
    "* se trouvent au même moment sur la même case, ou bien \n",
    "* deux personnages se \"croisent\" \n",
    "\n",
    "Notez que vous ne devez pas utiliser les fichiers `collision.py` etc. qui empêchent au niveau du jeu les collisions. Ce sont ici les agents qui doivent anticiper ces collisions. \n",
    "\n",
    "L'objectif est de minimiser le temps total (donc, le max) nécessaire à la récupération de toutes les fioles. \n",
    "On peut noter qu'il est facile d'avoir une borne inf et une borne sup pour cette valeur: \n",
    "* une borne inf est le coût max des chemins optimaux calculés de manière individuelle (i.e. sans se préoccuper des autres agents)\n",
    "* une borne sup est la somme des coûts des max: en effet, une stratégie toujours garantie de ne générer aucune collision consiste à donner un ordre sur les agents, et à leur demander tour à tour d'effectuer leur chemin. \n",
    "\n",
    "\n",
    "\n",
    "\n",
    "### Travail demandé: \n",
    "Proposer au minimum trois stratégies:  \n",
    "* stratégie opportuniste de portionnement de chemins (\"path slicing\", [voir ici](http://theory.stanford.edu/~amitp/GameProgramming/MovingObstacles.html)). Il s'agit, lorsqu'un conflit est constaté, de recalculer une *petite partie* du chemin actuel en prenant en compte l'obstacle détecté. \n",
    "* stratégie coopérative de base: il s'agit d'identifier des chemins qui ne partagent aucune case. De manière évidente, ces chemins peuvent alors être éxécutés en parallèle par les personnages en étant certain de ne pas entrer en collision. Reste alors à organiser l'ordre de passage...\n",
    "* stratégie coopérative avancée: l'idée générale est d'utiliser une structure partagée, une table de réservation spatio-temporelle, où les cases sont désormais un triplet $(x,y,t)$. Il faut alors planifier dans cette nouvelle dimension.  \n",
    "Les détails peuvent être trouvés dans [cet article](http://www0.cs.ucl.ac.uk/staff/d.silver/web/Applications_files/coop-path-AIWisdom.pdf) de David Silver. \n",
    "\n",
    "Il vous faudra ensuite comparer vos stratégies selon (1) les résultats obtenus (attention, il n'est pas impossible que certains algorithmes ne garantissent pas la terminaison), et (2) le temps de calcul. \n",
    "Pour comparer vos stratégies, vous pourrez tester sur plusieurs cartes. 4 cartes simples (`pathFindingWorld_MultiPlayer1/2/3/4`) sont proposées pour commencer... mais je compte sur vous pour élaborer à l'aide de Tiled quelques cartes plus difficiles. \n",
    "\n",
    "\n",
    "Vous pouvez utiliser toutes les notions qui vous semblent pertinentes vues en cours-TDs. \n",
    "\n",
    "**Rappel:** Il est possible d'accélerer la vitesse d'affichage pour vos tests. \n",
    "\n",
    "\n",
    "### Rendu: \n",
    "\n",
    "Lundi 25 Mars 23:59, remise d'un notebook ou d'un mini-rapport de 4 pages maximum format .pdf, documentant les choix principaux de codage effectués et les stratégies réalisées. \n",
    "Un lien vers un repertoire contenant le code ou, à défaut, un zip contenant le code devra également être fourni. \n",
    "\n",
    "### Mini-soutenances: Mardi 26 Mars  \n",
    "\n",
    "\n",
    "\n",
    "### Commentaires / questions:\n",
    "\n",
    "Une liste de certaines questions ou commentaires que vous avez fait pendant le projet: \n",
    "\n",
    "\n"
   ]
  },
  {
   "cell_type": "code",
   "execution_count": null,
   "metadata": {
    "collapsed": true
   },
   "outputs": [],
   "source": []
  }
 ],
 "metadata": {
  "anaconda-cloud": {},
  "kernelspec": {
   "display_name": "Python 3",
   "language": "python",
   "name": "python3"
  },
  "language_info": {
   "codemirror_mode": {
    "name": "ipython",
    "version": 3
   },
   "file_extension": ".py",
   "mimetype": "text/x-python",
   "name": "python",
   "nbconvert_exporter": "python",
   "pygments_lexer": "ipython3",
   "version": "3.7.1"
  }
 },
 "nbformat": 4,
 "nbformat_minor": 2
}
