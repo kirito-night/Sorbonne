{
 "cells": [
  {
   "cell_type": "markdown",
   "metadata": {},
   "source": [
    "# Sujet de mini-projet (2018): Ultimate TicTacToe\n",
    "\n",
    "## Environnement\n",
    "Vous utiliserez le module `PySpriteWorld` qui élabore pygame et permet de manipuler simplement des personnages, cartes, et autres objets à l'écran. Ce module a été développé par Yann Chevaleyre. Une version plus complète se trouve ici: https://github.com/yannche/pySpriteWorld, mais la version disponible dans ce répertoire suffit a priori pour faire tout ce dont vous avez besoin.\n",
    "\n",
    "Notez que vous pourrez ensuite éditer vos propres cartes à l'aide de l'éditeur [Tiled](http://www.mapeditor.org/), et exporter ces cartes au format `.json`.\n",
    "Il faut utiliser au moins trois calques lors de la création de votre carte: \n",
    "* un calque **joueur**, où seront les personnages \n",
    "* un calque **ramassable**, qui contient les objets que les personnages peuvent ramasser\n",
    "* un calque **obstacles**, pour les murs, les arbres, etc.\n",
    "\n",
    "**Note**: on fait ici l'hypothèse que toutes les informations (positions des agents et des trésors sont disponibles pour tous les agents, i.e. on ne se pose pas de problème de communication)\n",
    "\n",
    "Une difficulté pour le sujet de projet concerne le fait que les joueurs doivent pouvoir identifier quel type de fiole est à quel endroit, or le calque ramassable ne les distingue pas a priori. \n",
    "Il est possible d'utiliser `o.tileid` qui donne la coordonnée du symbole dans la fiche `tiny_complete`, et de là vous pouvez déduire la couleur de la fiole (voir pour un exemple le code `UltimateTicTacToe.py`).  \n"
   ]
  },
  {
   "cell_type": "markdown",
   "metadata": {},
   "source": [
    "## 1: Echauffement\n",
    "\n",
    "Vous coderez grâce à l'algorithme A\\* un calcul de plus court chemin permettant à votre personnage d'atteindre une fiole, puis de la porter au centre du terrain. \n",
    "Vous pouvez utiliser comme squelette de code le fichier `UltimateTicTacToe.py`. "
   ]
  },
  {
   "cell_type": "markdown",
   "metadata": {},
   "source": [
    "## 2-3: Mini-Projet\n",
    "\n",
    "Dans ce projet, on met en compétition deux personnages dans un monde labyrinthique.\n",
    "Les deux joueurs vont s'affronter en jouant à une partie de Ultimate TicTacToe. Ils jouent en plaçant leurs fioles sur les cases. \n",
    "Les règles de base sont les suivantes: \n",
    "* le terrain de TicTacToe consiste en 9 terrains \"classiques\" de TicTacToe (les \"petits terrains\"), chacun de 3x3. \n",
    "* chaque joueur, à son tour, ramasse une fiole de sa couleur et l'utilise comme un pion pour jouer sur un petit terrain de TicTacToe\n",
    "* en jouant sur une case donnée de son terrain, le joueur contraint le terrain sur lequel l'autre joueur pourra jouer (si le terrain n'est plus jouable car la partie est terminée dessus, le joueur peut jouer où il le souhaite). \n",
    "* lorsqu'un joueur gagne une partie sur un petit terrain, il gagne ce terrain\n",
    "* lorsqu'un joueur aligne trois petits terrains victorieux, il gagne globalement la partie\n",
    "\n",
    "Pour une description illustrée, voir [ici](https://mathwithbaddrawings.com/2013/06/16/ultimate-tic-tac-toe/)\n",
    "\n",
    "En cas d'égalité, vous pourrez tester les variantes suivantes: \n",
    "* le terrain est gagné par les deux joueurs\n",
    "* le terrain est gagné par le joueur qui a parcouru le moins de distance pour jouer sur ce terrain\n",
    "* etc. \n",
    "\n",
    "\n",
    "\n",
    "### Travail demandé: \n",
    "Proposer au minimum deux stratégies permettant de simuler un match entre deux joueurs. \n",
    "Les coups joués par les joueurs devront évidemment respecter les règles énoncées ci-dessus. \n",
    "**Une version de base pourra être un joueur jouant de manière aléatoire, mais obéissant aux règles**. \n",
    "\n",
    "Pour comparer vos stratégie, vous pourrez répéter plusieurs matchs. Si vous avez plus de 2 stratégies différentes, vous pourrez organiser la compétition sous forme d'un tournoi au cours duquel tous les joueurs se rencontrent (comme dans le dilemme du prisonnier itéré). \n",
    "Vous pouvez utiliser toutes les notions qui vous semblent pertinentes vues en cours-TDs. \n",
    "\n",
    "**Rappel:** Il est possible d'accélerer la vitesse d'affichage pour vos tests. \n",
    "\n",
    "\n",
    "### Rendu: \n",
    "\n",
    "Lundi 19 Mars 23:59, remise d'un notebook ou d'un mini-rapport de 4 pages maximum format .pdf, documentant les choix principaux de codage effectués et les stratégies réalisées. \n",
    "Un lien vers un repertoire contenant le code ou, à défaut, un zip contenant le code devra également être fourni. \n",
    "\n",
    "### Mini-soutenances: Mardi 20 Mars  \n",
    "\n",
    "**Si votre nom n'apparait pas, merci de m'envoyer un message**\n",
    "\n",
    "Ordre de passage:\n",
    "\n",
    "* 10:30-- Keskes\n",
    "* 10:45-- Ait Mimoun/Houzet \n",
    "* 11:00-- Akretche/Oudali\n",
    "* 11:15-- Amar/Petkov\n",
    "* 11:30-- Ariouat/Brazi\n",
    "* 11:45-- Belanger/Pho\n",
    "* 12:00-- Belarouci/Hu\n",
    "* 12:15-- Benamara\n",
    "* 12:30-- Buskulic\n",
    "* 12:45-- Chrétien/Jabbour\n",
    "* 13:00-- Durand\n",
    "* 13:15-- Boucheraine/Leffad\n",
    "* 13:30-- Zhong\n",
    "* 13:45-- Colliard/Rakotomalala\n",
    "* 14:00-- De Rycke/Simon-fine\n",
    "* 14:15-- Hamissi/Nguyen\n",
    "* 14:30-- Milon/Vanderhaegen\n",
    "* 14:45-- Moussaoui/Olistin\n",
    "* 15:00-- Peruchena/Riabi \n",
    "* 15:15-- Savalle\n",
    "* 15:30-- Viallanex/Yagoub\n",
    "* 15:45-- Yonc\n",
    "\n",
    "\n",
    "### Commentaires / questions:\n",
    "\n",
    "Une liste de certaines questions ou commentaires que vous avez fait pendant le projet: \n",
    "\n",
    "\n"
   ]
  },
  {
   "cell_type": "code",
   "execution_count": null,
   "metadata": {
    "collapsed": true
   },
   "outputs": [],
   "source": []
  }
 ],
 "metadata": {
  "anaconda-cloud": {},
  "kernelspec": {
   "display_name": "Python [conda root]",
   "language": "python",
   "name": "conda-root-py"
  },
  "language_info": {
   "codemirror_mode": {
    "name": "ipython",
    "version": 3
   },
   "file_extension": ".py",
   "mimetype": "text/x-python",
   "name": "python",
   "nbconvert_exporter": "python",
   "pygments_lexer": "ipython3",
   "version": "3.5.2"
  }
 },
 "nbformat": 4,
 "nbformat_minor": 2
}
