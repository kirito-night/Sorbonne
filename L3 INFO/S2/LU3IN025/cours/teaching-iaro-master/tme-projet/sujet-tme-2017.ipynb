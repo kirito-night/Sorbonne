{
 "cells": [
  {
   "cell_type": "markdown",
   "metadata": {},
   "source": [
    "# Sujet de mini-projet (2017)\n",
    "\n",
    "## Environnement\n",
    "Vous utiliserez le module `PySpriteWorld` qui élabore pygame et permet de manipuler simplement des personnages, cartes, et autres objets à l'écran. Ce module a été développé par Yann Chevaleyre. Une version plus complète se trouve ici: https://github.com/yannche/pySpriteWorld, mais la version disponible suffit a priori pour faire tout ce dont vous avez besoin.\n",
    "\n",
    "Notez que vous pourrez ensuite éditer vos propres cartes à l'aide de l'éditeur (Tiled)[http://www.mapeditor.org/], et exporter ces cartes au format `.json`.\n",
    "Il faut utiliser au moins trois calques lors de la création de votre carte: \n",
    "* un calque **joueur**, où seront les personnages \n",
    "* un calque **ramassable**, qui contient les objets que les personnages peuvent ramasser\n",
    "* un calque **obstacles**, pour les murs, les arbres, etc.\n",
    "\n",
    "**Note**: on fait ici l'hypothèse que toutes les informations (positions des agents et des trésors sont disponibles pour tous les agents, i.e. on ne se pose pas de problème de communication)\n",
    "\n",
    "Une difficulté pour le sujet de projet concerne le fait que les joueurs doivent pouvoir identifier quel type de fiole est à quel endroit, or le calque ramassable ne les distingue pas a priori. \n",
    "Il est possible d'utiliser `o.tileid` qui donne la coordonnée du symbole dans la fiche `tiny_complete`, et de là vous pouvez déduire la couleur de la fiole (voir pour un exemple le code `DiscreteWorld_FaceAFace.py`).  \n"
   ]
  },
  {
   "cell_type": "markdown",
   "metadata": {},
   "source": [
    "## 1: Echauffement\n",
    "\n",
    "Vous coderez grâce à l'algorithme A\\* un calcul de plus court chemin permettant à votre personnage d'atteindre la fiole. \n",
    "Vous pouvez utiliser comme squelette de code le fichier `PySpriteWorld.py`. "
   ]
  },
  {
   "cell_type": "markdown",
   "metadata": {},
   "source": [
    "## 2-3: Mini-Projet\n",
    "\n",
    "Dans ce projet, on met en compétition deux personnages dans le monde labyrinthique de PySpriteWorld.\n",
    "\n",
    "Lors d'une **manche**, \n",
    "9 fioles apparaissent au hasard sur la carte: 3 fioles rouges, 3 fioles bleues, et 3 fioles jaunes. \n",
    "Chaque personnage a des préférences sur les fioles de couleurs: \n",
    "* pour une fiole de la couleur qu'il adore, il gagne 10 points; \n",
    "* pour une fiole de la couleur qu'il aime, il gagne 7 poins; \n",
    "* pour une fiole de la couleur qu'il supporte, il gagne 2 points. \n",
    "\n",
    "Les joueurs se déplacent l'un après l'autre. Le personnage qui arrive en premier sur une fiole gagne les points associés, et la fiole disparait. \n",
    "La manche s'achève lorsque toutes les fioles ont été ramassées. \n",
    "\n",
    "Un **match** consiste en la répétition de 4 manches (on change le personnage qui se déplace le premier à chaque manche). \n",
    "Au début de chaque match, on détermine au hasard les couleurs que chaque personnage *adore*, *aime*, ou *supporte* parmi le rouge, le bleu, et le jaune. Les joueurs peuvent donc avoir des préférences proches (voire identiques) ou différentes, selon les tirages. Les joueurs n'ont pas d'information explicite sur les préférences de l'autre (mais ils peuvent éventuellement les apprendre à partir des actions observées de l'autre). \n",
    "Les points sont cumulés sur les 4 manches. Le vainqueur est celui qui a le plus de points cumulés sur les 4 manches. \n",
    "\n",
    "### Travail demandé: \n",
    "Proposer au minimum deux IAs permettant de simuler un match entre deux joueurs. \n",
    "Pour comparer vos IAs, vous pourrez répéter plusieurs matchs. Si vous proposez, vous pourrez organiser la compétition sous forme d'un tournoi au cours duquel tous les joueurs se rencontrent. \n",
    "Vous pouvez utiliser toutes les notions qui vous semblent pertinentes vues en cours-TDs. \n",
    "\n",
    "Vous pourrez vous inspirer du squelette de code disponible dans `PySpriteWorld-forStudents`, plus précisément `DiscreteWorld_FaceAFace.py`.  \n",
    "\n",
    "### Commentaires / questions:\n",
    "\n",
    "Une liste de certaines questions ou commentaires que vous avez fait pendant le projet: \n",
    "* *est-ce que les joueurs savent qui a gagné à l'issue de chaque manche?* \n",
    "Réponse: A priori non, mais il peut être intéressant de faire ensuite une version où ce serait le cas (cela donne des informations sur les préférences de l'autre joueur). \n",
    "\n",
    "\n"
   ]
  },
  {
   "cell_type": "code",
   "execution_count": null,
   "metadata": {
    "collapsed": true
   },
   "outputs": [],
   "source": []
  }
 ],
 "metadata": {
  "anaconda-cloud": {},
  "kernelspec": {
   "display_name": "Python [conda root]",
   "language": "python",
   "name": "conda-root-py"
  },
  "language_info": {
   "codemirror_mode": {
    "name": "ipython",
    "version": 3
   },
   "file_extension": ".py",
   "mimetype": "text/x-python",
   "name": "python",
   "nbconvert_exporter": "python",
   "pygments_lexer": "ipython3",
   "version": "3.5.2"
  }
 },
 "nbformat": 4,
 "nbformat_minor": 2
}
