{
 "cells": [
  {
   "cell_type": "markdown",
   "metadata": {},
   "source": [
    "IA & Data science (LU3IN0226) -- 2021-2022\n",
    "--------\n",
    "*&copy; Equipe pédagogique: Vincent Guigue, Christophe Marsala, Olivier Schwander.*"
   ]
  },
  {
   "cell_type": "markdown",
   "metadata": {},
   "source": [
    "# TD-TME08: méthodes d'ensembles\n",
    "\n",
    "L'objectif de ce notebook est d'implémenter des méthodes d'ensembles et de les évaluer. Dans un premier temps, on se focalisera sur l'algorithme de bagging appliqué aux arbres de décision, puis on passera au random forests.\n",
    "\n",
    "Dans un premier temps, on ne considére que le cas où les attributs sont tous numériques."
   ]
  },
  {
   "cell_type": "markdown",
   "metadata": {},
   "source": [
    "<font color=\"RED\" size=\"+1\">**[Q]**</font> **Indiquer dans la boîte ci-dessous vos noms et prénoms :**"
   ]
  },
  {
   "cell_type": "markdown",
   "metadata": {},
   "source": [
    "fanxiang zeng, thomas hebert"
   ]
  },
  {
   "cell_type": "markdown",
   "metadata": {},
   "source": [
    "<font color=\"RED\" size=\"+1\"><b>[Q]</b></font> **Renommer ce fichier ipython**\n",
    "\n",
    "Tout en haut de cette page, cliquer sur <tt>tme-08</tt> et rajouter à la suite de <tt>tme-08</tt> les noms des membres du binômes séparés par un tiret.\n",
    "\n",
    "<font color=\"RED\" size=\"+1\">IMPORTANT: soumission de votre fichier final</font>\n",
    "\n",
    "**Nom à donner au fichier à poster** : *tme-08-Nom1_Nom2.ipynb* \n",
    "- *Nom1* et *Nom2* : noms des membres du binôme\n",
    "- ne pas compresser ou faire une archive: il faut rendre le fichier ipython tel quel, éventuellement, si vous avez d'autres fichiers vous les rendez séparément.\n",
    "\n",
    "**Echancier pour la soumission de votre compte-rendu:**\n",
    "- le compte-rendu d'une séance doit être remis obligatoirement <font color=\"RED\">avant la séance suivante</font>.\n",
    "\n",
    "**Le compte-rendu est soumis sur la page Moodle.**"
   ]
  },
  {
   "cell_type": "code",
   "execution_count": 3,
   "metadata": {},
   "outputs": [],
   "source": [
    "# Importation des librairies standards:\n",
    "import numpy as np\n",
    "import pandas as pd\n",
    "import matplotlib.pyplot as plt\n",
    "%matplotlib inline  \n",
    "\n",
    "# Importation de votre librairie iads:\n",
    "# La ligne suivante permet de préciser le chemin d'accès à la librairie iads\n",
    "import sys\n",
    "sys.path.append('../')   # iads doit être dans le répertoire frère du répertoire courant !\n",
    "\n",
    "# Importation de la librairie iads\n",
    "import iads as iads\n",
    "\n",
    "# importation de Classifiers\n",
    "from iads import Classifiers as cl\n",
    "\n",
    "# importation de utils\n",
    "from iads import utils as ut\n",
    "\n",
    "# commande TRES utile pour recharger automatiquement le code que vous modifiez dans les modules\n",
    "%load_ext autoreload\n",
    "%autoreload 2"
   ]
  },
  {
   "cell_type": "markdown",
   "metadata": {},
   "source": [
    "## Préparation : retour sur les arbres de décision"
   ]
  },
  {
   "cell_type": "markdown",
   "metadata": {},
   "source": [
    "### Création d'un dataset pour tester les fonctions"
   ]
  },
  {
   "cell_type": "code",
   "execution_count": 2,
   "metadata": {},
   "outputs": [
    {
     "name": "stdout",
     "output_type": "stream",
     "text": [
      "Taille du dataset généré : (100, 2) exemples\n"
     ]
    },
    {
     "data": {
      "image/png": "[encoded data removed]",
      "text/plain": [
       "<Figure size 432x288 with 1 Axes>"
      ]
     },
     "metadata": {
      "needs_background": "light"
     },
     "output_type": "display_data"
    }
   ],
   "source": [
    "# On initialise la graine\n",
    "np.random.seed(42)   \n",
    "\n",
    "d_desc, d_label = ut.genere_dataset_gaussian(np.array([1,1]),np.array([[1,0],[0,1]]), \\\n",
    "                                             np.array([-1,-1]),np.array([[1,0],[0,1]]), 50)\n",
    "\n",
    "print(\"Taille du dataset généré :\", np.shape(d_desc), \"exemples\")\n",
    "\n",
    "# Affichage :\n",
    "ut.plot2DSet(d_desc,d_label)"
   ]
  },
  {
   "cell_type": "markdown",
   "metadata": {},
   "source": [
    "### Frontière de séparation des classes \n",
    "\n",
    "Après avoir recopié vos fonctions de construction des arbres numériques du TME 7, afficher la frontière de séparation des classes et l'arbre obtenu pour les données générées."
   ]
  },
  {
   "cell_type": "code",
   "execution_count": 9,
   "metadata": {},
   "outputs": [
    {
     "name": "stdout",
     "output_type": "stream",
     "text": [
      "Accuracy (train):  1.0\n"
     ]
    },
    {
     "data": {
      "image/png": "[encoded data removed]",
      "text/plain": [
       "<Figure size 432x288 with 1 Axes>"
      ]
     },
     "metadata": {
      "needs_background": "light"
     },
     "output_type": "display_data"
    }
   ],
   "source": [
    "# De même, les classes de Classifiers sont utilisables en mettant classif. devant leur nom:\n",
    "# Création d'un perceptron\n",
    "arbre_1 = cl.ClassifierArbreNumerique(2, 0.0)\n",
    "\n",
    "# Construction de l'arbre de décision à partir du dataset généré plus haut\n",
    "arbre_1.train(d_desc,d_label)\n",
    "print(\"Accuracy (train): \", arbre_1.accuracy(d_desc,d_label))\n",
    "\n",
    "# Affichage de la frontière de séparation des classes\n",
    "ut.plot_frontiere(d_desc,d_label,arbre_1,step=100)\n",
    "ut.plot2DSet(d_desc,d_label)"
   ]
  },
  {
   "cell_type": "code",
   "execution_count": 10,
   "metadata": {},
   "outputs": [
    {
     "data": {
      "image/svg+xml": [
       "<?xml version=\"1.0\" encoding=\"UTF-8\" standalone=\"no\"?>\n",
       "<!DOCTYPE svg PUBLIC \"-//W3C//DTD SVG 1.1//EN\"\n",
       " \"http://www.w3.org/Graphics/SVG/1.1/DTD/svg11.dtd\">\n",
       "<!-- Generated by graphviz version 2.43.0 (0)\n",
       " -->\n",
       "<!-- Title: %3 Pages: 1 -->\n",
       "<svg width=\"945pt\" height=\"653pt\"\n",
       " viewBox=\"0.00 0.00 945.00 653.00\" xmlns=\"http://www.w3.org/2000/svg\" xmlns:xlink=\"http://www.w3.org/1999/xlink\">\n",
       "<g id=\"graph0\" class=\"graph\" transform=\"scale(1 1) rotate(0) translate(4 649)\">\n",
       "<title>%3</title>\n",
       "<polygon fill=\"white\" stroke=\"transparent\" points=\"-4,4 -4,-649 941,-649 941,4 -4,4\"/>\n",
       "<!-- A -->\n",
       "<g id=\"node1\" class=\"node\">\n",
       "<title>A</title>\n",
       "<ellipse fill=\"none\" stroke=\"black\" cx=\"332\" cy=\"-627\" rx=\"34.39\" ry=\"18\"/>\n",
       "<text text-anchor=\"middle\" x=\"332\" y=\"-623.3\" font-family=\"Times,serif\" font-size=\"14.00\">att_0</text>\n",
       "</g>\n",
       "<!-- Ag -->\n",
       "<g id=\"node2\" class=\"node\">\n",
       "<title>Ag</title>\n",
       "<ellipse fill=\"none\" stroke=\"black\" cx=\"227\" cy=\"-540\" rx=\"34.39\" ry=\"18\"/>\n",
       "<text text-anchor=\"middle\" x=\"227\" y=\"-536.3\" font-family=\"Times,serif\" font-size=\"14.00\">att_1</text>\n",
       "</g>\n",
       "<!-- A&#45;&gt;Ag -->\n",
       "<g id=\"edge15\" class=\"edge\">\n",
       "<title>A&#45;&gt;Ag</title>\n",
       "<path fill=\"none\" stroke=\"black\" d=\"M297.77,-624.3C274.04,-621.13 243.95,-612.73 228,-591 223.29,-584.58 221.82,-576.33 221.89,-568.4\"/>\n",
       "<polygon fill=\"black\" stroke=\"black\" points=\"225.38,-568.58 222.7,-558.33 218.41,-568.01 225.38,-568.58\"/>\n",
       "<text text-anchor=\"middle\" x=\"321.5\" y=\"-579.8\" font-family=\"Times,serif\" font-size=\"14.00\">&lt;=&#45;0.6383639749523659</text>\n",
       "</g>\n",
       "<!-- Ad -->\n",
       "<g id=\"node5\" class=\"node\">\n",
       "<title>Ad</title>\n",
       "<ellipse fill=\"none\" stroke=\"black\" cx=\"437\" cy=\"-540\" rx=\"34.39\" ry=\"18\"/>\n",
       "<text text-anchor=\"middle\" x=\"437\" y=\"-536.3\" font-family=\"Times,serif\" font-size=\"14.00\">att_1</text>\n",
       "</g>\n",
       "<!-- A&#45;&gt;Ad -->\n",
       "<g id=\"edge16\" class=\"edge\">\n",
       "<title>A&#45;&gt;Ad</title>\n",
       "<path fill=\"none\" stroke=\"black\" d=\"M363.21,-618.91C380.31,-613.66 400.85,-604.93 415,-591 421.51,-584.59 426.23,-575.93 429.6,-567.61\"/>\n",
       "<polygon fill=\"black\" stroke=\"black\" points=\"432.9,-568.76 432.94,-558.17 426.3,-566.43 432.9,-568.76\"/>\n",
       "<text text-anchor=\"middle\" x=\"513.5\" y=\"-579.8\" font-family=\"Times,serif\" font-size=\"14.00\">&gt;&#45;0.6383639749523659</text>\n",
       "</g>\n",
       "<!-- Agg -->\n",
       "<g id=\"node3\" class=\"node\">\n",
       "<title>Agg</title>\n",
       "<polygon fill=\"none\" stroke=\"black\" points=\"54,-471 0,-471 0,-435 54,-435 54,-471\"/>\n",
       "<text text-anchor=\"middle\" x=\"27\" y=\"-449.3\" font-family=\"Times,serif\" font-size=\"14.00\">&#45;1</text>\n",
       "</g>\n",
       "<!-- Ag&#45;&gt;Agg -->\n",
       "<g id=\"edge1\" class=\"edge\">\n",
       "<title>Ag&#45;&gt;Agg</title>\n",
       "<path fill=\"none\" stroke=\"black\" d=\"M192.83,-536.53C146.16,-532.49 65.78,-522.95 44,-504 37.31,-498.18 33.25,-489.63 30.79,-481.23\"/>\n",
       "<polygon fill=\"black\" stroke=\"black\" points=\"34.15,-480.23 28.5,-471.26 27.33,-481.79 34.15,-480.23\"/>\n",
       "<text text-anchor=\"middle\" x=\"135\" y=\"-492.8\" font-family=\"Times,serif\" font-size=\"14.00\">&lt;=0.8522781845089378</text>\n",
       "</g>\n",
       "<!-- Agd -->\n",
       "<g id=\"node4\" class=\"node\">\n",
       "<title>Agd</title>\n",
       "<polygon fill=\"none\" stroke=\"black\" points=\"259,-471 205,-471 205,-435 259,-435 259,-471\"/>\n",
       "<text text-anchor=\"middle\" x=\"232\" y=\"-449.3\" font-family=\"Times,serif\" font-size=\"14.00\">1</text>\n",
       "</g>\n",
       "<!-- Ag&#45;&gt;Agd -->\n",
       "<g id=\"edge2\" class=\"edge\">\n",
       "<title>Ag&#45;&gt;Agd</title>\n",
       "<path fill=\"none\" stroke=\"black\" d=\"M228.01,-521.8C228.7,-510.16 229.61,-494.55 230.4,-481.24\"/>\n",
       "<polygon fill=\"black\" stroke=\"black\" points=\"233.9,-481.36 230.99,-471.18 226.91,-480.95 233.9,-481.36\"/>\n",
       "<text text-anchor=\"middle\" x=\"315\" y=\"-492.8\" font-family=\"Times,serif\" font-size=\"14.00\">&gt;0.8522781845089378</text>\n",
       "</g>\n",
       "<!-- Adg -->\n",
       "<g id=\"node6\" class=\"node\">\n",
       "<title>Adg</title>\n",
       "<polygon fill=\"none\" stroke=\"black\" points=\"460,-471 406,-471 406,-435 460,-435 460,-471\"/>\n",
       "<text text-anchor=\"middle\" x=\"433\" y=\"-449.3\" font-family=\"Times,serif\" font-size=\"14.00\">&#45;1</text>\n",
       "</g>\n",
       "<!-- Ad&#45;&gt;Adg -->\n",
       "<g id=\"edge13\" class=\"edge\">\n",
       "<title>Ad&#45;&gt;Adg</title>\n",
       "<path fill=\"none\" stroke=\"black\" d=\"M435.31,-521.93C434.81,-516.23 434.31,-509.85 434,-504 433.61,-496.66 433.37,-488.71 433.22,-481.35\"/>\n",
       "<polygon fill=\"black\" stroke=\"black\" points=\"436.72,-481.08 433.07,-471.13 429.72,-481.19 436.72,-481.08\"/>\n",
       "<text text-anchor=\"middle\" x=\"527.5\" y=\"-492.8\" font-family=\"Times,serif\" font-size=\"14.00\">&lt;=&#45;0.6712488903403155</text>\n",
       "</g>\n",
       "<!-- Add -->\n",
       "<g id=\"node7\" class=\"node\">\n",
       "<title>Add</title>\n",
       "<ellipse fill=\"none\" stroke=\"black\" cx=\"643\" cy=\"-453\" rx=\"34.39\" ry=\"18\"/>\n",
       "<text text-anchor=\"middle\" x=\"643\" y=\"-449.3\" font-family=\"Times,serif\" font-size=\"14.00\">att_0</text>\n",
       "</g>\n",
       "<!-- Ad&#45;&gt;Add -->\n",
       "<g id=\"edge14\" class=\"edge\">\n",
       "<title>Ad&#45;&gt;Add</title>\n",
       "<path fill=\"none\" stroke=\"black\" d=\"M470.74,-536.32C517.34,-532.01 598.23,-522.12 621,-504 628.25,-498.23 633.18,-489.57 636.49,-481.08\"/>\n",
       "<polygon fill=\"black\" stroke=\"black\" points=\"639.88,-481.96 639.68,-471.37 633.23,-479.77 639.88,-481.96\"/>\n",
       "<text text-anchor=\"middle\" x=\"720.5\" y=\"-492.8\" font-family=\"Times,serif\" font-size=\"14.00\">&gt;&#45;0.6712488903403155</text>\n",
       "</g>\n",
       "<!-- Addg -->\n",
       "<g id=\"node8\" class=\"node\">\n",
       "<title>Addg</title>\n",
       "<ellipse fill=\"none\" stroke=\"black\" cx=\"541\" cy=\"-366\" rx=\"34.39\" ry=\"18\"/>\n",
       "<text text-anchor=\"middle\" x=\"541\" y=\"-362.3\" font-family=\"Times,serif\" font-size=\"14.00\">att_1</text>\n",
       "</g>\n",
       "<!-- Add&#45;&gt;Addg -->\n",
       "<g id=\"edge11\" class=\"edge\">\n",
       "<title>Add&#45;&gt;Addg</title>\n",
       "<path fill=\"none\" stroke=\"black\" d=\"M608.99,-449.9C586.05,-446.51 557.28,-438.01 542,-417 537.31,-410.55 535.86,-402.3 535.92,-394.37\"/>\n",
       "<polygon fill=\"black\" stroke=\"black\" points=\"539.42,-394.55 536.73,-384.3 532.44,-393.99 539.42,-394.55\"/>\n",
       "<text text-anchor=\"middle\" x=\"633\" y=\"-405.8\" font-family=\"Times,serif\" font-size=\"14.00\">&lt;=0.5792128155073915</text>\n",
       "</g>\n",
       "<!-- Addd -->\n",
       "<g id=\"node17\" class=\"node\">\n",
       "<title>Addd</title>\n",
       "<polygon fill=\"none\" stroke=\"black\" points=\"773,-384 719,-384 719,-348 773,-348 773,-384\"/>\n",
       "<text text-anchor=\"middle\" x=\"746\" y=\"-362.3\" font-family=\"Times,serif\" font-size=\"14.00\">1</text>\n",
       "</g>\n",
       "<!-- Add&#45;&gt;Addd -->\n",
       "<g id=\"edge12\" class=\"edge\">\n",
       "<title>Add&#45;&gt;Addd</title>\n",
       "<path fill=\"none\" stroke=\"black\" d=\"M673.86,-444.61C690.47,-439.29 710.31,-430.6 724,-417 730.48,-410.56 735.2,-401.89 738.56,-393.58\"/>\n",
       "<polygon fill=\"black\" stroke=\"black\" points=\"741.87,-394.74 741.92,-384.14 735.27,-392.39 741.87,-394.74\"/>\n",
       "<text text-anchor=\"middle\" x=\"820\" y=\"-405.8\" font-family=\"Times,serif\" font-size=\"14.00\">&gt;0.5792128155073915</text>\n",
       "</g>\n",
       "<!-- Addgg -->\n",
       "<g id=\"node9\" class=\"node\">\n",
       "<title>Addgg</title>\n",
       "<ellipse fill=\"none\" stroke=\"black\" cx=\"439\" cy=\"-279\" rx=\"34.39\" ry=\"18\"/>\n",
       "<text text-anchor=\"middle\" x=\"439\" y=\"-275.3\" font-family=\"Times,serif\" font-size=\"14.00\">att_1</text>\n",
       "</g>\n",
       "<!-- Addg&#45;&gt;Addgg -->\n",
       "<g id=\"edge9\" class=\"edge\">\n",
       "<title>Addg&#45;&gt;Addgg</title>\n",
       "<path fill=\"none\" stroke=\"black\" d=\"M506.99,-362.9C484.05,-359.51 455.28,-351.01 440,-330 435.31,-323.55 433.86,-315.3 433.92,-307.37\"/>\n",
       "<polygon fill=\"black\" stroke=\"black\" points=\"437.42,-307.55 434.73,-297.3 430.44,-306.99 437.42,-307.55\"/>\n",
       "<text text-anchor=\"middle\" x=\"531\" y=\"-318.8\" font-family=\"Times,serif\" font-size=\"14.00\">&lt;=0.5230298564080254</text>\n",
       "</g>\n",
       "<!-- Addgd -->\n",
       "<g id=\"node16\" class=\"node\">\n",
       "<title>Addgd</title>\n",
       "<polygon fill=\"none\" stroke=\"black\" points=\"671,-297 617,-297 617,-261 671,-261 671,-297\"/>\n",
       "<text text-anchor=\"middle\" x=\"644\" y=\"-275.3\" font-family=\"Times,serif\" font-size=\"14.00\">1</text>\n",
       "</g>\n",
       "<!-- Addg&#45;&gt;Addgd -->\n",
       "<g id=\"edge10\" class=\"edge\">\n",
       "<title>Addg&#45;&gt;Addgd</title>\n",
       "<path fill=\"none\" stroke=\"black\" d=\"M571.86,-357.61C588.47,-352.29 608.31,-343.6 622,-330 628.48,-323.56 633.2,-314.89 636.56,-306.58\"/>\n",
       "<polygon fill=\"black\" stroke=\"black\" points=\"639.87,-307.74 639.92,-297.14 633.27,-305.39 639.87,-307.74\"/>\n",
       "<text text-anchor=\"middle\" x=\"718\" y=\"-318.8\" font-family=\"Times,serif\" font-size=\"14.00\">&gt;0.5230298564080254</text>\n",
       "</g>\n",
       "<!-- Addggg -->\n",
       "<g id=\"node10\" class=\"node\">\n",
       "<title>Addggg</title>\n",
       "<polygon fill=\"none\" stroke=\"black\" points=\"361,-210 307,-210 307,-174 361,-174 361,-210\"/>\n",
       "<text text-anchor=\"middle\" x=\"334\" y=\"-188.3\" font-family=\"Times,serif\" font-size=\"14.00\">1</text>\n",
       "</g>\n",
       "<!-- Addgg&#45;&gt;Addggg -->\n",
       "<g id=\"edge7\" class=\"edge\">\n",
       "<title>Addgg&#45;&gt;Addggg</title>\n",
       "<path fill=\"none\" stroke=\"black\" d=\"M404.77,-276.3C381.04,-273.13 350.95,-264.73 335,-243 330.29,-236.58 328.82,-228.33 328.89,-220.4\"/>\n",
       "<polygon fill=\"black\" stroke=\"black\" points=\"332.38,-220.58 329.7,-210.33 325.41,-220.01 332.38,-220.58\"/>\n",
       "<text text-anchor=\"middle\" x=\"428.5\" y=\"-231.8\" font-family=\"Times,serif\" font-size=\"14.00\">&lt;=&#45;0.3204566130842763</text>\n",
       "</g>\n",
       "<!-- Addggd -->\n",
       "<g id=\"node11\" class=\"node\">\n",
       "<title>Addggd</title>\n",
       "<ellipse fill=\"none\" stroke=\"black\" cx=\"544\" cy=\"-192\" rx=\"34.39\" ry=\"18\"/>\n",
       "<text text-anchor=\"middle\" x=\"544\" y=\"-188.3\" font-family=\"Times,serif\" font-size=\"14.00\">att_0</text>\n",
       "</g>\n",
       "<!-- Addgg&#45;&gt;Addggd -->\n",
       "<g id=\"edge8\" class=\"edge\">\n",
       "<title>Addgg&#45;&gt;Addggd</title>\n",
       "<path fill=\"none\" stroke=\"black\" d=\"M470.21,-270.91C487.31,-265.66 507.85,-256.93 522,-243 528.51,-236.59 533.23,-227.93 536.6,-219.61\"/>\n",
       "<polygon fill=\"black\" stroke=\"black\" points=\"539.9,-220.76 539.94,-210.17 533.3,-218.43 539.9,-220.76\"/>\n",
       "<text text-anchor=\"middle\" x=\"620.5\" y=\"-231.8\" font-family=\"Times,serif\" font-size=\"14.00\">&gt;&#45;0.3204566130842763</text>\n",
       "</g>\n",
       "<!-- Addggdg -->\n",
       "<g id=\"node12\" class=\"node\">\n",
       "<title>Addggdg</title>\n",
       "<polygon fill=\"none\" stroke=\"black\" points=\"462,-123 408,-123 408,-87 462,-87 462,-123\"/>\n",
       "<text text-anchor=\"middle\" x=\"435\" y=\"-101.3\" font-family=\"Times,serif\" font-size=\"14.00\">&#45;1</text>\n",
       "</g>\n",
       "<!-- Addggd&#45;&gt;Addggdg -->\n",
       "<g id=\"edge5\" class=\"edge\">\n",
       "<title>Addggd&#45;&gt;Addggdg</title>\n",
       "<path fill=\"none\" stroke=\"black\" d=\"M509.79,-189.85C484.98,-187.01 452.92,-178.79 436,-156 431.25,-149.6 429.78,-141.36 429.84,-133.43\"/>\n",
       "<polygon fill=\"black\" stroke=\"black\" points=\"433.34,-133.6 430.67,-123.35 426.36,-133.03 433.34,-133.6\"/>\n",
       "<text text-anchor=\"middle\" x=\"534\" y=\"-144.8\" font-family=\"Times,serif\" font-size=\"14.00\">&lt;=&#45;0.18747417760580198</text>\n",
       "</g>\n",
       "<!-- Addggdd -->\n",
       "<g id=\"node13\" class=\"node\">\n",
       "<title>Addggdd</title>\n",
       "<ellipse fill=\"none\" stroke=\"black\" cx=\"654\" cy=\"-105\" rx=\"34.39\" ry=\"18\"/>\n",
       "<text text-anchor=\"middle\" x=\"654\" y=\"-101.3\" font-family=\"Times,serif\" font-size=\"14.00\">att_1</text>\n",
       "</g>\n",
       "<!-- Addggd&#45;&gt;Addggdd -->\n",
       "<g id=\"edge6\" class=\"edge\">\n",
       "<title>Addggd&#45;&gt;Addggdd</title>\n",
       "<path fill=\"none\" stroke=\"black\" d=\"M575.79,-184.69C594.16,-179.63 616.62,-170.84 632,-156 638.57,-149.66 643.32,-141.01 646.67,-132.69\"/>\n",
       "<polygon fill=\"black\" stroke=\"black\" points=\"649.98,-133.83 650,-123.23 643.38,-131.5 649.98,-133.83\"/>\n",
       "<text text-anchor=\"middle\" x=\"735\" y=\"-144.8\" font-family=\"Times,serif\" font-size=\"14.00\">&gt;&#45;0.18747417760580198</text>\n",
       "</g>\n",
       "<!-- Addggddg -->\n",
       "<g id=\"node14\" class=\"node\">\n",
       "<title>Addggddg</title>\n",
       "<polygon fill=\"none\" stroke=\"black\" points=\"572,-36 518,-36 518,0 572,0 572,-36\"/>\n",
       "<text text-anchor=\"middle\" x=\"545\" y=\"-14.3\" font-family=\"Times,serif\" font-size=\"14.00\">&#45;1</text>\n",
       "</g>\n",
       "<!-- Addggdd&#45;&gt;Addggddg -->\n",
       "<g id=\"edge3\" class=\"edge\">\n",
       "<title>Addggdd&#45;&gt;Addggddg</title>\n",
       "<path fill=\"none\" stroke=\"black\" d=\"M619.79,-102.85C594.98,-100.01 562.92,-91.79 546,-69 541.25,-62.6 539.78,-54.36 539.84,-46.43\"/>\n",
       "<polygon fill=\"black\" stroke=\"black\" points=\"543.34,-46.6 540.67,-36.35 536.36,-46.03 543.34,-46.6\"/>\n",
       "<text text-anchor=\"middle\" x=\"644\" y=\"-57.8\" font-family=\"Times,serif\" font-size=\"14.00\">&lt;=&#45;0.06871988088380143</text>\n",
       "</g>\n",
       "<!-- Addggddd -->\n",
       "<g id=\"node15\" class=\"node\">\n",
       "<title>Addggddd</title>\n",
       "<polygon fill=\"none\" stroke=\"black\" points=\"791,-36 737,-36 737,0 791,0 791,-36\"/>\n",
       "<text text-anchor=\"middle\" x=\"764\" y=\"-14.3\" font-family=\"Times,serif\" font-size=\"14.00\">1</text>\n",
       "</g>\n",
       "<!-- Addggdd&#45;&gt;Addggddd -->\n",
       "<g id=\"edge4\" class=\"edge\">\n",
       "<title>Addggdd&#45;&gt;Addggddd</title>\n",
       "<path fill=\"none\" stroke=\"black\" d=\"M685.79,-97.69C704.16,-92.63 726.62,-83.84 742,-69 748.57,-62.66 753.32,-54.01 756.67,-45.69\"/>\n",
       "<polygon fill=\"black\" stroke=\"black\" points=\"759.98,-46.83 760,-36.23 753.38,-44.5 759.98,-46.83\"/>\n",
       "<text text-anchor=\"middle\" x=\"845\" y=\"-57.8\" font-family=\"Times,serif\" font-size=\"14.00\">&gt;&#45;0.06871988088380143</text>\n",
       "</g>\n",
       "</g>\n",
       "</svg>\n"
      ],
      "text/plain": [
       "<graphviz.graphs.Digraph at 0x7f3f28a59e80>"
      ]
     },
     "execution_count": 10,
     "metadata": {},
     "output_type": "execute_result"
    }
   ],
   "source": [
    "import graphviz as gv\n",
    "\n",
    "# Construction de la représentation graphique (affichage)\n",
    "graphe_arbre_1 = gv.Digraph(format='png')\n",
    "arbre_1.affiche(graphe_arbre_1)\n",
    "\n",
    "# Affichage du graphe obtenu:\n",
    "graphe_arbre_1"
   ]
  },
  {
   "cell_type": "markdown",
   "metadata": {},
   "source": [
    "<font color=\"RED\" size=\"+1\"><b>[Q]</b></font> Sur une feuille de papier, représenter la frontière de séparation des classes en la dessinant à la main et en utilisant l'arbre ci-dessus."
   ]
  },
  {
   "cell_type": "markdown",
   "metadata": {},
   "source": [
    "Même chose mais en utilisant un seuil d'entropie lors de la construction, ici égal à $0.3$ \n"
   ]
  },
  {
   "cell_type": "code",
   "execution_count": 11,
   "metadata": {},
   "outputs": [
    {
     "name": "stdout",
     "output_type": "stream",
     "text": [
      "Accuracy (train):  0.95\n"
     ]
    },
    {
     "data": {
      "image/svg+xml": [
       "<?xml version=\"1.0\" encoding=\"UTF-8\" standalone=\"no\"?>\n",
       "<!DOCTYPE svg PUBLIC \"-//W3C//DTD SVG 1.1//EN\"\n",
       " \"http://www.w3.org/Graphics/SVG/1.1/DTD/svg11.dtd\">\n",
       "<!-- Generated by graphviz version 2.43.0 (0)\n",
       " -->\n",
       "<!-- Title: %3 Pages: 1 -->\n",
       "<svg width=\"513pt\" height=\"218pt\"\n",
       " viewBox=\"0.00 0.00 513.00 218.00\" xmlns=\"http://www.w3.org/2000/svg\" xmlns:xlink=\"http://www.w3.org/1999/xlink\">\n",
       "<g id=\"graph0\" class=\"graph\" transform=\"scale(1 1) rotate(0) translate(4 214)\">\n",
       "<title>%3</title>\n",
       "<polygon fill=\"white\" stroke=\"transparent\" points=\"-4,4 -4,-214 509,-214 509,4 -4,4\"/>\n",
       "<!-- A -->\n",
       "<g id=\"node1\" class=\"node\">\n",
       "<title>A</title>\n",
       "<ellipse fill=\"none\" stroke=\"black\" cx=\"132\" cy=\"-192\" rx=\"34.39\" ry=\"18\"/>\n",
       "<text text-anchor=\"middle\" x=\"132\" y=\"-188.3\" font-family=\"Times,serif\" font-size=\"14.00\">att_0</text>\n",
       "</g>\n",
       "<!-- Ag -->\n",
       "<g id=\"node2\" class=\"node\">\n",
       "<title>Ag</title>\n",
       "<polygon fill=\"none\" stroke=\"black\" points=\"54,-123 0,-123 0,-87 54,-87 54,-123\"/>\n",
       "<text text-anchor=\"middle\" x=\"27\" y=\"-101.3\" font-family=\"Times,serif\" font-size=\"14.00\">&#45;1</text>\n",
       "</g>\n",
       "<!-- A&#45;&gt;Ag -->\n",
       "<g id=\"edge3\" class=\"edge\">\n",
       "<title>A&#45;&gt;Ag</title>\n",
       "<path fill=\"none\" stroke=\"black\" d=\"M97.77,-189.3C74.04,-186.13 43.95,-177.73 28,-156 23.29,-149.58 21.82,-141.33 21.89,-133.4\"/>\n",
       "<polygon fill=\"black\" stroke=\"black\" points=\"25.38,-133.58 22.7,-123.33 18.41,-133.01 25.38,-133.58\"/>\n",
       "<text text-anchor=\"middle\" x=\"121.5\" y=\"-144.8\" font-family=\"Times,serif\" font-size=\"14.00\">&lt;=&#45;0.6383639749523659</text>\n",
       "</g>\n",
       "<!-- Ad -->\n",
       "<g id=\"node3\" class=\"node\">\n",
       "<title>Ad</title>\n",
       "<ellipse fill=\"none\" stroke=\"black\" cx=\"237\" cy=\"-105\" rx=\"34.39\" ry=\"18\"/>\n",
       "<text text-anchor=\"middle\" x=\"237\" y=\"-101.3\" font-family=\"Times,serif\" font-size=\"14.00\">att_1</text>\n",
       "</g>\n",
       "<!-- A&#45;&gt;Ad -->\n",
       "<g id=\"edge4\" class=\"edge\">\n",
       "<title>A&#45;&gt;Ad</title>\n",
       "<path fill=\"none\" stroke=\"black\" d=\"M163.21,-183.91C180.31,-178.66 200.85,-169.93 215,-156 221.51,-149.59 226.23,-140.93 229.6,-132.61\"/>\n",
       "<polygon fill=\"black\" stroke=\"black\" points=\"232.9,-133.76 232.94,-123.17 226.3,-131.43 232.9,-133.76\"/>\n",
       "<text text-anchor=\"middle\" x=\"312.5\" y=\"-144.8\" font-family=\"Times,serif\" font-size=\"14.00\">&gt;&#45;0.6383639749523659</text>\n",
       "</g>\n",
       "<!-- Adg -->\n",
       "<g id=\"node4\" class=\"node\">\n",
       "<title>Adg</title>\n",
       "<polygon fill=\"none\" stroke=\"black\" points=\"159,-36 105,-36 105,0 159,0 159,-36\"/>\n",
       "<text text-anchor=\"middle\" x=\"132\" y=\"-14.3\" font-family=\"Times,serif\" font-size=\"14.00\">&#45;1</text>\n",
       "</g>\n",
       "<!-- Ad&#45;&gt;Adg -->\n",
       "<g id=\"edge1\" class=\"edge\">\n",
       "<title>Ad&#45;&gt;Adg</title>\n",
       "<path fill=\"none\" stroke=\"black\" d=\"M202.77,-102.3C179.04,-99.13 148.95,-90.73 133,-69 128.29,-62.58 126.82,-54.33 126.89,-46.4\"/>\n",
       "<polygon fill=\"black\" stroke=\"black\" points=\"130.38,-46.58 127.7,-36.33 123.41,-46.01 130.38,-46.58\"/>\n",
       "<text text-anchor=\"middle\" x=\"226.5\" y=\"-57.8\" font-family=\"Times,serif\" font-size=\"14.00\">&lt;=&#45;0.6712488903403155</text>\n",
       "</g>\n",
       "<!-- Add -->\n",
       "<g id=\"node5\" class=\"node\">\n",
       "<title>Add</title>\n",
       "<polygon fill=\"none\" stroke=\"black\" points=\"369,-36 315,-36 315,0 369,0 369,-36\"/>\n",
       "<text text-anchor=\"middle\" x=\"342\" y=\"-14.3\" font-family=\"Times,serif\" font-size=\"14.00\">1</text>\n",
       "</g>\n",
       "<!-- Ad&#45;&gt;Add -->\n",
       "<g id=\"edge2\" class=\"edge\">\n",
       "<title>Ad&#45;&gt;Add</title>\n",
       "<path fill=\"none\" stroke=\"black\" d=\"M268.21,-96.91C285.31,-91.66 305.85,-82.93 320,-69 326.51,-62.59 331.23,-53.93 334.6,-45.61\"/>\n",
       "<polygon fill=\"black\" stroke=\"black\" points=\"337.9,-46.76 337.94,-36.17 331.3,-44.43 337.9,-46.76\"/>\n",
       "<text text-anchor=\"middle\" x=\"417.5\" y=\"-57.8\" font-family=\"Times,serif\" font-size=\"14.00\">&gt;&#45;0.6712488903403155</text>\n",
       "</g>\n",
       "</g>\n",
       "</svg>\n"
      ],
      "text/plain": [
       "<graphviz.graphs.Digraph at 0x7f3f291ac1f0>"
      ]
     },
     "execution_count": 11,
     "metadata": {},
     "output_type": "execute_result"
    },
    {
     "data": {
      "image/png": "[encoded data removed]",
      "text/plain": [
       "<Figure size 432x288 with 1 Axes>"
      ]
     },
     "metadata": {
      "needs_background": "light"
     },
     "output_type": "display_data"
    }
   ],
   "source": [
    "# De même, les classes de Classifiers sont utilisables en mettant classif. devant leur nom:\n",
    "# Création d'un perceptron\n",
    "arbre_2 = cl.ClassifierArbreNumerique(2, 0.30)\n",
    "\n",
    "# Construction de l'arbre de décision à partir du dataset généré plus haut\n",
    "arbre_2.train(d_desc,d_label)\n",
    "print(\"Accuracy (train): \", arbre_2.accuracy(d_desc,d_label))\n",
    "\n",
    "# Affichage de la frontière de séparation des classes\n",
    "ut.plot_frontiere(d_desc,d_label,arbre_2,step=100)\n",
    "ut.plot2DSet(d_desc,d_label)\n",
    "\n",
    "# Construction de la représentation graphique (affichage)\n",
    "graphe_arbre_2 = gv.Digraph(format='png')\n",
    "arbre_2.affiche(graphe_arbre_2)\n",
    "\n",
    "# Affichage du graphe obtenu:\n",
    "graphe_arbre_2"
   ]
  },
  {
   "cell_type": "markdown",
   "metadata": {},
   "source": [
    "## Bagging d'arbres de décision\n",
    "\n",
    "### Tirage aléatoire d'exemples\n",
    "\n",
    "Le bootstrap s'effectue en tirant aléatoirement un échantillon de $m$ exemples à partir de la base d'apprentissage $X$. Cet échantillon sert ensuite à construire un classifieur.\n",
    "\n",
    "Dans l'algorithme du bagging, ce processus est répété $B$ fois.\n",
    "\n",
    "Afin de ne pas alourdir la place mémoire nécessaire pour réaliser un tel tirage, on ne travaille que sur les indices des exemples dans la base. Un **échantillon de $X$ est donc un vecteur d'entiers** qui représentent les indices des exemples choisis.\n"
   ]
  },
  {
   "cell_type": "markdown",
   "metadata": {},
   "source": [
    "### Tirages aléatoires\n",
    "\n",
    "Consulter la librairie Python random qui propose différentes fonctions utiles pour implémenter le tirage aléatoire du bootstrap.\n",
    "\n",
    "Par exemple, la fonction <code>sample()</code> de la librairie <code>random</code> rend une sélection aléatoire dans une population donnée en réalisant un tirage sans remise.\n",
    "\n",
    "Pour tester, exécuter plusieurs fois les instructions de la boîte suivante :"
   ]
  },
  {
   "cell_type": "code",
   "execution_count": 14,
   "metadata": {},
   "outputs": [
    {
     "name": "stdout",
     "output_type": "stream",
     "text": [
      "La liste L de départ:  [0, 1, 2, 3, 4, 5, 6, 7, 8, 9, 10]\n",
      "Echantillon 1:  [10, 1, 0, 4, 9, 6]\n",
      "Echantillon 2:  [2, 1, 8, 9, 4, 3]\n"
     ]
    }
   ],
   "source": [
    "import random\n",
    "\n",
    "# ATTENTION : on utilise ici les fonctions de la librairie random pas numpy !\n",
    "# Donc, on ne préfixe pas les fonction par np.\n",
    "random.seed(42)   # on prend 42 comme graine\n",
    "\n",
    "L= [i for i in range(0,11)]             # construction de la liste des entiers de 0 à 10\n",
    "print(\"La liste L de départ: \",L)\n",
    "EchL_1 = random.sample(L,6)               # tirage de 6 éléments de L\n",
    "print(\"Echantillon 1: \",EchL_1)\n",
    "EchL_2 = random.sample(L,6)               # un autre tirage de 6 éléments de L\n",
    "print(\"Echantillon 2: \",EchL_2)\n"
   ]
  },
  {
   "cell_type": "markdown",
   "metadata": {},
   "source": [
    "La fonction <code>choice()</code> permet de choisir aléatoirement un élément dans une liste:"
   ]
  },
  {
   "cell_type": "code",
   "execution_count": 15,
   "metadata": {},
   "outputs": [
    {
     "name": "stdout",
     "output_type": "stream",
     "text": [
      "La liste L de départ:  [0, 1, 2, 3, 4, 5, 6, 7, 8, 9, 10]\n",
      "Element choisi:  10\n"
     ]
    }
   ],
   "source": [
    "random.seed(42)   # on prend 42 comme graine\n",
    "\n",
    "L= [i for i in range(0,11)]             # construction de la liste des entiers de 0 à 10\n",
    "print(\"La liste L de départ: \",L)\n",
    "elt = random.choice(L)                  # choix d'un élémént\n",
    "print(\"Element choisi: \",elt)"
   ]
  },
  {
   "cell_type": "markdown",
   "metadata": {},
   "source": [
    "<font color=\"RED\" size=\"+1\">**[Q]**</font> Ecrire la fonction <code>tirage()</code> qui étant donné un vecteur d'entiers <i>VX</i> qui représente l'ensemble des indices des exemples d'une base d'apprentissage <i>X</i>, un entier $m$, et un booléen $r$, rend un vecteur de $m$ indices choisis aléatoirement dans <i>VX</i>. Si le booléen $r$ est vrai, le tirage s'effectue *avec remise*, sinon il s'effectue *sans remise*."
   ]
  },
  {
   "cell_type": "code",
   "execution_count": 113,
   "metadata": {},
   "outputs": [],
   "source": [
    "import random\n",
    "def tirage (X , m , r) :\n",
    "    \n",
    "    if r  :\n",
    "        #random.seed(42)\n",
    "        #return np.array(random.choices(X, k = m\n",
    "        res = []\n",
    "        for  i in range( m) : \n",
    "            res.append(random.choice(X))\n",
    "        return res\n",
    "    else :\n",
    "        #random.seed(42)\n",
    "        \n",
    "        return random.sample(X , m)\n",
    "        \n",
    "        \n",
    "    \n"
   ]
  },
  {
   "cell_type": "markdown",
   "metadata": {},
   "source": [
    "Exemples :"
   ]
  },
  {
   "cell_type": "code",
   "execution_count": 118,
   "metadata": {},
   "outputs": [
    {
     "name": "stdout",
     "output_type": "stream",
     "text": [
      "[1, 9, 6, 0, 0, 1, 3, 3]\n"
     ]
    }
   ],
   "source": [
    "random.seed(42)   # on prend 42 comme graine\n",
    "L= [i for i in range(0,10)]    # construction de la liste des entiers de 0 à 100\n",
    "tirage(L,8,True)               # tirage avec remise\n",
    "print(tirage(L,8 ,True))"
   ]
  },
  {
   "cell_type": "code",
   "execution_count": 119,
   "metadata": {},
   "outputs": [
    {
     "data": {
      "text/plain": [
       "[8, 0, 3, 5, 6, 4, 7, 9]"
      ]
     },
     "execution_count": 119,
     "metadata": {},
     "output_type": "execute_result"
    }
   ],
   "source": [
    "tirage(L,8,False)               # tirage sans remise"
   ]
  },
  {
   "cell_type": "code",
   "execution_count": 47,
   "metadata": {},
   "outputs": [
    {
     "data": {
      "text/plain": [
       "array([[-0.50328585, -1.1382643 ],\n",
       "       [-0.35231146,  0.52302986],\n",
       "       [-1.23415337, -1.23413696],\n",
       "       [ 0.57921282, -0.23256527],\n",
       "       [-1.46947439, -0.45743996],\n",
       "       [-1.46341769, -1.46572975],\n",
       "       [-0.75803773, -2.91328024],\n",
       "       [-2.72491783, -1.56228753],\n",
       "       [-2.01283112, -0.68575267],\n",
       "       [-1.90802408, -2.4123037 ]])"
      ]
     },
     "execution_count": 47,
     "metadata": {},
     "output_type": "execute_result"
    }
   ],
   "source": [
    "# Pour rappel:\n",
    "# 10 premières lignes de d_desc:\n",
    "d_desc[0:10,:]"
   ]
  },
  {
   "cell_type": "code",
   "execution_count": 48,
   "metadata": {},
   "outputs": [
    {
     "data": {
      "text/plain": [
       "array([[-0.50328585, -1.1382643 ],\n",
       "       [-1.46341769, -1.46572975],\n",
       "       [-0.35231146,  0.52302986],\n",
       "       [-0.50328585, -1.1382643 ],\n",
       "       [-0.50328585, -1.1382643 ]])"
      ]
     },
     "execution_count": 48,
     "metadata": {},
     "output_type": "execute_result"
    }
   ],
   "source": [
    "# Choix de lignes quelconques de d_desc\n",
    "L=[0,5,1,0,0]\n",
    "d_desc[L,:]"
   ]
  },
  {
   "cell_type": "code",
   "execution_count": 49,
   "metadata": {},
   "outputs": [
    {
     "data": {
      "text/plain": [
       "array([-1, -1, -1, -1, -1])"
      ]
     },
     "execution_count": 49,
     "metadata": {},
     "output_type": "execute_result"
    }
   ],
   "source": [
    "# et les labels\n",
    "d_label[L]"
   ]
  },
  {
   "cell_type": "code",
   "execution_count": 50,
   "metadata": {},
   "outputs": [
    {
     "data": {
      "text/plain": [
       "array([[-0.50328585, -1.1382643 ],\n",
       "       [ 1.05820872, -0.1429703 ],\n",
       "       [-1.54438272, -0.88907741],\n",
       "       [ 0.02531833,  1.7870846 ]])"
      ]
     },
     "execution_count": 50,
     "metadata": {},
     "output_type": "execute_result"
    }
   ],
   "source": [
    "# Choix de lignes quelconques de d_desc\n",
    "L=[0,99,12,80]\n",
    "d_desc[L,:]"
   ]
  },
  {
   "cell_type": "code",
   "execution_count": 51,
   "metadata": {},
   "outputs": [
    {
     "data": {
      "text/plain": [
       "array([-1,  1, -1,  1])"
      ]
     },
     "execution_count": 51,
     "metadata": {},
     "output_type": "execute_result"
    }
   ],
   "source": [
    "d_label[L]"
   ]
  },
  {
   "cell_type": "markdown",
   "metadata": {},
   "source": [
    "Dans ce qui suit, pour faciliter les énoncés, on appelle <code>LabeledSet</code> un couple de 2 np.arrays $X$ pour les descriptions des exemples et $Y$ pour les labels correspondant à chaque exemple.\n",
    "\n",
    "Par exemple, le <code>LabeledSet</code> pour les données générées précédemment est <code>(d_desc,d_label)</code>."
   ]
  },
  {
   "cell_type": "markdown",
   "metadata": {
    "collapsed": true
   },
   "source": [
    "<font color=\"RED\" size=\"+1\">**[Q]**</font> En utilisant la fonction précédente, écrire la fonction <code>echantillonLS()</code> qui, étant donné un <code>LabeledSet</code> $LS$, un nombre entier $m$, et un booléen $r$ (avec ou sans remise) rend le <code>LabeledSet</code> échantillon de $LS$ de taille $m$. \n",
    "\n",
    "*Remarque*: on peut faire l'hypothèse que $m$ est inférieur ou égal au nombre de lignes de $LS$. \n"
   ]
  },
  {
   "cell_type": "code",
   "execution_count": 98,
   "metadata": {},
   "outputs": [
    {
     "data": {
      "text/plain": [
       "(array([[-1.54438272, -0.88907741],\n",
       "        [ 0.77653721,  1.71400049],\n",
       "        [-2.72491783, -1.56228753],\n",
       "        [-0.66873657, -0.02445487],\n",
       "        [ 1.58685709,  3.19045563],\n",
       "        [ 1.01300189,  2.45353408],\n",
       "        [-1.03582604,  0.56464366],\n",
       "        [-2.32818605, -0.80313876],\n",
       "        [-0.75803773, -2.91328024],\n",
       "        [-0.06230371,  1.47359243]]),\n",
       " array([ 1,  1,  1,  1, -1, -1,  1, -1, -1,  1]))"
      ]
     },
     "execution_count": 98,
     "metadata": {},
     "output_type": "execute_result"
    }
   ],
   "source": [
    "test , la = tirage(d_desc, 10 , True), tirage(d_label, 10 , True)\n",
    "test, la"
   ]
  },
  {
   "cell_type": "code",
   "execution_count": 100,
   "metadata": {},
   "outputs": [
    {
     "data": {
      "text/plain": [
       "array([0, 1, 2, 3, 4, 5])"
      ]
     },
     "execution_count": 100,
     "metadata": {},
     "output_type": "execute_result"
    }
   ],
   "source": [
    "np.arange(len([1,2,3,4,1,2]))"
   ]
  },
  {
   "cell_type": "code",
   "execution_count": 144,
   "metadata": {},
   "outputs": [],
   "source": [
    "def echantillonLS(LS ,m , r) : \n",
    "    d_desc , d_label = LS\n",
    "    index = tirage([i for i in range(d_desc.shape[0])] , m,r)\n",
    "    #print(index)\n",
    "    return d_desc[index, :] , d_label[index]\n",
    "    \n",
    "    #return tirage(d_desc , m , r) , tirage(d_label , m ,r )"
   ]
  },
  {
   "cell_type": "code",
   "execution_count": 145,
   "metadata": {},
   "outputs": [
    {
     "data": {
      "text/plain": [
       "(array([[-2.32818605, -0.80313876],\n",
       "        [ 0.02531833,  1.7870846 ],\n",
       "        [-0.26153342, -0.82863172],\n",
       "        [ 1.2766908 ,  1.82718325],\n",
       "        [ 1.25755039,  0.92555408],\n",
       "        [ 0.31997528,  1.2322537 ],\n",
       "        [-2.01283112, -0.68575267],\n",
       "        [-0.99488654, -1.23458713],\n",
       "        [-0.70387972, -0.73894473],\n",
       "        [ 0.31997528,  1.2322537 ]]),\n",
       " array([-1,  1, -1,  1,  1,  1, -1, -1, -1,  1]))"
      ]
     },
     "execution_count": 145,
     "metadata": {},
     "output_type": "execute_result"
    }
   ],
   "source": [
    "echantillonLS((d_desc,d_label),10,True)"
   ]
  },
  {
   "cell_type": "code",
   "execution_count": 146,
   "metadata": {},
   "outputs": [
    {
     "data": {
      "text/plain": [
       "(array([[ 2.14282281,  1.75193303],\n",
       "        [ 0.08057577,  2.54993441],\n",
       "        [-0.18747418,  0.35624003],\n",
       "        [ 1.22745993,  2.30714275],\n",
       "        [-0.35231146,  0.52302986],\n",
       "        [ 1.2766908 ,  1.82718325],\n",
       "        [ 0.77653721,  1.71400049],\n",
       "        [-1.60063869, -1.29169375],\n",
       "        [ 0.21674671,  0.67793848],\n",
       "        [ 1.21409374, -0.24573878]]),\n",
       " array([ 1,  1, -1,  1, -1,  1,  1, -1,  1,  1]))"
      ]
     },
     "execution_count": 146,
     "metadata": {},
     "output_type": "execute_result"
    }
   ],
   "source": [
    "echantillonLS((d_desc,d_label),10,False)"
   ]
  },
  {
   "cell_type": "markdown",
   "metadata": {},
   "source": [
    "<font color=\"RED\" size=\"+1\">**[Q]**</font> Ecrire la classe <code>ClassifierBaggingTree</code>, dérivée de la classe <code>Classifier</code>, qui permet d'implémenter un bagging d'arbres de décision (numériques). Les spécifications de cette classe sont :\n",
    "- la création de l'ensemble nécessite les paramètres suivants : \n",
    "    - le nombre $B$ d'arbres à construire, \n",
    "    - le pourcentage d'exemples de la base d'apprentissage utilisés pour constituer un échantillon, \n",
    "    - un booléen qui précise si un échantillon est tiré avec ou sans remise\n",
    "    - et la valeur de seuil d'entropie pour arrêter la construction de chaque arbre, \n",
    "- l'apprentissage (méthode <code>train()</code>) construit autant d'arbres que précisé à la création. Chaque arbre est construit à partir d'un échantillon de la base d'apprentissage (donnée sous forme d'un <code>LabeledSet</code>) donnée en argument. Les arbres construits sont stockés dans un ensemble Python.\n",
    "- la prédiction (méthode <code>predict()</code>) classe un exemple par vote de tous les arbres de la forêt. Si la somme des votes est positive ou nulle, la classe rendue est +1, sinon, la classe rendue est -1.\n"
   ]
  },
  {
   "cell_type": "code",
   "execution_count": 142,
   "metadata": {},
   "outputs": [],
   "source": [
    "class ClassifierBaggingTree(cl.Classifier):\n",
    "\n",
    "    ###### A COMPLETER\n",
    "    def __init__(self , B: int , p: float, seuil_entropie : float,  r : bool) : \n",
    "        self.nbAb = B \n",
    "        self.pourcent = p\n",
    "        self.seuil_entropie =seuil_entropie\n",
    "        self.r =r\n",
    "    \n",
    "    def train(self, LS) :\n",
    "        X, Y = LS \n",
    "        m =int(self.pourcent*X.shape[0])\n",
    "        self.ensemble_ab = []\n",
    "        for i in range(self.nbAb): \n",
    "            X ,Y  = echantillonLS(LS ,m, self.r)\n",
    "            ab = cl.ClassifierArbreNumerique(X.shape[1], self.seuil_entropie)\n",
    "            \n",
    "            ab.train(X, Y)\n",
    "            \n",
    "            self.ensemble_ab.append(ab)\n",
    "        self.ensemble_ab = set(self.ensemble_ab)\n",
    "    def predict(self, x): \n",
    "        sum = 0\n",
    "        for i in self.ensemble_ab :\n",
    "            sum+= i.predict(x)\n",
    "        return 1 if sum>= 0 else -1\n",
    "        "
   ]
  },
  {
   "cell_type": "code",
   "execution_count": 147,
   "metadata": {},
   "outputs": [
    {
     "name": "stdout",
     "output_type": "stream",
     "text": [
      "\n",
      "accuracy totale: 0.95\n"
     ]
    },
    {
     "data": {
      "image/png": "[encoded data removed]",
      "text/plain": [
       "<Figure size 432x288 with 1 Axes>"
      ]
     },
     "metadata": {
      "needs_background": "light"
     },
     "output_type": "display_data"
    }
   ],
   "source": [
    "random.seed(42)   # on prend 42 comme graine\n",
    "\n",
    "foret_1 = ClassifierBaggingTree(5,0.3,0.0,True)\n",
    "foret_1.train((d_desc,d_label))\n",
    "\n",
    "# Affichage de la frontière de séparation des classes\n",
    "ut.plot_frontiere(d_desc,d_label,foret_1,step=100)\n",
    "ut.plot2DSet(d_desc,d_label)\n",
    "\n",
    "print(\"\\naccuracy totale:\",foret_1.accuracy(d_desc,d_label))"
   ]
  },
  {
   "cell_type": "code",
   "execution_count": 20,
   "metadata": {},
   "outputs": [
    {
     "name": "stdout",
     "output_type": "stream",
     "text": [
      "\n",
      "accuracy totale: 0.95\n"
     ]
    },
    {
     "data": {
      "image/png": "[encoded data removed]",
      "text/plain": [
       "<Figure size 432x288 with 1 Axes>"
      ]
     },
     "metadata": {
      "needs_background": "light"
     },
     "output_type": "display_data"
    }
   ],
   "source": [
    "random.seed(42)   # on prend 42 comme graine\n",
    "\n",
    "foret_1 = ClassifierBaggingTree(5,0.3,0.0,True)\n",
    "foret_1.train((d_desc,d_label))\n",
    "\n",
    "# Affichage de la frontière de séparation des classes\n",
    "ut.plot_frontiere(d_desc,d_label,foret_1,step=100)\n",
    "ut.plot2DSet(d_desc,d_label)\n",
    "\n",
    "print(\"\\naccuracy totale:\",foret_1.accuracy(d_desc,d_label))"
   ]
  },
  {
   "cell_type": "markdown",
   "metadata": {},
   "source": [
    "### Expérimentations\n",
    "\n",
    "<font color=\"RED\" size=\"+1\">**[Q]**</font> Expérimenter l'algorithme précédent de la façon suivante :\n",
    "- générer un dataset de train $Data$ contenant 1000 exemples ;\n",
    "- générer une base de test $T$ contenant 200 exemples ;\n",
    "- réaliser un apprentissage par bagging avec $Data$ et évaluer le taux de prédiction du modèle obtenu sur $T$ ;\n",
    "- construire la courbe donnant le **taux d'erreur** obtenu en augmentant la taille de la forêt d'arbres de 1 à 20 arbres. \n",
    "\n",
    "**Remarque**: réinitialiser la graine aléatoire avant de construire une forêt."
   ]
  },
  {
   "cell_type": "code",
   "execution_count": 158,
   "metadata": {},
   "outputs": [
    {
     "data": {
      "text/plain": [
       "[<matplotlib.lines.Line2D at 0x7f3f26c07370>]"
      ]
     },
     "execution_count": 158,
     "metadata": {},
     "output_type": "execute_result"
    },
    {
     "data": {
      "image/png": "[encoded data removed]",
      "text/plain": [
       "<Figure size 432x288 with 1 Axes>"
      ]
     },
     "metadata": {
      "needs_background": "light"
     },
     "output_type": "display_data"
    }
   ],
   "source": [
    "#train_desc , train_label = ut.genere_dataset_uniform(2 , 2000 , -1 ,1 )\n",
    "train_desc , train_label = ut.genere_dataset_gaussian(np.array([1,1]),np.array([[1,0],[0,1]]),np.array([-0.5,-1]),np.array([[1,0],[0,1]]),2000)\n",
    "test_desc, test_label = ut.genere_dataset_gaussian(np.array([1,1]),np.array([[1,0],[0,1]]),np.array([-0.5,-1]),np.array([[1,0],[0,1]]),200)\n",
    "\n",
    "acc_train = []\n",
    "acc_test = []\n",
    "\n",
    "for i in range(1 ,21): \n",
    "    \n",
    "\n",
    "    foret_2 = ClassifierBaggingTree(i,0.75,0.0,True)\n",
    "    foret_2.train((d_desc,d_label))\n",
    "\n",
    "    acc_train.append(1- foret_2.accuracy(train_desc, train_label))\n",
    "    acc_test.append(1 -foret_2.accuracy(test_desc, test_label))\n",
    "\n",
    "plt.plot(np.arange(1,21) , acc_train, color = 'blue')\n",
    "plt.plot(np.arange(1,21) , acc_test, color = 'red')\n"
   ]
  },
  {
   "cell_type": "code",
   "execution_count": 21,
   "metadata": {},
   "outputs": [
    {
     "name": "stdout",
     "output_type": "stream",
     "text": [
      "Taille du train set généré : (200, 2) exemples\n",
      "Taille du test set généré : (1000, 2) exemples\n",
      "On choisit: 75% des exemples pour construire un arbre et seuil d'entropie à 0.0\n",
      "Tirage avec remise\n",
      "courbe bleue: train;\tcourbe rouge: test\n"
     ]
    },
    {
     "data": {
      "text/plain": [
       "[<matplotlib.lines.Line2D at 0x7fdf2095aa90>]"
      ]
     },
     "execution_count": 21,
     "metadata": {},
     "output_type": "execute_result"
    },
    {
     "data": {
      "image/png": "[encoded data removed]",
      "text/plain": [
       "<Figure size 432x288 with 1 Axes>"
      ]
     },
     "metadata": {
      "needs_background": "light"
     },
     "output_type": "display_data"
    }
   ],
   "source": []
  },
  {
   "cell_type": "markdown",
   "metadata": {},
   "source": [
    "## Random forests\n",
    "\n",
    "<font color=\"RED\" size=\"+1\"><b>[Q]</b></font> Ecrire et tester la classe <code>ClassifierRandomForest</code> qui implémente l'algorithme des random forests vu en cours.\n",
    "\n",
    "Pour cela, vous devrez:\n",
    "- définir une méthode <code>construit_AD_aleatoire(LS,epsilon,nb_att)</code> qui utilise $nb_att$ attributs choisis aléatoirement à chaque niveau de la construction de l'arbre\n",
    "- définir une nouvelle classe <code>ArbreDecisionAleatoire</code> qui étend la classe <code>ArbreDecision</code> en surchargeant la méthode <code>train</code>. Le constructeur d'un tel arbre prendra en argument le nombre d'attributs à utiliser lors de la construction de l'arbre.\n",
    "\n",
    "**Remarque:** pour expérimenter (selon le modèle de l'exemple précédent, il est plus intéressant d'avoir un dataset avec plus de 2 colonnes, vous pourrez donc prendre les datasets vus dans les tme précédent (iris, ou usks)."
   ]
  },
  {
   "cell_type": "code",
   "execution_count": 1,
   "metadata": {},
   "outputs": [],
   "source": [
    "def construit_AD_aleatoire(LS,epsilon,nb_att , inds): \n",
    "    X , Y = LS\n",
    "    Xtmp = X[: ,inds]\n",
    "    return cl.construit_AD_num(Xtmp , Y ,epsilon)"
   ]
  },
  {
   "cell_type": "code",
   "execution_count": null,
   "metadata": {},
   "outputs": [],
   "source": [
    "class ClassifierArbreDecisionAleatoire(cl.ClassifierArbreDecision) :\n",
    "    def __init__(self, input_dimension, epsilon) : \n",
    "        self.dimension = input_dimension\n",
    "        self.epsilon = epsilon\n",
    "        self.racine = None\n",
    "        \n",
    "    def train(self, desc_set, label_set) : \n",
    "        nb = desc_set.shape[1]\n",
    "        ind = tirage(range(nb) , self.dimension  , False)\n",
    "        ind.sort()\n",
    "        self.inds  = ind\n",
    "        self.racine = construit_AD_aleatoire((desc_set,label_set) , self.epsilon , self.inds)"
   ]
  },
  {
   "cell_type": "code",
   "execution_count": 4,
   "metadata": {},
   "outputs": [],
   "source": [
    "class ClassifierRandomForest(cl.Classifier): \n",
    "    def __init__(self, B ,pour_ex ,epsilon ,r ,p) : \n",
    "        self.B =B \n",
    "        self.pour_ex = pour_ex\n",
    "        self.r= r \n",
    "        self.epsilon = epsilon\n",
    "        self.p = p\n",
    "        \n",
    "        self.arbre =set()\n",
    "    def train (self, LS) : \n",
    "        X ,Y = LS\n",
    "        m = int(self.pour_ex * len(X))\n",
    "        ech = [echantillonLS(LS, m ,self.r) for i in range(self.B)]\n",
    "        for i in range(self.B):\n",
    "            Xtmp ,Ytmp = ech[i]\n",
    "            newab  = ClassifierArbreDecisionAleatoire(self.p  ,self.epsilon)\n",
    "            newab.train(Xtmp, Ytmp)\n",
    "            self.arbre.add(newab)\n",
    "    \n",
    "    def predict(self, x):\n",
    "        res = []\n",
    "        for ab in self.arbre:\n",
    "            res.append(ab.predict(x[arbre.inds]))\n",
    "        return cl.classe_majoritaire(res)\n",
    "    "
   ]
  },
  {
   "cell_type": "markdown",
   "metadata": {},
   "source": [
    "## Expérimentation\n",
    "\n",
    "<font color=\"RED\" size=\"+1\"><b>[Q]</b></font> Comparer le bagging d'arbres et les random forests sur d'autres bases d'apprentissage (réelles ou générées aléatoirement). Construire la courbe donnant le taux de prédiction pour une forêt d'arbres variant de 1 à 100 arbres (cela peut prendre du temps, tester sur un nombre réduit d'arbres dans un premier temps)."
   ]
  },
  {
   "cell_type": "markdown",
   "metadata": {},
   "source": [
    "## Exercices à faire chez vous (sur papier)\n",
    "\n",
    "Pour vous entraîner sans machine... *(exercice de l'examen 2017)*\n",
    "\n",
    "Soit $V=\\{v_{1}, v_{2},..., v_{n}\\}$ un ensemble de $n$ valeurs réelles ordonnées,\n",
    "  telles que $v_1 \\geq v_2 \\geq \\ldots \\geq v_{n}$.. On note $\\bar{v}$ la valeur moyenne de $V$. La variance de $V$, $var(V)$ est définie par:\n",
    "$var(V) = \\frac{1}{n} \\sum_{i=1}^{n} (v_{i} - \\bar{v})^2$. \n",
    "\n",
    "Et soit $W=\\{w_{1}, w_{2},..., w_{n}\\}$ tel que,pour tout $i=1,...,n$.\n",
    "\n",
    "\n",
    "<font color=\"RED\" size=\"+1\"><b>[Q]</b></font> Donner l'expression de $\\bar{v}$ en fonction des valeurs de $V$.\n",
    "\n",
    "<font color=\"RED\" size=\"+1\"><b>[Q]</b></font> Montrer que $var(aV+b) = a^2 var(V)$.\n",
    "\n",
    "<font color=\"RED\" size=\"+1\"><b>[Q]</b></font> Donner l'expression de $V\\cdot W$ (le produit scalaire) en fonction des coordonnées\n",
    "   de $V$ et de $W$.\n",
    "   \n",
    "<font color=\"RED\" size=\"+1\"><b>[Q]</b></font> Comment doit-on définir $W$ si on souhaite que $V\\cdot W = \\bar{v}$ ?\n",
    "\n",
    "\n",
    "<font color=\"RED\" size=\"+1\"><b>[Q]</b></font> Comment doit-on définir $W$ si on souhaite que\n",
    "   $V\\cdot W = \\displaystyle\\max_{i=1,...n} v_i$ ? Même question si on souhaite que\n",
    "   $V\\cdot W = \\displaystyle\\min_{i=1,...n} v_i$ ?\n",
    "\n",
    "<font color=\"RED\" size=\"+1\"><b>[Q]</b></font> Soit un entier $k$ tel que $0<k\\leq n$. Proposer une définition de $W$ qui, par le\n",
    "   calcul du produit scalaire, permet de ne tenir compte, de façon équitable, que des $k$\n",
    "   valeurs les plus élevées de $V$.\n",
    "\n"
   ]
  },
  {
   "cell_type": "markdown",
   "metadata": {},
   "source": [
    "## (optionnel) Evaluation par la méthode \"Out Of Bags\"\n",
    "\n",
    "<font color=\"RED\" size=\"+1\">**[Q]**</font> Sur les mêmes données, réaliser une évaluation par la méthode \"Out Of Bags\" vue en cours. Construire la courbe donnant le taux de prédiction OOB en fonction de la taille de la forêt d'arbres.\n",
    "\n",
    "Pour cela, écrire la classe <code>ClassifierBaggingTreeOOB</code> qui étend la classe d'un classifieur bagging pour prendre en compte la spécificité de l'approche OOB.\n",
    "Ainsi, à partir de $\\mathcal{X}$, l'ensemble des données d'apprentissage, chaque arbre $A_i$ de la forêt est associé à 2 sous-ensembles de $\\mathcal{X}$: \n",
    "- $\\mathcal{X}_i$: l'échantillon bootstrap qui sert à construire l'arbre $A_i$\n",
    "- $\\mathcal{T}_i$: l'ensemble des exemples OOB associés à l'arbre $A_i$\n",
    "\n",
    "Le calcul du taux de bonne classification s'effectuera comme suit:\n",
    "- soit $t_i$ le taux de bonne classification de $A_i$ pour l'ensemble OOB $\\mathcal{T}_i$\n",
    "- le taux de global de bonne classification de la forêt d'arbres $A_1$,..., $A_B$ est donné par $\\frac{1}{B}\\sum_{i=1}^{B} t_i$\n"
   ]
  },
  {
   "cell_type": "code",
   "execution_count": null,
   "metadata": {},
   "outputs": [],
   "source": []
  }
 ],
 "metadata": {
  "kernelspec": {
   "display_name": "Python 3 (ipykernel)",
   "language": "python",
   "name": "python3"
  },
  "language_info": {
   "codemirror_mode": {
    "name": "ipython",
    "version": 3
   },
   "file_extension": ".py",
   "mimetype": "text/x-python",
   "name": "python",
   "nbconvert_exporter": "python",
   "pygments_lexer": "ipython3",
   "version": "3.8.10"
  }
 },
 "nbformat": 4,
 "nbformat_minor": 1
}
